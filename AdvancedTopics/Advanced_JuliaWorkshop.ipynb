{
 "cells": [
  {
   "cell_type": "markdown",
   "source": [
    "# Adcanced Topics"
   ],
   "metadata": {}
  },
  {
   "cell_type": "markdown",
   "source": [
    "## Benchmarking"
   ],
   "metadata": {}
  },
  {
   "cell_type": "code",
   "execution_count": 10,
   "source": [
    "@time factorial(BigInt(40))"
   ],
   "outputs": [
    {
     "output_type": "stream",
     "name": "stdout",
     "text": [
      "  0.000009 seconds (5 allocations: 96 bytes)\n"
     ]
    },
    {
     "output_type": "execute_result",
     "data": {
      "text/plain": [
       "815915283247897734345611269596115894272000000000"
      ]
     },
     "metadata": {},
     "execution_count": 10
    }
   ],
   "metadata": {}
  },
  {
   "cell_type": "code",
   "execution_count": 15,
   "source": [
    "@time for i in 1:100\n",
    "    rand(10, 10)*rand(10, 10)\n",
    "end"
   ],
   "outputs": [
    {
     "output_type": "stream",
     "name": "stdout",
     "text": [
      "  0.000331 seconds (300 allocations: 262.500 KiB)\n"
     ]
    }
   ],
   "metadata": {}
  },
  {
   "cell_type": "code",
   "execution_count": 16,
   "source": [
    "using BenchmarkTools"
   ],
   "outputs": [],
   "metadata": {}
  },
  {
   "cell_type": "code",
   "execution_count": 19,
   "source": [
    "@btime for i in 1:100\n",
    "    rand(10, 10)*rand(10, 10)\n",
    "end"
   ],
   "outputs": [
    {
     "output_type": "stream",
     "name": "stdout",
     "text": [
      "  138.966 μs (300 allocations: 262.50 KiB)\n"
     ]
    }
   ],
   "metadata": {}
  },
  {
   "cell_type": "code",
   "execution_count": 20,
   "source": [
    "@benchmark for i in 1:100\n",
    "    rand(10, 10)*rand(10, 10)\n",
    "end"
   ],
   "outputs": [
    {
     "output_type": "execute_result",
     "data": {
      "text/plain": [
       "BenchmarkTools.Trial: 10000 samples with 1 evaluation.\n",
       " Range \u001b[90m(\u001b[39m\u001b[36m\u001b[1mmin\u001b[22m\u001b[39m … \u001b[35mmax\u001b[39m\u001b[90m):  \u001b[39m\u001b[36m\u001b[1m137.499 μs\u001b[22m\u001b[39m … \u001b[35m 2.185 ms\u001b[39m  \u001b[90m┊\u001b[39m GC \u001b[90m(\u001b[39mmin … max\u001b[90m): \u001b[39m0.00% … 82.02%\n",
       " Time  \u001b[90m(\u001b[39m\u001b[34m\u001b[1mmedian\u001b[22m\u001b[39m\u001b[90m):     \u001b[39m\u001b[34m\u001b[1m160.137 μs              \u001b[22m\u001b[39m\u001b[90m┊\u001b[39m GC \u001b[90m(\u001b[39mmedian\u001b[90m):    \u001b[39m0.00%\n",
       " Time  \u001b[90m(\u001b[39m\u001b[32m\u001b[1mmean\u001b[22m\u001b[39m ± \u001b[32mσ\u001b[39m\u001b[90m):   \u001b[39m\u001b[32m\u001b[1m188.509 μs\u001b[22m\u001b[39m ± \u001b[32m95.680 μs\u001b[39m  \u001b[90m┊\u001b[39m GC \u001b[90m(\u001b[39mmean ± σ\u001b[90m):  \u001b[39m2.83% ±  5.97%\n",
       "\n",
       "  \u001b[39m▂\u001b[39m█\u001b[39m▆\u001b[39m▆\u001b[34m▆\u001b[39m\u001b[39m▅\u001b[39m▄\u001b[39m▄\u001b[39m▄\u001b[39m▃\u001b[32m▃\u001b[39m\u001b[39m▃\u001b[39m▃\u001b[39m▃\u001b[39m▃\u001b[39m▂\u001b[39m▂\u001b[39m▂\u001b[39m▂\u001b[39m▂\u001b[39m▁\u001b[39m▁\u001b[39m▁\u001b[39m▁\u001b[39m▂\u001b[39m▁\u001b[39m▁\u001b[39m▁\u001b[39m \u001b[39m▁\u001b[39m \u001b[39m \u001b[39m \u001b[39m \u001b[39m \u001b[39m \u001b[39m \u001b[39m \u001b[39m \u001b[39m \u001b[39m \u001b[39m \u001b[39m \u001b[39m \u001b[39m \u001b[39m \u001b[39m \u001b[39m \u001b[39m \u001b[39m \u001b[39m \u001b[39m \u001b[39m \u001b[39m \u001b[39m \u001b[39m \u001b[39m \u001b[39m \u001b[39m \u001b[39m \u001b[39m \u001b[39m▂\n",
       "  \u001b[39m█\u001b[39m█\u001b[39m█\u001b[39m█\u001b[34m█\u001b[39m\u001b[39m█\u001b[39m█\u001b[39m█\u001b[39m█\u001b[39m█\u001b[32m█\u001b[39m\u001b[39m█\u001b[39m█\u001b[39m█\u001b[39m█\u001b[39m█\u001b[39m█\u001b[39m█\u001b[39m█\u001b[39m█\u001b[39m█\u001b[39m█\u001b[39m█\u001b[39m█\u001b[39m█\u001b[39m█\u001b[39m█\u001b[39m█\u001b[39m█\u001b[39m█\u001b[39m█\u001b[39m█\u001b[39m█\u001b[39m▆\u001b[39m█\u001b[39m▇\u001b[39m▇\u001b[39m▇\u001b[39m▆\u001b[39m▆\u001b[39m▆\u001b[39m▆\u001b[39m▆\u001b[39m▇\u001b[39m▆\u001b[39m▄\u001b[39m▆\u001b[39m▆\u001b[39m▆\u001b[39m▄\u001b[39m▄\u001b[39m▅\u001b[39m▅\u001b[39m▅\u001b[39m▄\u001b[39m▄\u001b[39m▅\u001b[39m▄\u001b[39m▄\u001b[39m▃\u001b[39m \u001b[39m█\n",
       "  137 μs\u001b[90m        \u001b[39m\u001b[90mHistogram: \u001b[39m\u001b[90m\u001b[1mlog(\u001b[22m\u001b[39m\u001b[90mfrequency\u001b[39m\u001b[90m\u001b[1m)\u001b[22m\u001b[39m\u001b[90m by time\u001b[39m       457 μs \u001b[0m\u001b[1m<\u001b[22m\n",
       "\n",
       " Memory estimate\u001b[90m: \u001b[39m\u001b[33m262.50 KiB\u001b[39m, allocs estimate\u001b[90m: \u001b[39m\u001b[33m300\u001b[39m."
      ]
     },
     "metadata": {},
     "execution_count": 20
    }
   ],
   "metadata": {}
  },
  {
   "cell_type": "markdown",
   "source": [
    "## Type System and Multiple Dispatch"
   ],
   "metadata": {}
  },
  {
   "cell_type": "markdown",
   "source": [
    "<img src=img-1.png>"
   ],
   "metadata": {}
  },
  {
   "cell_type": "code",
   "execution_count": 25,
   "source": [
    "methods(+)"
   ],
   "outputs": [
    {
     "output_type": "execute_result",
     "data": {
      "text/html": [
       "# 191 methods for generic function <b>+</b>:<ul><li> +(x::<b>T</b>, y::<b>T</b>)<i> where T<:Union{Int128, Int16, Int32, Int64, Int8, UInt128, UInt16, UInt32, UInt64, UInt8}</i> in Base at <a href=\"https://github.com/JuliaLang/julia/tree/9058264a69f9efc1af805c4473c946f87859b731/base/int.jl#L87\" target=\"_blank\">int.jl:87</a></li> <li> +(c::<b>Union{UInt16, UInt32, UInt64, UInt8}</b>, x::<b>BigInt</b>) in Base.GMP at <a href=\"https://github.com/JuliaLang/julia/tree/9058264a69f9efc1af805c4473c946f87859b731/base/gmp.jl#L528\" target=\"_blank\">gmp.jl:528</a></li> <li> +(c::<b>Union{Int16, Int32, Int64, Int8}</b>, x::<b>BigInt</b>) in Base.GMP at <a href=\"https://github.com/JuliaLang/julia/tree/9058264a69f9efc1af805c4473c946f87859b731/base/gmp.jl#L534\" target=\"_blank\">gmp.jl:534</a></li> <li> +(c::<b>Union{UInt16, UInt32, UInt64, UInt8}</b>, x::<b>BigFloat</b>) in Base.MPFR at <a href=\"https://github.com/JuliaLang/julia/tree/9058264a69f9efc1af805c4473c946f87859b731/base/mpfr.jl#L376\" target=\"_blank\">mpfr.jl:376</a></li> <li> +(c::<b>Union{Int16, Int32, Int64, Int8}</b>, x::<b>BigFloat</b>) in Base.MPFR at <a href=\"https://github.com/JuliaLang/julia/tree/9058264a69f9efc1af805c4473c946f87859b731/base/mpfr.jl#L384\" target=\"_blank\">mpfr.jl:384</a></li> <li> +(c::<b>Union{Float16, Float32, Float64}</b>, x::<b>BigFloat</b>) in Base.MPFR at <a href=\"https://github.com/JuliaLang/julia/tree/9058264a69f9efc1af805c4473c946f87859b731/base/mpfr.jl#L392\" target=\"_blank\">mpfr.jl:392</a></li> <li> +(x::<b>Union{Dates.CompoundPeriod, Dates.Period}</b>) in Dates at <a href=\"file:///builddir/build/BUILD/julia-1.6.5/build/usr/share/julia/stdlib/v1.6/Dates/src/periods.jl\" target=\"_blank\">/usr/share/julia/stdlib/v1.6/Dates/src/periods.jl:362</a></li> <li> +(A::<b>UpperHessenberg</b>, B::<b>UpperHessenberg</b>) in LinearAlgebra at <a href=\"file:///builddir/build/BUILD/julia-1.6.5/build/usr/share/julia/stdlib/v1.6/LinearAlgebra/src/hessenberg.jl\" target=\"_blank\">/usr/share/julia/stdlib/v1.6/LinearAlgebra/src/hessenberg.jl:101</a></li> <li> +(H::<b>UpperHessenberg</b>, J::<b>UniformScaling</b>) in LinearAlgebra at <a href=\"file:///builddir/build/BUILD/julia-1.6.5/build/usr/share/julia/stdlib/v1.6/LinearAlgebra/src/hessenberg.jl\" target=\"_blank\">/usr/share/julia/stdlib/v1.6/LinearAlgebra/src/hessenberg.jl:106</a></li> <li> +(Da::<b>Diagonal</b>, Db::<b>Diagonal</b>) in LinearAlgebra at <a href=\"file:///builddir/build/BUILD/julia-1.6.5/build/usr/share/julia/stdlib/v1.6/LinearAlgebra/src/diagonal.jl\" target=\"_blank\">/usr/share/julia/stdlib/v1.6/LinearAlgebra/src/diagonal.jl:156</a></li> <li> +(D::<b>Diagonal</b>, S::<b>Symmetric</b>) in LinearAlgebra at <a href=\"file:///builddir/build/BUILD/julia-1.6.5/build/usr/share/julia/stdlib/v1.6/LinearAlgebra/src/diagonal.jl\" target=\"_blank\">/usr/share/julia/stdlib/v1.6/LinearAlgebra/src/diagonal.jl:160</a></li> <li> +(D::<b>Diagonal{var\"#s814\", V} where {var\"#s814\"<:Real, V<:AbstractVector{var\"#s814\"}}</b>, H::<b>Hermitian</b>) in LinearAlgebra at <a href=\"file:///builddir/build/BUILD/julia-1.6.5/build/usr/share/julia/stdlib/v1.6/LinearAlgebra/src/diagonal.jl\" target=\"_blank\">/usr/share/julia/stdlib/v1.6/LinearAlgebra/src/diagonal.jl:166</a></li> <li> +(A::<b>Diagonal</b>, B::<b>Bidiagonal</b>) in LinearAlgebra at <a href=\"file:///builddir/build/BUILD/julia-1.6.5/build/usr/share/julia/stdlib/v1.6/LinearAlgebra/src/special.jl\" target=\"_blank\">/usr/share/julia/stdlib/v1.6/LinearAlgebra/src/special.jl:125</a></li> <li> +(A::<b>Diagonal</b>, B::<b>SymTridiagonal</b>) in LinearAlgebra at <a href=\"file:///builddir/build/BUILD/julia-1.6.5/build/usr/share/julia/stdlib/v1.6/LinearAlgebra/src/special.jl\" target=\"_blank\">/usr/share/julia/stdlib/v1.6/LinearAlgebra/src/special.jl:135</a></li> <li> +(A::<b>Diagonal</b>, B::<b>Tridiagonal</b>) in LinearAlgebra at <a href=\"file:///builddir/build/BUILD/julia-1.6.5/build/usr/share/julia/stdlib/v1.6/LinearAlgebra/src/special.jl\" target=\"_blank\">/usr/share/julia/stdlib/v1.6/LinearAlgebra/src/special.jl:163</a></li> <li> +(A::<b>Diagonal{var\"#s814\", V} where {var\"#s814\"<:Number, V<:AbstractVector{var\"#s814\"}}</b>, B::<b>UniformScaling</b>) in LinearAlgebra at <a href=\"file:///builddir/build/BUILD/julia-1.6.5/build/usr/share/julia/stdlib/v1.6/LinearAlgebra/src/special.jl\" target=\"_blank\">/usr/share/julia/stdlib/v1.6/LinearAlgebra/src/special.jl:241</a></li> <li> +(x::<b>Dates.Instant</b>) in Dates at <a href=\"file:///builddir/build/BUILD/julia-1.6.5/build/usr/share/julia/stdlib/v1.6/Dates/src/arithmetic.jl\" target=\"_blank\">/usr/share/julia/stdlib/v1.6/Dates/src/arithmetic.jl:4</a></li> <li> +(x::<b>Rational</b>, y::<b>Integer</b>) in Base at <a href=\"https://github.com/JuliaLang/julia/tree/9058264a69f9efc1af805c4473c946f87859b731/base/rational.jl#L289\" target=\"_blank\">rational.jl:289</a></li> <li> +(A::<b>SymTridiagonal</b>, B::<b>SymTridiagonal</b>) in LinearAlgebra at <a href=\"file:///builddir/build/BUILD/julia-1.6.5/build/usr/share/julia/stdlib/v1.6/LinearAlgebra/src/tridiag.jl\" target=\"_blank\">/usr/share/julia/stdlib/v1.6/LinearAlgebra/src/tridiag.jl:205</a></li> <li> +(A::<b>SymTridiagonal</b>, B::<b>Diagonal</b>) in LinearAlgebra at <a href=\"file:///builddir/build/BUILD/julia-1.6.5/build/usr/share/julia/stdlib/v1.6/LinearAlgebra/src/special.jl\" target=\"_blank\">/usr/share/julia/stdlib/v1.6/LinearAlgebra/src/special.jl:145</a></li> <li> +(A::<b>SymTridiagonal</b>, B::<b>Tridiagonal</b>) in LinearAlgebra at <a href=\"file:///builddir/build/BUILD/julia-1.6.5/build/usr/share/julia/stdlib/v1.6/LinearAlgebra/src/special.jl\" target=\"_blank\">/usr/share/julia/stdlib/v1.6/LinearAlgebra/src/special.jl:159</a></li> <li> +(A::<b>SymTridiagonal</b>, B::<b>Bidiagonal</b>) in LinearAlgebra at <a href=\"file:///builddir/build/BUILD/julia-1.6.5/build/usr/share/julia/stdlib/v1.6/LinearAlgebra/src/special.jl\" target=\"_blank\">/usr/share/julia/stdlib/v1.6/LinearAlgebra/src/special.jl:213</a></li> <li> +(A::<b>SymTridiagonal{var\"#s814\", V} where {var\"#s814\"<:Number, V<:AbstractVector{var\"#s814\"}}</b>, B::<b>UniformScaling</b>) in LinearAlgebra at <a href=\"file:///builddir/build/BUILD/julia-1.6.5/build/usr/share/julia/stdlib/v1.6/LinearAlgebra/src/special.jl\" target=\"_blank\">/usr/share/julia/stdlib/v1.6/LinearAlgebra/src/special.jl:231</a></li> <li> +(A::<b>UnitUpperTriangular</b>, B::<b>UpperTriangular</b>) in LinearAlgebra at <a href=\"file:///builddir/build/BUILD/julia-1.6.5/build/usr/share/julia/stdlib/v1.6/LinearAlgebra/src/triangular.jl\" target=\"_blank\">/usr/share/julia/stdlib/v1.6/LinearAlgebra/src/triangular.jl:652</a></li> <li> +(A::<b>UnitUpperTriangular</b>, B::<b>UnitUpperTriangular</b>) in LinearAlgebra at <a href=\"file:///builddir/build/BUILD/julia-1.6.5/build/usr/share/julia/stdlib/v1.6/LinearAlgebra/src/triangular.jl\" target=\"_blank\">/usr/share/julia/stdlib/v1.6/LinearAlgebra/src/triangular.jl:654</a></li> <li> +(UL::<b>UnitUpperTriangular</b>, J::<b>UniformScaling</b>) in LinearAlgebra at <a href=\"file:///builddir/build/BUILD/julia-1.6.5/build/usr/share/julia/stdlib/v1.6/LinearAlgebra/src/uniformscaling.jl\" target=\"_blank\">/usr/share/julia/stdlib/v1.6/LinearAlgebra/src/uniformscaling.jl:182</a></li> <li> +(A::<b>UnitUpperTriangular</b>, B::<b>Bidiagonal</b>) in LinearAlgebra at <a href=\"file:///builddir/build/BUILD/julia-1.6.5/build/usr/share/julia/stdlib/v1.6/LinearAlgebra/src/special.jl\" target=\"_blank\">/usr/share/julia/stdlib/v1.6/LinearAlgebra/src/special.jl:86</a></li> <li> +(r1::<b>LinRange{T}</b>, r2::<b>LinRange{T}</b>)<i> where T</i> in Base at <a href=\"https://github.com/JuliaLang/julia/tree/9058264a69f9efc1af805c4473c946f87859b731/base/range.jl#L1110\" target=\"_blank\">range.jl:1110</a></li> <li> +(A::<b>SparseArrays.AbstractSparseMatrix{Tv, Ti} where {Tv, Ti}</b>, B::<b>Hermitian{var\"#s814\", var\"#s813\"} where {var\"#s814\", var\"#s813\"<:(SparseArrays.AbstractSparseMatrix{Tv, Ti} where {Tv, Ti})}</b>) in SparseArrays at <a href=\"file:///builddir/build/BUILD/julia-1.6.5/build/usr/share/julia/stdlib/v1.6/SparseArrays/src/linalg.jl\" target=\"_blank\">/usr/share/julia/stdlib/v1.6/SparseArrays/src/linalg.jl:14</a></li> <li> +(A::<b>SparseArrays.AbstractSparseMatrix{Tv, Ti} where {Tv, Ti}</b>, B::<b>Hermitian</b>) in SparseArrays at <a href=\"file:///builddir/build/BUILD/julia-1.6.5/build/usr/share/julia/stdlib/v1.6/SparseArrays/src/linalg.jl\" target=\"_blank\">/usr/share/julia/stdlib/v1.6/SparseArrays/src/linalg.jl:17</a></li> <li> +(A::<b>SparseArrays.AbstractSparseMatrix{Tv, Ti} where {Tv, Ti}</b>, B::<b>Symmetric{var\"#s814\", var\"#s813\"} where {var\"#s814\", var\"#s813\"<:(SparseArrays.AbstractSparseMatrix{Tv, Ti} where {Tv, Ti})}</b>) in SparseArrays at <a href=\"file:///builddir/build/BUILD/julia-1.6.5/build/usr/share/julia/stdlib/v1.6/SparseArrays/src/linalg.jl\" target=\"_blank\">/usr/share/julia/stdlib/v1.6/SparseArrays/src/linalg.jl:14</a></li> <li> +(A::<b>SparseArrays.AbstractSparseMatrix{Tv, Ti} where {Tv, Ti}</b>, B::<b>Symmetric</b>) in SparseArrays at <a href=\"file:///builddir/build/BUILD/julia-1.6.5/build/usr/share/julia/stdlib/v1.6/SparseArrays/src/linalg.jl\" target=\"_blank\">/usr/share/julia/stdlib/v1.6/SparseArrays/src/linalg.jl:17</a></li> <li> +(x::<b>AbstractIrrational</b>, y::<b>AbstractIrrational</b>) in Base at <a href=\"https://github.com/JuliaLang/julia/tree/9058264a69f9efc1af805c4473c946f87859b731/base/irrationals.jl#L156\" target=\"_blank\">irrationals.jl:156</a></li> <li> +(r1::<b>OrdinalRange</b>, r2::<b>OrdinalRange</b>) in Base at <a href=\"https://github.com/JuliaLang/julia/tree/9058264a69f9efc1af805c4473c946f87859b731/base/range.jl#L1103\" target=\"_blank\">range.jl:1103</a></li> <li> +(A::<b>UpperTriangular</b>, B::<b>UpperTriangular</b>) in LinearAlgebra at <a href=\"file:///builddir/build/BUILD/julia-1.6.5/build/usr/share/julia/stdlib/v1.6/LinearAlgebra/src/triangular.jl\" target=\"_blank\">/usr/share/julia/stdlib/v1.6/LinearAlgebra/src/triangular.jl:648</a></li> <li> +(A::<b>UpperTriangular</b>, B::<b>UnitUpperTriangular</b>) in LinearAlgebra at <a href=\"file:///builddir/build/BUILD/julia-1.6.5/build/usr/share/julia/stdlib/v1.6/LinearAlgebra/src/triangular.jl\" target=\"_blank\">/usr/share/julia/stdlib/v1.6/LinearAlgebra/src/triangular.jl:650</a></li> <li> +(A::<b>UpperTriangular</b>, B::<b>Bidiagonal</b>) in LinearAlgebra at <a href=\"file:///builddir/build/BUILD/julia-1.6.5/build/usr/share/julia/stdlib/v1.6/LinearAlgebra/src/special.jl\" target=\"_blank\">/usr/share/julia/stdlib/v1.6/LinearAlgebra/src/special.jl:86</a></li> <li> +(A::<b>Symmetric</b>, B::<b>Symmetric</b>) in LinearAlgebra at <a href=\"file:///builddir/build/BUILD/julia-1.6.5/build/usr/share/julia/stdlib/v1.6/LinearAlgebra/src/symmetric.jl\" target=\"_blank\">/usr/share/julia/stdlib/v1.6/LinearAlgebra/src/symmetric.jl:469</a></li> <li> +(S::<b>Symmetric</b>, D::<b>Diagonal</b>) in LinearAlgebra at <a href=\"file:///builddir/build/BUILD/julia-1.6.5/build/usr/share/julia/stdlib/v1.6/LinearAlgebra/src/diagonal.jl\" target=\"_blank\">/usr/share/julia/stdlib/v1.6/LinearAlgebra/src/diagonal.jl:163</a></li> <li> +(A::<b>Symmetric{var\"#s812\", var\"#s811\"} where {var\"#s812\", var\"#s811\"<:(SparseArrays.AbstractSparseMatrix{Tv, Ti} where {Tv, Ti})}</b>, B::<b>SparseArrays.AbstractSparseMatrix{Tv, Ti} where {Tv, Ti}</b>) in SparseArrays at <a href=\"file:///builddir/build/BUILD/julia-1.6.5/build/usr/share/julia/stdlib/v1.6/SparseArrays/src/linalg.jl\" target=\"_blank\">/usr/share/julia/stdlib/v1.6/SparseArrays/src/linalg.jl:15</a></li> <li> +(A::<b>Symmetric</b>, B::<b>SparseArrays.AbstractSparseMatrix{Tv, Ti} where {Tv, Ti}</b>) in SparseArrays at <a href=\"file:///builddir/build/BUILD/julia-1.6.5/build/usr/share/julia/stdlib/v1.6/SparseArrays/src/linalg.jl\" target=\"_blank\">/usr/share/julia/stdlib/v1.6/SparseArrays/src/linalg.jl:18</a></li> <li> +(A::<b>Symmetric{var\"#s806\", var\"#s805\"} where {var\"#s806\"<:Real, var\"#s805\"<:(SparseArrays.AbstractSparseMatrix{Tv, Ti} where {Tv, Ti})}</b>, B::<b>Hermitian{var\"#s804\", var\"#s803\"} where {var\"#s804\", var\"#s803\"<:(SparseArrays.AbstractSparseMatrix{Tv, Ti} where {Tv, Ti})}</b>) in SparseArrays at <a href=\"file:///builddir/build/BUILD/julia-1.6.5/build/usr/share/julia/stdlib/v1.6/SparseArrays/src/linalg.jl\" target=\"_blank\">/usr/share/julia/stdlib/v1.6/SparseArrays/src/linalg.jl:25</a></li> <li> +(A::<b>Symmetric{var\"#s813\", S} where {var\"#s813\"<:Real, S<:(AbstractMatrix{var\"#s814\"} where var\"#s814\"<:var\"#s813\")}</b>, B::<b>Hermitian</b>) in LinearAlgebra at <a href=\"file:///builddir/build/BUILD/julia-1.6.5/build/usr/share/julia/stdlib/v1.6/LinearAlgebra/src/symmetric.jl\" target=\"_blank\">/usr/share/julia/stdlib/v1.6/LinearAlgebra/src/symmetric.jl:484</a></li> <li> +(A::<b>Symmetric{var\"#s814\", var\"#s813\"} where {var\"#s814\", var\"#s813\"<:(SparseArrays.AbstractSparseMatrix{Tv, Ti} where {Tv, Ti})}</b>, B::<b>Hermitian{var\"#s812\", var\"#s811\"} where {var\"#s812\", var\"#s811\"<:(SparseArrays.AbstractSparseMatrix{Tv, Ti} where {Tv, Ti})}</b>) in SparseArrays at <a href=\"file:///builddir/build/BUILD/julia-1.6.5/build/usr/share/julia/stdlib/v1.6/SparseArrays/src/linalg.jl\" target=\"_blank\">/usr/share/julia/stdlib/v1.6/SparseArrays/src/linalg.jl:23</a></li> <li> +(A::<b>Array</b>, Bs::<b>Array...</b>) in Base at <a href=\"https://github.com/JuliaLang/julia/tree/9058264a69f9efc1af805c4473c946f87859b731/base/arraymath.jl#L43\" target=\"_blank\">arraymath.jl:43</a></li> <li> +(X::<b>StridedArray{var\"#s814\", N} where {var\"#s814\"<:Union{Dates.CompoundPeriod, Dates.Period}, N}</b>, Y::<b>StridedArray{var\"#s813\", N} where {var\"#s813\"<:Union{Dates.CompoundPeriod, Dates.Period}, N}</b>) in Dates at <a href=\"file:///builddir/build/BUILD/julia-1.6.5/build/usr/share/julia/stdlib/v1.6/Dates/src/deprecated.jl\" target=\"_blank\">/usr/share/julia/stdlib/v1.6/Dates/src/deprecated.jl:62</a></li> <li> +(A::<b>Array</b>, B::<b>SparseArrays.AbstractSparseMatrixCSC</b>) in SparseArrays at <a href=\"file:///builddir/build/BUILD/julia-1.6.5/build/usr/share/julia/stdlib/v1.6/SparseArrays/src/sparsematrix.jl\" target=\"_blank\">/usr/share/julia/stdlib/v1.6/SparseArrays/src/sparsematrix.jl:1745</a></li> <li> +(x::<b>StridedArray{var\"#s814\", N} where {var\"#s814\"<:Union{Dates.CompoundPeriod, Dates.Period}, N}</b>) in Dates at <a href=\"file:///builddir/build/BUILD/julia-1.6.5/build/usr/share/julia/stdlib/v1.6/Dates/src/deprecated.jl\" target=\"_blank\">/usr/share/julia/stdlib/v1.6/Dates/src/deprecated.jl:55</a></li> <li> +(x::<b>StridedArray{var\"#s814\", N} where {var\"#s814\"<:Union{Dates.CompoundPeriod, Dates.Period}, N}</b>, y::<b>Dates.TimeType</b>) in Dates at <a href=\"file:///builddir/build/BUILD/julia-1.6.5/build/usr/share/julia/stdlib/v1.6/Dates/src/deprecated.jl\" target=\"_blank\">/usr/share/julia/stdlib/v1.6/Dates/src/deprecated.jl:10</a></li> <li> +(y::<b>AbstractFloat</b>, x::<b>Bool</b>) in Base at <a href=\"https://github.com/JuliaLang/julia/tree/9058264a69f9efc1af805c4473c946f87859b731/base/bool.jl#L102\" target=\"_blank\">bool.jl:102</a></li> <li> +(A::<b>Tridiagonal</b>, B::<b>Tridiagonal</b>) in LinearAlgebra at <a href=\"file:///builddir/build/BUILD/julia-1.6.5/build/usr/share/julia/stdlib/v1.6/LinearAlgebra/src/tridiag.jl\" target=\"_blank\">/usr/share/julia/stdlib/v1.6/LinearAlgebra/src/tridiag.jl:733</a></li> <li> +(A::<b>Tridiagonal</b>, B::<b>SymTridiagonal</b>) in LinearAlgebra at <a href=\"file:///builddir/build/BUILD/julia-1.6.5/build/usr/share/julia/stdlib/v1.6/LinearAlgebra/src/special.jl\" target=\"_blank\">/usr/share/julia/stdlib/v1.6/LinearAlgebra/src/special.jl:157</a></li> <li> +(A::<b>Tridiagonal</b>, B::<b>Diagonal</b>) in LinearAlgebra at <a href=\"file:///builddir/build/BUILD/julia-1.6.5/build/usr/share/julia/stdlib/v1.6/LinearAlgebra/src/special.jl\" target=\"_blank\">/usr/share/julia/stdlib/v1.6/LinearAlgebra/src/special.jl:173</a></li> <li> +(A::<b>Tridiagonal</b>, B::<b>Bidiagonal</b>) in LinearAlgebra at <a href=\"file:///builddir/build/BUILD/julia-1.6.5/build/usr/share/julia/stdlib/v1.6/LinearAlgebra/src/special.jl\" target=\"_blank\">/usr/share/julia/stdlib/v1.6/LinearAlgebra/src/special.jl:193</a></li> <li> +(A::<b>Tridiagonal{var\"#s814\", V} where {var\"#s814\"<:Number, V<:AbstractVector{var\"#s814\"}}</b>, B::<b>UniformScaling</b>) in LinearAlgebra at <a href=\"file:///builddir/build/BUILD/julia-1.6.5/build/usr/share/julia/stdlib/v1.6/LinearAlgebra/src/special.jl\" target=\"_blank\">/usr/share/julia/stdlib/v1.6/LinearAlgebra/src/special.jl:226</a></li> <li> +(A::<b>LowerTriangular</b>, B::<b>LowerTriangular</b>) in LinearAlgebra at <a href=\"file:///builddir/build/BUILD/julia-1.6.5/build/usr/share/julia/stdlib/v1.6/LinearAlgebra/src/triangular.jl\" target=\"_blank\">/usr/share/julia/stdlib/v1.6/LinearAlgebra/src/triangular.jl:649</a></li> <li> +(A::<b>LowerTriangular</b>, B::<b>UnitLowerTriangular</b>) in LinearAlgebra at <a href=\"file:///builddir/build/BUILD/julia-1.6.5/build/usr/share/julia/stdlib/v1.6/LinearAlgebra/src/triangular.jl\" target=\"_blank\">/usr/share/julia/stdlib/v1.6/LinearAlgebra/src/triangular.jl:651</a></li> <li> +(A::<b>LowerTriangular</b>, B::<b>Bidiagonal</b>) in LinearAlgebra at <a href=\"file:///builddir/build/BUILD/julia-1.6.5/build/usr/share/julia/stdlib/v1.6/LinearAlgebra/src/special.jl\" target=\"_blank\">/usr/share/julia/stdlib/v1.6/LinearAlgebra/src/special.jl:86</a></li> <li> +(A::<b>BitArray</b>, B::<b>BitArray</b>) in Base at <a href=\"https://github.com/JuliaLang/julia/tree/9058264a69f9efc1af805c4473c946f87859b731/base/bitarray.jl#L1127\" target=\"_blank\">bitarray.jl:1127</a></li> <li> +(x::<b>Ptr</b>, y::<b>Integer</b>) in Base at <a href=\"https://github.com/JuliaLang/julia/tree/9058264a69f9efc1af805c4473c946f87859b731/base/pointer.jl#L159\" target=\"_blank\">pointer.jl:159</a></li> <li> +(x::<b>Base.TwicePrecision</b>, y::<b>Number</b>) in Base at <a href=\"https://github.com/JuliaLang/julia/tree/9058264a69f9efc1af805c4473c946f87859b731/base/twiceprecision.jl#L267\" target=\"_blank\">twiceprecision.jl:267</a></li> <li> +(x::<b>Base.TwicePrecision{T}</b>, y::<b>Base.TwicePrecision{T}</b>)<i> where T</i> in Base at <a href=\"https://github.com/JuliaLang/julia/tree/9058264a69f9efc1af805c4473c946f87859b731/base/twiceprecision.jl#L273\" target=\"_blank\">twiceprecision.jl:273</a></li> <li> +(x::<b>Base.TwicePrecision</b>, y::<b>Base.TwicePrecision</b>) in Base at <a href=\"https://github.com/JuliaLang/julia/tree/9058264a69f9efc1af805c4473c946f87859b731/base/twiceprecision.jl#L278\" target=\"_blank\">twiceprecision.jl:278</a></li> <li> +(z::<b>Complex</b>, w::<b>Complex</b>) in Base at <a href=\"https://github.com/JuliaLang/julia/tree/9058264a69f9efc1af805c4473c946f87859b731/base/complex.jl#L275\" target=\"_blank\">complex.jl:275</a></li> <li> +(A::<b>SparseArrays.AbstractSparseMatrixCSC</b>, B::<b>SparseArrays.AbstractSparseMatrixCSC</b>) in SparseArrays at <a href=\"file:///builddir/build/BUILD/julia-1.6.5/build/usr/share/julia/stdlib/v1.6/SparseArrays/src/sparsematrix.jl\" target=\"_blank\">/usr/share/julia/stdlib/v1.6/SparseArrays/src/sparsematrix.jl:1741</a></li> <li> +(x::<b>SparseArrays.AbstractSparseVector{Tv, Ti} where {Tv, Ti}</b>, y::<b>SparseArrays.AbstractSparseVector{Tv, Ti} where {Tv, Ti}</b>) in SparseArrays at <a href=\"file:///builddir/build/BUILD/julia-1.6.5/build/usr/share/julia/stdlib/v1.6/SparseArrays/src/sparsevector.jl\" target=\"_blank\">/usr/share/julia/stdlib/v1.6/SparseArrays/src/sparsevector.jl:1345</a></li> <li> +(A::<b>SparseArrays.AbstractSparseMatrixCSC</b>, B::<b>Array</b>) in SparseArrays at <a href=\"file:///builddir/build/BUILD/julia-1.6.5/build/usr/share/julia/stdlib/v1.6/SparseArrays/src/sparsematrix.jl\" target=\"_blank\">/usr/share/julia/stdlib/v1.6/SparseArrays/src/sparsematrix.jl:1744</a></li> <li> +(A::<b>SparseArrays.AbstractSparseMatrixCSC</b>, J::<b>UniformScaling</b>) in SparseArrays at <a href=\"file:///builddir/build/BUILD/julia-1.6.5/build/usr/share/julia/stdlib/v1.6/SparseArrays/src/sparsematrix.jl\" target=\"_blank\">/usr/share/julia/stdlib/v1.6/SparseArrays/src/sparsematrix.jl:3797</a></li> <li> +(x::<b>P</b>, y::<b>P</b>)<i> where P<:Dates.Period</i> in Dates at <a href=\"file:///builddir/build/BUILD/julia-1.6.5/build/usr/share/julia/stdlib/v1.6/Dates/src/periods.jl\" target=\"_blank\">/usr/share/julia/stdlib/v1.6/Dates/src/periods.jl:79</a></li> <li> +(x::<b>Dates.Period</b>, y::<b>Dates.Period</b>) in Dates at <a href=\"file:///builddir/build/BUILD/julia-1.6.5/build/usr/share/julia/stdlib/v1.6/Dates/src/periods.jl\" target=\"_blank\">/usr/share/julia/stdlib/v1.6/Dates/src/periods.jl:351</a></li> <li> +(y::<b>Dates.Period</b>, x::<b>Dates.CompoundPeriod</b>) in Dates at <a href=\"file:///builddir/build/BUILD/julia-1.6.5/build/usr/share/julia/stdlib/v1.6/Dates/src/periods.jl\" target=\"_blank\">/usr/share/julia/stdlib/v1.6/Dates/src/periods.jl:353</a></li> <li> +(y::<b>Dates.Period</b>, x::<b>Dates.TimeType</b>) in Dates at <a href=\"file:///builddir/build/BUILD/julia-1.6.5/build/usr/share/julia/stdlib/v1.6/Dates/src/arithmetic.jl\" target=\"_blank\">/usr/share/julia/stdlib/v1.6/Dates/src/arithmetic.jl:85</a></li> <li> +(x::<b>Dates.Period</b>, r::<b>AbstractRange{var\"#s814\"} where var\"#s814\"<:Dates.TimeType</b>) in Dates at <a href=\"file:///builddir/build/BUILD/julia-1.6.5/build/usr/share/julia/stdlib/v1.6/Dates/src/ranges.jl\" target=\"_blank\">/usr/share/julia/stdlib/v1.6/Dates/src/ranges.jl:62</a></li> <li> +(y::<b>Union{Dates.CompoundPeriod, Dates.Period}</b>, x::<b>AbstractArray{var\"#s814\", N} where {var\"#s814\"<:Dates.TimeType, N}</b>) in Dates at <a href=\"file:///builddir/build/BUILD/julia-1.6.5/build/usr/share/julia/stdlib/v1.6/Dates/src/deprecated.jl\" target=\"_blank\">/usr/share/julia/stdlib/v1.6/Dates/src/deprecated.jl:14</a></li> <li> +(r1::<b>StepRangeLen{T, R, S} where S</b>, r2::<b>StepRangeLen{T, R, S} where S</b>)<i> where {R<:Base.TwicePrecision, T}</i> in Base at <a href=\"https://github.com/JuliaLang/julia/tree/9058264a69f9efc1af805c4473c946f87859b731/base/twiceprecision.jl#L574\" target=\"_blank\">twiceprecision.jl:574</a></li> <li> +(r1::<b>StepRangeLen{T, S, S1} where S1</b>, r2::<b>StepRangeLen{T, S, S1} where S1</b>)<i> where {T, S}</i> in Base at <a href=\"https://github.com/JuliaLang/julia/tree/9058264a69f9efc1af805c4473c946f87859b731/base/range.jl#L1126\" target=\"_blank\">range.jl:1126</a></li> <li> +(r1::<b>Union{LinRange, OrdinalRange, StepRangeLen}</b>, r2::<b>Union{LinRange, OrdinalRange, StepRangeLen}</b>) in Base at <a href=\"https://github.com/JuliaLang/julia/tree/9058264a69f9efc1af805c4473c946f87859b731/base/range.jl#L1119\" target=\"_blank\">range.jl:1119</a></li> <li> +(J::<b>UniformScaling</b>) in LinearAlgebra at <a href=\"file:///builddir/build/BUILD/julia-1.6.5/build/usr/share/julia/stdlib/v1.6/LinearAlgebra/src/uniformscaling.jl\" target=\"_blank\">/usr/share/julia/stdlib/v1.6/LinearAlgebra/src/uniformscaling.jl:150</a></li> <li> +(J::<b>UniformScaling</b>, x::<b>Number</b>) in LinearAlgebra at <a href=\"file:///builddir/build/BUILD/julia-1.6.5/build/usr/share/julia/stdlib/v1.6/LinearAlgebra/src/uniformscaling.jl\" target=\"_blank\">/usr/share/julia/stdlib/v1.6/LinearAlgebra/src/uniformscaling.jl:145</a></li> <li> +(J1::<b>UniformScaling</b>, J2::<b>UniformScaling</b>) in LinearAlgebra at <a href=\"file:///builddir/build/BUILD/julia-1.6.5/build/usr/share/julia/stdlib/v1.6/LinearAlgebra/src/uniformscaling.jl\" target=\"_blank\">/usr/share/julia/stdlib/v1.6/LinearAlgebra/src/uniformscaling.jl:151</a></li> <li> +(J::<b>UniformScaling</b>, B::<b>BitMatrix</b>) in LinearAlgebra at <a href=\"file:///builddir/build/BUILD/julia-1.6.5/build/usr/share/julia/stdlib/v1.6/LinearAlgebra/src/uniformscaling.jl\" target=\"_blank\">/usr/share/julia/stdlib/v1.6/LinearAlgebra/src/uniformscaling.jl:153</a></li> <li> +(J::<b>UniformScaling</b>, F::<b>Hessenberg</b>) in LinearAlgebra at <a href=\"file:///builddir/build/BUILD/julia-1.6.5/build/usr/share/julia/stdlib/v1.6/LinearAlgebra/src/hessenberg.jl\" target=\"_blank\">/usr/share/julia/stdlib/v1.6/LinearAlgebra/src/hessenberg.jl:560</a></li> <li> +(A::<b>UniformScaling</b>, B::<b>Tridiagonal{var\"#s814\", V} where {var\"#s814\"<:Number, V<:AbstractVector{var\"#s814\"}}</b>) in LinearAlgebra at <a href=\"file:///builddir/build/BUILD/julia-1.6.5/build/usr/share/julia/stdlib/v1.6/LinearAlgebra/src/special.jl\" target=\"_blank\">/usr/share/julia/stdlib/v1.6/LinearAlgebra/src/special.jl:245</a></li> <li> +(A::<b>UniformScaling</b>, B::<b>SymTridiagonal{var\"#s814\", V} where {var\"#s814\"<:Number, V<:AbstractVector{var\"#s814\"}}</b>) in LinearAlgebra at <a href=\"file:///builddir/build/BUILD/julia-1.6.5/build/usr/share/julia/stdlib/v1.6/LinearAlgebra/src/special.jl\" target=\"_blank\">/usr/share/julia/stdlib/v1.6/LinearAlgebra/src/special.jl:250</a></li> <li> +(A::<b>UniformScaling</b>, B::<b>Bidiagonal{var\"#s814\", V} where {var\"#s814\"<:Number, V<:AbstractVector{var\"#s814\"}}</b>) in LinearAlgebra at <a href=\"file:///builddir/build/BUILD/julia-1.6.5/build/usr/share/julia/stdlib/v1.6/LinearAlgebra/src/special.jl\" target=\"_blank\">/usr/share/julia/stdlib/v1.6/LinearAlgebra/src/special.jl:255</a></li> <li> +(A::<b>UniformScaling</b>, B::<b>Diagonal{var\"#s814\", V} where {var\"#s814\"<:Number, V<:AbstractVector{var\"#s814\"}}</b>) in LinearAlgebra at <a href=\"file:///builddir/build/BUILD/julia-1.6.5/build/usr/share/julia/stdlib/v1.6/LinearAlgebra/src/special.jl\" target=\"_blank\">/usr/share/julia/stdlib/v1.6/LinearAlgebra/src/special.jl:260</a></li> <li> +(J::<b>UniformScaling</b>, A::<b>AbstractMatrix{T} where T</b>) in LinearAlgebra at <a href=\"file:///builddir/build/BUILD/julia-1.6.5/build/usr/share/julia/stdlib/v1.6/LinearAlgebra/src/uniformscaling.jl\" target=\"_blank\">/usr/share/julia/stdlib/v1.6/LinearAlgebra/src/uniformscaling.jl:154</a></li> <li> +(index1::<b>CartesianIndex{N}</b>, index2::<b>CartesianIndex{N}</b>)<i> where N</i> in Base.IteratorsMD at <a href=\"https://github.com/JuliaLang/julia/tree/9058264a69f9efc1af805c4473c946f87859b731/base/multidimensional.jl#L114\" target=\"_blank\">multidimensional.jl:114</a></li> <li> +(r::<b>AbstractRange{var\"#s814\"} where var\"#s814\"<:Dates.TimeType</b>, x::<b>Dates.Period</b>) in Dates at <a href=\"file:///builddir/build/BUILD/julia-1.6.5/build/usr/share/julia/stdlib/v1.6/Dates/src/ranges.jl\" target=\"_blank\">/usr/share/julia/stdlib/v1.6/Dates/src/ranges.jl:63</a></li> <li> +(A::<b>Hermitian</b>, B::<b>Hermitian</b>) in LinearAlgebra at <a href=\"file:///builddir/build/BUILD/julia-1.6.5/build/usr/share/julia/stdlib/v1.6/LinearAlgebra/src/symmetric.jl\" target=\"_blank\">/usr/share/julia/stdlib/v1.6/LinearAlgebra/src/symmetric.jl:469</a></li> <li> +(H::<b>Hermitian</b>, D::<b>Diagonal{var\"#s814\", V} where {var\"#s814\"<:Real, V<:AbstractVector{var\"#s814\"}}</b>) in LinearAlgebra at <a href=\"file:///builddir/build/BUILD/julia-1.6.5/build/usr/share/julia/stdlib/v1.6/LinearAlgebra/src/diagonal.jl\" target=\"_blank\">/usr/share/julia/stdlib/v1.6/LinearAlgebra/src/diagonal.jl:169</a></li> <li> +(A::<b>Hermitian</b>, J::<b>UniformScaling{var\"#s814\"} where var\"#s814\"<:Complex</b>) in LinearAlgebra at <a href=\"file:///builddir/build/BUILD/julia-1.6.5/build/usr/share/julia/stdlib/v1.6/LinearAlgebra/src/uniformscaling.jl\" target=\"_blank\">/usr/share/julia/stdlib/v1.6/LinearAlgebra/src/uniformscaling.jl:196</a></li> <li> +(A::<b>Hermitian{var\"#s812\", var\"#s811\"} where {var\"#s812\", var\"#s811\"<:(SparseArrays.AbstractSparseMatrix{Tv, Ti} where {Tv, Ti})}</b>, B::<b>SparseArrays.AbstractSparseMatrix{Tv, Ti} where {Tv, Ti}</b>) in SparseArrays at <a href=\"file:///builddir/build/BUILD/julia-1.6.5/build/usr/share/julia/stdlib/v1.6/SparseArrays/src/linalg.jl\" target=\"_blank\">/usr/share/julia/stdlib/v1.6/SparseArrays/src/linalg.jl:15</a></li> <li> +(A::<b>Hermitian</b>, B::<b>SparseArrays.AbstractSparseMatrix{Tv, Ti} where {Tv, Ti}</b>) in SparseArrays at <a href=\"file:///builddir/build/BUILD/julia-1.6.5/build/usr/share/julia/stdlib/v1.6/SparseArrays/src/linalg.jl\" target=\"_blank\">/usr/share/julia/stdlib/v1.6/SparseArrays/src/linalg.jl:18</a></li> <li> +(A::<b>Hermitian{var\"#s802\", var\"#s801\"} where {var\"#s802\", var\"#s801\"<:(SparseArrays.AbstractSparseMatrix{Tv, Ti} where {Tv, Ti})}</b>, B::<b>Symmetric{var\"#s800\", var\"#s799\"} where {var\"#s800\"<:Real, var\"#s799\"<:(SparseArrays.AbstractSparseMatrix{Tv, Ti} where {Tv, Ti})}</b>) in SparseArrays at <a href=\"file:///builddir/build/BUILD/julia-1.6.5/build/usr/share/julia/stdlib/v1.6/SparseArrays/src/linalg.jl\" target=\"_blank\">/usr/share/julia/stdlib/v1.6/SparseArrays/src/linalg.jl:26</a></li> <li> +(A::<b>Hermitian</b>, B::<b>Symmetric{var\"#s814\", S} where {var\"#s814\"<:Real, S<:(AbstractMatrix{var\"#s814\"} where var\"#s814\"<:var\"#s814\")}</b>) in LinearAlgebra at <a href=\"file:///builddir/build/BUILD/julia-1.6.5/build/usr/share/julia/stdlib/v1.6/LinearAlgebra/src/symmetric.jl\" target=\"_blank\">/usr/share/julia/stdlib/v1.6/LinearAlgebra/src/symmetric.jl:483</a></li> <li> +(A::<b>Hermitian{var\"#s810\", var\"#s809\"} where {var\"#s810\", var\"#s809\"<:(SparseArrays.AbstractSparseMatrix{Tv, Ti} where {Tv, Ti})}</b>, B::<b>Symmetric{var\"#s808\", var\"#s807\"} where {var\"#s808\", var\"#s807\"<:(SparseArrays.AbstractSparseMatrix{Tv, Ti} where {Tv, Ti})}</b>) in SparseArrays at <a href=\"file:///builddir/build/BUILD/julia-1.6.5/build/usr/share/julia/stdlib/v1.6/SparseArrays/src/linalg.jl\" target=\"_blank\">/usr/share/julia/stdlib/v1.6/SparseArrays/src/linalg.jl:24</a></li> <li> +(x::<b>T</b>, y::<b>Integer</b>)<i> where T<:AbstractChar</i> in Base at <a href=\"https://github.com/JuliaLang/julia/tree/9058264a69f9efc1af805c4473c946f87859b731/base/char.jl#L223\" target=\"_blank\">char.jl:223</a></li> <li> +(F::<b>Hessenberg</b>, J::<b>UniformScaling</b>) in LinearAlgebra at <a href=\"file:///builddir/build/BUILD/julia-1.6.5/build/usr/share/julia/stdlib/v1.6/LinearAlgebra/src/hessenberg.jl\" target=\"_blank\">/usr/share/julia/stdlib/v1.6/LinearAlgebra/src/hessenberg.jl:559</a></li> <li> +(x::<b>AbstractArray{var\"#s814\", N} where {var\"#s814\"<:Dates.TimeType, N}</b>, y::<b>Union{Dates.CompoundPeriod, Dates.Period}</b>) in Dates at <a href=\"file:///builddir/build/BUILD/julia-1.6.5/build/usr/share/julia/stdlib/v1.6/Dates/src/deprecated.jl\" target=\"_blank\">/usr/share/julia/stdlib/v1.6/Dates/src/deprecated.jl:6</a></li> <li> +(A::<b>Bidiagonal</b>, B::<b>Bidiagonal</b>) in LinearAlgebra at <a href=\"file:///builddir/build/BUILD/julia-1.6.5/build/usr/share/julia/stdlib/v1.6/LinearAlgebra/src/bidiag.jl\" target=\"_blank\">/usr/share/julia/stdlib/v1.6/LinearAlgebra/src/bidiag.jl:354</a></li> <li> +(A::<b>Bidiagonal</b>, B::<b>UpperTriangular</b>) in LinearAlgebra at <a href=\"file:///builddir/build/BUILD/julia-1.6.5/build/usr/share/julia/stdlib/v1.6/LinearAlgebra/src/special.jl\" target=\"_blank\">/usr/share/julia/stdlib/v1.6/LinearAlgebra/src/special.jl:94</a></li> <li> +(A::<b>Bidiagonal</b>, B::<b>UnitUpperTriangular</b>) in LinearAlgebra at <a href=\"file:///builddir/build/BUILD/julia-1.6.5/build/usr/share/julia/stdlib/v1.6/LinearAlgebra/src/special.jl\" target=\"_blank\">/usr/share/julia/stdlib/v1.6/LinearAlgebra/src/special.jl:94</a></li> <li> +(A::<b>Bidiagonal</b>, B::<b>LowerTriangular</b>) in LinearAlgebra at <a href=\"file:///builddir/build/BUILD/julia-1.6.5/build/usr/share/julia/stdlib/v1.6/LinearAlgebra/src/special.jl\" target=\"_blank\">/usr/share/julia/stdlib/v1.6/LinearAlgebra/src/special.jl:94</a></li> <li> +(A::<b>Bidiagonal</b>, B::<b>UnitLowerTriangular</b>) in LinearAlgebra at <a href=\"file:///builddir/build/BUILD/julia-1.6.5/build/usr/share/julia/stdlib/v1.6/LinearAlgebra/src/special.jl\" target=\"_blank\">/usr/share/julia/stdlib/v1.6/LinearAlgebra/src/special.jl:94</a></li> <li> +(A::<b>Bidiagonal</b>, B::<b>Diagonal</b>) in LinearAlgebra at <a href=\"file:///builddir/build/BUILD/julia-1.6.5/build/usr/share/julia/stdlib/v1.6/LinearAlgebra/src/special.jl\" target=\"_blank\">/usr/share/julia/stdlib/v1.6/LinearAlgebra/src/special.jl:115</a></li> <li> +(A::<b>Bidiagonal</b>, B::<b>Tridiagonal</b>) in LinearAlgebra at <a href=\"file:///builddir/build/BUILD/julia-1.6.5/build/usr/share/julia/stdlib/v1.6/LinearAlgebra/src/special.jl\" target=\"_blank\">/usr/share/julia/stdlib/v1.6/LinearAlgebra/src/special.jl:183</a></li> <li> +(A::<b>Bidiagonal</b>, B::<b>SymTridiagonal</b>) in LinearAlgebra at <a href=\"file:///builddir/build/BUILD/julia-1.6.5/build/usr/share/julia/stdlib/v1.6/LinearAlgebra/src/special.jl\" target=\"_blank\">/usr/share/julia/stdlib/v1.6/LinearAlgebra/src/special.jl:203</a></li> <li> +(A::<b>Bidiagonal{var\"#s814\", V} where {var\"#s814\"<:Number, V<:AbstractVector{var\"#s814\"}}</b>, B::<b>UniformScaling</b>) in LinearAlgebra at <a href=\"file:///builddir/build/BUILD/julia-1.6.5/build/usr/share/julia/stdlib/v1.6/LinearAlgebra/src/special.jl\" target=\"_blank\">/usr/share/julia/stdlib/v1.6/LinearAlgebra/src/special.jl:236</a></li> <li> +(A::<b>UnitLowerTriangular</b>, B::<b>LowerTriangular</b>) in LinearAlgebra at <a href=\"file:///builddir/build/BUILD/julia-1.6.5/build/usr/share/julia/stdlib/v1.6/LinearAlgebra/src/triangular.jl\" target=\"_blank\">/usr/share/julia/stdlib/v1.6/LinearAlgebra/src/triangular.jl:653</a></li> <li> +(A::<b>UnitLowerTriangular</b>, B::<b>UnitLowerTriangular</b>) in LinearAlgebra at <a href=\"file:///builddir/build/BUILD/julia-1.6.5/build/usr/share/julia/stdlib/v1.6/LinearAlgebra/src/triangular.jl\" target=\"_blank\">/usr/share/julia/stdlib/v1.6/LinearAlgebra/src/triangular.jl:655</a></li> <li> +(A::<b>LinearAlgebra.AbstractTriangular</b>, B::<b>LinearAlgebra.AbstractTriangular</b>) in LinearAlgebra at <a href=\"file:///builddir/build/BUILD/julia-1.6.5/build/usr/share/julia/stdlib/v1.6/LinearAlgebra/src/triangular.jl\" target=\"_blank\">/usr/share/julia/stdlib/v1.6/LinearAlgebra/src/triangular.jl:656</a></li> <li> +(UL::<b>UnitLowerTriangular</b>, J::<b>UniformScaling</b>) in LinearAlgebra at <a href=\"file:///builddir/build/BUILD/julia-1.6.5/build/usr/share/julia/stdlib/v1.6/LinearAlgebra/src/uniformscaling.jl\" target=\"_blank\">/usr/share/julia/stdlib/v1.6/LinearAlgebra/src/uniformscaling.jl:182</a></li> <li> +(A::<b>UnitLowerTriangular</b>, B::<b>Bidiagonal</b>) in LinearAlgebra at <a href=\"file:///builddir/build/BUILD/julia-1.6.5/build/usr/share/julia/stdlib/v1.6/LinearAlgebra/src/special.jl\" target=\"_blank\">/usr/share/julia/stdlib/v1.6/LinearAlgebra/src/special.jl:86</a></li> <li> +(A::<b>AbstractArray</b>, B::<b>AbstractArray</b>) in Base at <a href=\"https://github.com/JuliaLang/julia/tree/9058264a69f9efc1af805c4473c946f87859b731/base/arraymath.jl#L37\" target=\"_blank\">arraymath.jl:37</a></li> <li> +(y::<b>Dates.TimeType</b>, x::<b>StridedArray{var\"#s814\", N} where {var\"#s814\"<:Union{Dates.CompoundPeriod, Dates.Period}, N}</b>) in Dates at <a href=\"file:///builddir/build/BUILD/julia-1.6.5/build/usr/share/julia/stdlib/v1.6/Dates/src/deprecated.jl\" target=\"_blank\">/usr/share/julia/stdlib/v1.6/Dates/src/deprecated.jl:18</a></li> <li> +(a::<b>Pkg.Resolve.VersionWeight</b>, b::<b>Pkg.Resolve.VersionWeight</b>) in Pkg.Resolve at <a href=\"file:///builddir/build/BUILD/julia-1.6.5/build/usr/share/julia/stdlib/v1.6/Pkg/src/Resolve/versionweights.jl\" target=\"_blank\">/usr/share/julia/stdlib/v1.6/Pkg/src/Resolve/versionweights.jl:22</a></li> <li> +(p1::<b>Point</b>, p2::<b>Point</b>) in Main at In[23]:10</li> <li> +(x::<b>BigFloat</b>, y::<b>BigFloat</b>) in Base.MPFR at <a href=\"https://github.com/JuliaLang/julia/tree/9058264a69f9efc1af805c4473c946f87859b731/base/mpfr.jl#L364\" target=\"_blank\">mpfr.jl:364</a></li> <li> +(x::<b>BigFloat</b>, c::<b>Union{UInt16, UInt32, UInt64, UInt8}</b>) in Base.MPFR at <a href=\"https://github.com/JuliaLang/julia/tree/9058264a69f9efc1af805c4473c946f87859b731/base/mpfr.jl#L371\" target=\"_blank\">mpfr.jl:371</a></li> <li> +(x::<b>BigFloat</b>, c::<b>Union{Int16, Int32, Int64, Int8}</b>) in Base.MPFR at <a href=\"https://github.com/JuliaLang/julia/tree/9058264a69f9efc1af805c4473c946f87859b731/base/mpfr.jl#L379\" target=\"_blank\">mpfr.jl:379</a></li> <li> +(x::<b>BigFloat</b>, c::<b>Union{Float16, Float32, Float64}</b>) in Base.MPFR at <a href=\"https://github.com/JuliaLang/julia/tree/9058264a69f9efc1af805c4473c946f87859b731/base/mpfr.jl#L387\" target=\"_blank\">mpfr.jl:387</a></li> <li> +(x::<b>BigFloat</b>, c::<b>BigInt</b>) in Base.MPFR at <a href=\"https://github.com/JuliaLang/julia/tree/9058264a69f9efc1af805c4473c946f87859b731/base/mpfr.jl#L395\" target=\"_blank\">mpfr.jl:395</a></li> <li> +(a::<b>BigFloat</b>, b::<b>BigFloat</b>, c::<b>BigFloat</b>) in Base.MPFR at <a href=\"https://github.com/JuliaLang/julia/tree/9058264a69f9efc1af805c4473c946f87859b731/base/mpfr.jl#L536\" target=\"_blank\">mpfr.jl:536</a></li> <li> +(a::<b>BigFloat</b>, b::<b>BigFloat</b>, c::<b>BigFloat</b>, d::<b>BigFloat</b>) in Base.MPFR at <a href=\"https://github.com/JuliaLang/julia/tree/9058264a69f9efc1af805c4473c946f87859b731/base/mpfr.jl#L542\" target=\"_blank\">mpfr.jl:542</a></li> <li> +(a::<b>BigFloat</b>, b::<b>BigFloat</b>, c::<b>BigFloat</b>, d::<b>BigFloat</b>, e::<b>BigFloat</b>) in Base.MPFR at <a href=\"https://github.com/JuliaLang/julia/tree/9058264a69f9efc1af805c4473c946f87859b731/base/mpfr.jl#L549\" target=\"_blank\">mpfr.jl:549</a></li> <li> +(::<b>Missing</b>) in Base at <a href=\"https://github.com/JuliaLang/julia/tree/9058264a69f9efc1af805c4473c946f87859b731/base/missing.jl#L101\" target=\"_blank\">missing.jl:101</a></li> <li> +(::<b>Missing</b>, ::<b>Missing</b>) in Base at <a href=\"https://github.com/JuliaLang/julia/tree/9058264a69f9efc1af805c4473c946f87859b731/base/missing.jl#L115\" target=\"_blank\">missing.jl:115</a></li> <li> +(::<b>Missing</b>, ::<b>Number</b>) in Base at <a href=\"https://github.com/JuliaLang/julia/tree/9058264a69f9efc1af805c4473c946f87859b731/base/missing.jl#L116\" target=\"_blank\">missing.jl:116</a></li> <li> +(x::<b>Missing</b>, y::<b>Dates.AbstractTime</b>) in Dates at <a href=\"file:///builddir/build/BUILD/julia-1.6.5/build/usr/share/julia/stdlib/v1.6/Dates/src/arithmetic.jl\" target=\"_blank\">/usr/share/julia/stdlib/v1.6/Dates/src/arithmetic.jl:89</a></li> <li> +(t::<b>Dates.Time</b>, dt::<b>Dates.Date</b>) in Dates at <a href=\"file:///builddir/build/BUILD/julia-1.6.5/build/usr/share/julia/stdlib/v1.6/Dates/src/arithmetic.jl\" target=\"_blank\">/usr/share/julia/stdlib/v1.6/Dates/src/arithmetic.jl:20</a></li> <li> +(x::<b>Dates.Time</b>, y::<b>Dates.TimePeriod</b>) in Dates at <a href=\"file:///builddir/build/BUILD/julia-1.6.5/build/usr/share/julia/stdlib/v1.6/Dates/src/arithmetic.jl\" target=\"_blank\">/usr/share/julia/stdlib/v1.6/Dates/src/arithmetic.jl:83</a></li> <li> +(x::<b>Float16</b>, y::<b>Float16</b>) in Base at <a href=\"https://github.com/JuliaLang/julia/tree/9058264a69f9efc1af805c4473c946f87859b731/base/float.jl#L324\" target=\"_blank\">float.jl:324</a></li> <li> +(z::<b>Complex{Bool}</b>, x::<b>Bool</b>) in Base at <a href=\"https://github.com/JuliaLang/julia/tree/9058264a69f9efc1af805c4473c946f87859b731/base/complex.jl#L287\" target=\"_blank\">complex.jl:287</a></li> <li> +(z::<b>Complex</b>, x::<b>Bool</b>) in Base at <a href=\"https://github.com/JuliaLang/julia/tree/9058264a69f9efc1af805c4473c946f87859b731/base/complex.jl#L294\" target=\"_blank\">complex.jl:294</a></li> <li> +(z::<b>Complex{Bool}</b>, x::<b>Real</b>) in Base at <a href=\"https://github.com/JuliaLang/julia/tree/9058264a69f9efc1af805c4473c946f87859b731/base/complex.jl#L301\" target=\"_blank\">complex.jl:301</a></li> <li> +(z::<b>Complex</b>) in Base at <a href=\"https://github.com/JuliaLang/julia/tree/9058264a69f9efc1af805c4473c946f87859b731/base/complex.jl#L273\" target=\"_blank\">complex.jl:273</a></li> <li> +(z::<b>Complex</b>, x::<b>Real</b>) in Base at <a href=\"https://github.com/JuliaLang/julia/tree/9058264a69f9efc1af805c4473c946f87859b731/base/complex.jl#L313\" target=\"_blank\">complex.jl:313</a></li> <li> +(dt::<b>Dates.DateTime</b>, y::<b>Dates.Year</b>) in Dates at <a href=\"file:///builddir/build/BUILD/julia-1.6.5/build/usr/share/julia/stdlib/v1.6/Dates/src/arithmetic.jl\" target=\"_blank\">/usr/share/julia/stdlib/v1.6/Dates/src/arithmetic.jl:23</a></li> <li> +(dt::<b>Dates.DateTime</b>, z::<b>Dates.Month</b>) in Dates at <a href=\"file:///builddir/build/BUILD/julia-1.6.5/build/usr/share/julia/stdlib/v1.6/Dates/src/arithmetic.jl\" target=\"_blank\">/usr/share/julia/stdlib/v1.6/Dates/src/arithmetic.jl:47</a></li> <li> +(x::<b>Dates.DateTime</b>, y::<b>Dates.Quarter</b>) in Dates at <a href=\"file:///builddir/build/BUILD/julia-1.6.5/build/usr/share/julia/stdlib/v1.6/Dates/src/arithmetic.jl\" target=\"_blank\">/usr/share/julia/stdlib/v1.6/Dates/src/arithmetic.jl:75</a></li> <li> +(x::<b>Dates.DateTime</b>, y::<b>Dates.Period</b>) in Dates at <a href=\"file:///builddir/build/BUILD/julia-1.6.5/build/usr/share/julia/stdlib/v1.6/Dates/src/arithmetic.jl\" target=\"_blank\">/usr/share/julia/stdlib/v1.6/Dates/src/arithmetic.jl:81</a></li> <li> +(a::<b>Pkg.Resolve.FieldValue</b>, b::<b>Pkg.Resolve.FieldValue</b>) in Pkg.Resolve at <a href=\"file:///builddir/build/BUILD/julia-1.6.5/build/usr/share/julia/stdlib/v1.6/Pkg/src/Resolve/fieldvalues.jl\" target=\"_blank\">/usr/share/julia/stdlib/v1.6/Pkg/src/Resolve/fieldvalues.jl:43</a></li> <li> +(x::<b>Rational{BigInt}</b>, y::<b>Rational{BigInt}</b>) in Base.GMP.MPQ at <a href=\"https://github.com/JuliaLang/julia/tree/9058264a69f9efc1af805c4473c946f87859b731/base/gmp.jl#L889\" target=\"_blank\">gmp.jl:889</a></li> <li> +(x::<b>Rational</b>) in Base at <a href=\"https://github.com/JuliaLang/julia/tree/9058264a69f9efc1af805c4473c946f87859b731/base/rational.jl#L268\" target=\"_blank\">rational.jl:268</a></li> <li> +(x::<b>Rational</b>, y::<b>Rational</b>) in Base at <a href=\"https://github.com/JuliaLang/julia/tree/9058264a69f9efc1af805c4473c946f87859b731/base/rational.jl#L284\" target=\"_blank\">rational.jl:284</a></li> <li> +(x::<b>BigInt</b>, y::<b>BigInt</b>) in Base.GMP at <a href=\"https://github.com/JuliaLang/julia/tree/9058264a69f9efc1af805c4473c946f87859b731/base/gmp.jl#L479\" target=\"_blank\">gmp.jl:479</a></li> <li> +(a::<b>BigInt</b>, b::<b>BigInt</b>, c::<b>BigInt</b>) in Base.GMP at <a href=\"https://github.com/JuliaLang/julia/tree/9058264a69f9efc1af805c4473c946f87859b731/base/gmp.jl#L519\" target=\"_blank\">gmp.jl:519</a></li> <li> +(a::<b>BigInt</b>, b::<b>BigInt</b>, c::<b>BigInt</b>, d::<b>BigInt</b>) in Base.GMP at <a href=\"https://github.com/JuliaLang/julia/tree/9058264a69f9efc1af805c4473c946f87859b731/base/gmp.jl#L520\" target=\"_blank\">gmp.jl:520</a></li> <li> +(a::<b>BigInt</b>, b::<b>BigInt</b>, c::<b>BigInt</b>, d::<b>BigInt</b>, e::<b>BigInt</b>) in Base.GMP at <a href=\"https://github.com/JuliaLang/julia/tree/9058264a69f9efc1af805c4473c946f87859b731/base/gmp.jl#L521\" target=\"_blank\">gmp.jl:521</a></li> <li> +(x::<b>BigInt</b>, c::<b>Union{UInt16, UInt32, UInt64, UInt8}</b>) in Base.GMP at <a href=\"https://github.com/JuliaLang/julia/tree/9058264a69f9efc1af805c4473c946f87859b731/base/gmp.jl#L527\" target=\"_blank\">gmp.jl:527</a></li> <li> +(x::<b>BigInt</b>, c::<b>Union{Int16, Int32, Int64, Int8}</b>) in Base.GMP at <a href=\"https://github.com/JuliaLang/julia/tree/9058264a69f9efc1af805c4473c946f87859b731/base/gmp.jl#L533\" target=\"_blank\">gmp.jl:533</a></li> <li> +(c::<b>BigInt</b>, x::<b>BigFloat</b>) in Base.MPFR at <a href=\"https://github.com/JuliaLang/julia/tree/9058264a69f9efc1af805c4473c946f87859b731/base/mpfr.jl#L400\" target=\"_blank\">mpfr.jl:400</a></li> <li> +(dt::<b>Dates.Date</b>, t::<b>Dates.Time</b>) in Dates at <a href=\"file:///builddir/build/BUILD/julia-1.6.5/build/usr/share/julia/stdlib/v1.6/Dates/src/arithmetic.jl\" target=\"_blank\">/usr/share/julia/stdlib/v1.6/Dates/src/arithmetic.jl:19</a></li> <li> +(dt::<b>Dates.Date</b>, y::<b>Dates.Year</b>) in Dates at <a href=\"file:///builddir/build/BUILD/julia-1.6.5/build/usr/share/julia/stdlib/v1.6/Dates/src/arithmetic.jl\" target=\"_blank\">/usr/share/julia/stdlib/v1.6/Dates/src/arithmetic.jl:27</a></li> <li> +(dt::<b>Dates.Date</b>, z::<b>Dates.Month</b>) in Dates at <a href=\"file:///builddir/build/BUILD/julia-1.6.5/build/usr/share/julia/stdlib/v1.6/Dates/src/arithmetic.jl\" target=\"_blank\">/usr/share/julia/stdlib/v1.6/Dates/src/arithmetic.jl:54</a></li> <li> +(x::<b>Dates.Date</b>, y::<b>Dates.Quarter</b>) in Dates at <a href=\"file:///builddir/build/BUILD/julia-1.6.5/build/usr/share/julia/stdlib/v1.6/Dates/src/arithmetic.jl\" target=\"_blank\">/usr/share/julia/stdlib/v1.6/Dates/src/arithmetic.jl:73</a></li> <li> +(x::<b>Dates.Date</b>, y::<b>Dates.Week</b>) in Dates at <a href=\"file:///builddir/build/BUILD/julia-1.6.5/build/usr/share/julia/stdlib/v1.6/Dates/src/arithmetic.jl\" target=\"_blank\">/usr/share/julia/stdlib/v1.6/Dates/src/arithmetic.jl:77</a></li> <li> +(x::<b>Dates.Date</b>, y::<b>Dates.Day</b>) in Dates at <a href=\"file:///builddir/build/BUILD/julia-1.6.5/build/usr/share/julia/stdlib/v1.6/Dates/src/arithmetic.jl\" target=\"_blank\">/usr/share/julia/stdlib/v1.6/Dates/src/arithmetic.jl:79</a></li> <li> +(x::<b>Dates.TimeType</b>) in Dates at <a href=\"file:///builddir/build/BUILD/julia-1.6.5/build/usr/share/julia/stdlib/v1.6/Dates/src/arithmetic.jl\" target=\"_blank\">/usr/share/julia/stdlib/v1.6/Dates/src/arithmetic.jl:8</a></li> <li> +(x::<b>Dates.AbstractTime</b>, y::<b>Missing</b>) in Dates at <a href=\"file:///builddir/build/BUILD/julia-1.6.5/build/usr/share/julia/stdlib/v1.6/Dates/src/arithmetic.jl\" target=\"_blank\">/usr/share/julia/stdlib/v1.6/Dates/src/arithmetic.jl:88</a></li> <li> +(a::<b>Dates.TimeType</b>, b::<b>Dates.Period</b>, c::<b>Dates.Period</b>) in Dates at <a href=\"file:///builddir/build/BUILD/julia-1.6.5/build/usr/share/julia/stdlib/v1.6/Dates/src/periods.jl\" target=\"_blank\">/usr/share/julia/stdlib/v1.6/Dates/src/periods.jl:373</a></li> <li> +(a::<b>Dates.TimeType</b>, b::<b>Dates.Period</b>, c::<b>Dates.Period</b>, d::<b>Dates.Period...</b>) in Dates at <a href=\"file:///builddir/build/BUILD/julia-1.6.5/build/usr/share/julia/stdlib/v1.6/Dates/src/periods.jl\" target=\"_blank\">/usr/share/julia/stdlib/v1.6/Dates/src/periods.jl:374</a></li> <li> +(x::<b>Dates.TimeType</b>, y::<b>Dates.CompoundPeriod</b>) in Dates at <a href=\"file:///builddir/build/BUILD/julia-1.6.5/build/usr/share/julia/stdlib/v1.6/Dates/src/periods.jl\" target=\"_blank\">/usr/share/julia/stdlib/v1.6/Dates/src/periods.jl:376</a></li> <li> +(x::<b>Float64</b>, y::<b>Float64</b>) in Base at <a href=\"https://github.com/JuliaLang/julia/tree/9058264a69f9efc1af805c4473c946f87859b731/base/float.jl#L326\" target=\"_blank\">float.jl:326</a></li> <li> +(x::<b>Dates.CompoundPeriod</b>, y::<b>Dates.Period</b>) in Dates at <a href=\"file:///builddir/build/BUILD/julia-1.6.5/build/usr/share/julia/stdlib/v1.6/Dates/src/periods.jl\" target=\"_blank\">/usr/share/julia/stdlib/v1.6/Dates/src/periods.jl:352</a></li> <li> +(x::<b>Dates.CompoundPeriod</b>, y::<b>Dates.CompoundPeriod</b>) in Dates at <a href=\"file:///builddir/build/BUILD/julia-1.6.5/build/usr/share/julia/stdlib/v1.6/Dates/src/periods.jl\" target=\"_blank\">/usr/share/julia/stdlib/v1.6/Dates/src/periods.jl:354</a></li> <li> +(x::<b>Dates.CompoundPeriod</b>, y::<b>Dates.TimeType</b>) in Dates at <a href=\"file:///builddir/build/BUILD/julia-1.6.5/build/usr/share/julia/stdlib/v1.6/Dates/src/periods.jl\" target=\"_blank\">/usr/share/julia/stdlib/v1.6/Dates/src/periods.jl:382</a></li> <li> +(x::<b>Float32</b>, y::<b>Float32</b>) in Base at <a href=\"https://github.com/JuliaLang/julia/tree/9058264a69f9efc1af805c4473c946f87859b731/base/float.jl#L325\" target=\"_blank\">float.jl:325</a></li> <li> +(x::<b>Bool</b>) in Base at <a href=\"https://github.com/JuliaLang/julia/tree/9058264a69f9efc1af805c4473c946f87859b731/base/bool.jl#L89\" target=\"_blank\">bool.jl:89</a></li> <li> +(x::<b>Number</b>, y::<b>Base.TwicePrecision</b>) in Base at <a href=\"https://github.com/JuliaLang/julia/tree/9058264a69f9efc1af805c4473c946f87859b731/base/twiceprecision.jl#L271\" target=\"_blank\">twiceprecision.jl:271</a></li> <li> +(::<b>Number</b>, ::<b>Missing</b>) in Base at <a href=\"https://github.com/JuliaLang/julia/tree/9058264a69f9efc1af805c4473c946f87859b731/base/missing.jl#L117\" target=\"_blank\">missing.jl:117</a></li> <li> +(x::<b>Number</b>, J::<b>UniformScaling</b>) in LinearAlgebra at <a href=\"file:///builddir/build/BUILD/julia-1.6.5/build/usr/share/julia/stdlib/v1.6/LinearAlgebra/src/uniformscaling.jl\" target=\"_blank\">/usr/share/julia/stdlib/v1.6/LinearAlgebra/src/uniformscaling.jl:146</a></li> <li> +(x::<b>Integer</b>, y::<b>Ptr</b>) in Base at <a href=\"https://github.com/JuliaLang/julia/tree/9058264a69f9efc1af805c4473c946f87859b731/base/pointer.jl#L161\" target=\"_blank\">pointer.jl:161</a></li> <li> +(y::<b>Integer</b>, x::<b>Rational</b>) in Base at <a href=\"https://github.com/JuliaLang/julia/tree/9058264a69f9efc1af805c4473c946f87859b731/base/rational.jl#L296\" target=\"_blank\">rational.jl:296</a></li> <li> +(x::<b>Integer</b>, y::<b>AbstractChar</b>) in Base at <a href=\"https://github.com/JuliaLang/julia/tree/9058264a69f9efc1af805c4473c946f87859b731/base/char.jl#L224\" target=\"_blank\">char.jl:224</a></li> <li> +(x::<b>Bool</b>, y::<b>Bool</b>) in Base at <a href=\"https://github.com/JuliaLang/julia/tree/9058264a69f9efc1af805c4473c946f87859b731/base/bool.jl#L92\" target=\"_blank\">bool.jl:92</a></li> <li> +(a::<b>Integer</b>, b::<b>Integer</b>) in Base at <a href=\"https://github.com/JuliaLang/julia/tree/9058264a69f9efc1af805c4473c946f87859b731/base/int.jl#L919\" target=\"_blank\">int.jl:919</a></li> <li> +(x::<b>Bool</b>, y::<b>T</b>)<i> where T<:AbstractFloat</i> in Base at <a href=\"https://github.com/JuliaLang/julia/tree/9058264a69f9efc1af805c4473c946f87859b731/base/bool.jl#L99\" target=\"_blank\">bool.jl:99</a></li> <li> +(x::<b>Bool</b>, z::<b>Complex{Bool}</b>) in Base at <a href=\"https://github.com/JuliaLang/julia/tree/9058264a69f9efc1af805c4473c946f87859b731/base/complex.jl#L286\" target=\"_blank\">complex.jl:286</a></li> <li> +(x::<b>Real</b>, z::<b>Complex{Bool}</b>) in Base at <a href=\"https://github.com/JuliaLang/julia/tree/9058264a69f9efc1af805c4473c946f87859b731/base/complex.jl#L300\" target=\"_blank\">complex.jl:300</a></li> <li> +(x::<b>Bool</b>, z::<b>Complex</b>) in Base at <a href=\"https://github.com/JuliaLang/julia/tree/9058264a69f9efc1af805c4473c946f87859b731/base/complex.jl#L293\" target=\"_blank\">complex.jl:293</a></li> <li> +(x::<b>Real</b>, z::<b>Complex</b>) in Base at <a href=\"https://github.com/JuliaLang/julia/tree/9058264a69f9efc1af805c4473c946f87859b731/base/complex.jl#L312\" target=\"_blank\">complex.jl:312</a></li> <li> +(x::<b>Number</b>) in Base at <a href=\"https://github.com/JuliaLang/julia/tree/9058264a69f9efc1af805c4473c946f87859b731/base/operators.jl#L515\" target=\"_blank\">operators.jl:515</a></li> <li> +(x::<b>T</b>, y::<b>T</b>)<i> where T<:Number</i> in Base at <a href=\"https://github.com/JuliaLang/julia/tree/9058264a69f9efc1af805c4473c946f87859b731/base/promotion.jl#L396\" target=\"_blank\">promotion.jl:396</a></li> <li> +(x::<b>Number</b>, y::<b>Number</b>) in Base at <a href=\"https://github.com/JuliaLang/julia/tree/9058264a69f9efc1af805c4473c946f87859b731/base/promotion.jl#L321\" target=\"_blank\">promotion.jl:321</a></li> <li> +(B::<b>BitMatrix</b>, J::<b>UniformScaling</b>) in LinearAlgebra at <a href=\"file:///builddir/build/BUILD/julia-1.6.5/build/usr/share/julia/stdlib/v1.6/LinearAlgebra/src/uniformscaling.jl\" target=\"_blank\">/usr/share/julia/stdlib/v1.6/LinearAlgebra/src/uniformscaling.jl:152</a></li> <li> +(A::<b>AbstractMatrix{T} where T</b>, J::<b>UniformScaling</b>) in LinearAlgebra at <a href=\"file:///builddir/build/BUILD/julia-1.6.5/build/usr/share/julia/stdlib/v1.6/LinearAlgebra/src/uniformscaling.jl\" target=\"_blank\">/usr/share/julia/stdlib/v1.6/LinearAlgebra/src/uniformscaling.jl:215</a></li> <li> +(x::<b>AbstractArray{var\"#s77\", N} where {var\"#s77\"<:Number, N}</b>) in Base at <a href=\"https://github.com/JuliaLang/julia/tree/9058264a69f9efc1af805c4473c946f87859b731/base/abstractarraymath.jl#L97\" target=\"_blank\">abstractarraymath.jl:97</a></li> <li> +(level::<b>Base.CoreLogging.LogLevel</b>, inc::<b>Integer</b>) in Base.CoreLogging at <a href=\"https://github.com/JuliaLang/julia/tree/9058264a69f9efc1af805c4473c946f87859b731/base/logging.jl#L131\" target=\"_blank\">logging.jl:131</a></li> <li> +(a, b, c, xs...) in Base at <a href=\"https://github.com/JuliaLang/julia/tree/9058264a69f9efc1af805c4473c946f87859b731/base/operators.jl#L560\" target=\"_blank\">operators.jl:560</a></li> </ul>"
      ],
      "text/plain": [
       "# 191 methods for generic function \"+\":\n",
       "[1] +(x::T, y::T) where T<:Union{Int128, Int16, Int32, Int64, Int8, UInt128, UInt16, UInt32, UInt64, UInt8} in Base at int.jl:87\n",
       "[2] +(c::Union{UInt16, UInt32, UInt64, UInt8}, x::BigInt) in Base.GMP at gmp.jl:528\n",
       "[3] +(c::Union{Int16, Int32, Int64, Int8}, x::BigInt) in Base.GMP at gmp.jl:534\n",
       "[4] +(c::Union{UInt16, UInt32, UInt64, UInt8}, x::BigFloat) in Base.MPFR at mpfr.jl:376\n",
       "[5] +(c::Union{Int16, Int32, Int64, Int8}, x::BigFloat) in Base.MPFR at mpfr.jl:384\n",
       "[6] +(c::Union{Float16, Float32, Float64}, x::BigFloat) in Base.MPFR at mpfr.jl:392\n",
       "[7] +(x::Union{Dates.CompoundPeriod, Dates.Period}) in Dates at /usr/share/julia/stdlib/v1.6/Dates/src/periods.jl:362\n",
       "[8] +(A::UpperHessenberg, B::UpperHessenberg) in LinearAlgebra at /usr/share/julia/stdlib/v1.6/LinearAlgebra/src/hessenberg.jl:101\n",
       "[9] +(H::UpperHessenberg, J::UniformScaling) in LinearAlgebra at /usr/share/julia/stdlib/v1.6/LinearAlgebra/src/hessenberg.jl:106\n",
       "[10] +(Da::Diagonal, Db::Diagonal) in LinearAlgebra at /usr/share/julia/stdlib/v1.6/LinearAlgebra/src/diagonal.jl:156\n",
       "[11] +(D::Diagonal, S::Symmetric) in LinearAlgebra at /usr/share/julia/stdlib/v1.6/LinearAlgebra/src/diagonal.jl:160\n",
       "[12] +(D::Diagonal{var\"#s814\", V} where {var\"#s814\"<:Real, V<:AbstractVector{var\"#s814\"}}, H::Hermitian) in LinearAlgebra at /usr/share/julia/stdlib/v1.6/LinearAlgebra/src/diagonal.jl:166\n",
       "[13] +(A::Diagonal, B::Bidiagonal) in LinearAlgebra at /usr/share/julia/stdlib/v1.6/LinearAlgebra/src/special.jl:125\n",
       "[14] +(A::Diagonal, B::SymTridiagonal) in LinearAlgebra at /usr/share/julia/stdlib/v1.6/LinearAlgebra/src/special.jl:135\n",
       "[15] +(A::Diagonal, B::Tridiagonal) in LinearAlgebra at /usr/share/julia/stdlib/v1.6/LinearAlgebra/src/special.jl:163\n",
       "[16] +(A::Diagonal{var\"#s814\", V} where {var\"#s814\"<:Number, V<:AbstractVector{var\"#s814\"}}, B::UniformScaling) in LinearAlgebra at /usr/share/julia/stdlib/v1.6/LinearAlgebra/src/special.jl:241\n",
       "[17] +(x::Dates.Instant) in Dates at /usr/share/julia/stdlib/v1.6/Dates/src/arithmetic.jl:4\n",
       "[18] +(x::Rational, y::Integer) in Base at rational.jl:289\n",
       "[19] +(A::SymTridiagonal, B::SymTridiagonal) in LinearAlgebra at /usr/share/julia/stdlib/v1.6/LinearAlgebra/src/tridiag.jl:205\n",
       "[20] +(A::SymTridiagonal, B::Diagonal) in LinearAlgebra at /usr/share/julia/stdlib/v1.6/LinearAlgebra/src/special.jl:145\n",
       "[21] +(A::SymTridiagonal, B::Tridiagonal) in LinearAlgebra at /usr/share/julia/stdlib/v1.6/LinearAlgebra/src/special.jl:159\n",
       "[22] +(A::SymTridiagonal, B::Bidiagonal) in LinearAlgebra at /usr/share/julia/stdlib/v1.6/LinearAlgebra/src/special.jl:213\n",
       "[23] +(A::SymTridiagonal{var\"#s814\", V} where {var\"#s814\"<:Number, V<:AbstractVector{var\"#s814\"}}, B::UniformScaling) in LinearAlgebra at /usr/share/julia/stdlib/v1.6/LinearAlgebra/src/special.jl:231\n",
       "[24] +(A::UnitUpperTriangular, B::UpperTriangular) in LinearAlgebra at /usr/share/julia/stdlib/v1.6/LinearAlgebra/src/triangular.jl:652\n",
       "[25] +(A::UnitUpperTriangular, B::UnitUpperTriangular) in LinearAlgebra at /usr/share/julia/stdlib/v1.6/LinearAlgebra/src/triangular.jl:654\n",
       "[26] +(UL::UnitUpperTriangular, J::UniformScaling) in LinearAlgebra at /usr/share/julia/stdlib/v1.6/LinearAlgebra/src/uniformscaling.jl:182\n",
       "[27] +(A::UnitUpperTriangular, B::Bidiagonal) in LinearAlgebra at /usr/share/julia/stdlib/v1.6/LinearAlgebra/src/special.jl:86\n",
       "[28] +(r1::LinRange{T}, r2::LinRange{T}) where T in Base at range.jl:1110\n",
       "[29] +(A::SparseArrays.AbstractSparseMatrix{Tv, Ti} where {Tv, Ti}, B::Hermitian{var\"#s814\", var\"#s813\"} where {var\"#s814\", var\"#s813\"<:(SparseArrays.AbstractSparseMatrix{Tv, Ti} where {Tv, Ti})}) in SparseArrays at /usr/share/julia/stdlib/v1.6/SparseArrays/src/linalg.jl:14\n",
       "[30] +(A::SparseArrays.AbstractSparseMatrix{Tv, Ti} where {Tv, Ti}, B::Hermitian) in SparseArrays at /usr/share/julia/stdlib/v1.6/SparseArrays/src/linalg.jl:17\n",
       "[31] +(A::SparseArrays.AbstractSparseMatrix{Tv, Ti} where {Tv, Ti}, B::Symmetric{var\"#s814\", var\"#s813\"} where {var\"#s814\", var\"#s813\"<:(SparseArrays.AbstractSparseMatrix{Tv, Ti} where {Tv, Ti})}) in SparseArrays at /usr/share/julia/stdlib/v1.6/SparseArrays/src/linalg.jl:14\n",
       "[32] +(A::SparseArrays.AbstractSparseMatrix{Tv, Ti} where {Tv, Ti}, B::Symmetric) in SparseArrays at /usr/share/julia/stdlib/v1.6/SparseArrays/src/linalg.jl:17\n",
       "[33] +(x::AbstractIrrational, y::AbstractIrrational) in Base at irrationals.jl:156\n",
       "[34] +(r1::OrdinalRange, r2::OrdinalRange) in Base at range.jl:1103\n",
       "[35] +(A::UpperTriangular, B::UpperTriangular) in LinearAlgebra at /usr/share/julia/stdlib/v1.6/LinearAlgebra/src/triangular.jl:648\n",
       "[36] +(A::UpperTriangular, B::UnitUpperTriangular) in LinearAlgebra at /usr/share/julia/stdlib/v1.6/LinearAlgebra/src/triangular.jl:650\n",
       "[37] +(A::UpperTriangular, B::Bidiagonal) in LinearAlgebra at /usr/share/julia/stdlib/v1.6/LinearAlgebra/src/special.jl:86\n",
       "[38] +(A::Symmetric, B::Symmetric) in LinearAlgebra at /usr/share/julia/stdlib/v1.6/LinearAlgebra/src/symmetric.jl:469\n",
       "[39] +(S::Symmetric, D::Diagonal) in LinearAlgebra at /usr/share/julia/stdlib/v1.6/LinearAlgebra/src/diagonal.jl:163\n",
       "[40] +(A::Symmetric{var\"#s812\", var\"#s811\"} where {var\"#s812\", var\"#s811\"<:(SparseArrays.AbstractSparseMatrix{Tv, Ti} where {Tv, Ti})}, B::SparseArrays.AbstractSparseMatrix{Tv, Ti} where {Tv, Ti}) in SparseArrays at /usr/share/julia/stdlib/v1.6/SparseArrays/src/linalg.jl:15\n",
       "[41] +(A::Symmetric, B::SparseArrays.AbstractSparseMatrix{Tv, Ti} where {Tv, Ti}) in SparseArrays at /usr/share/julia/stdlib/v1.6/SparseArrays/src/linalg.jl:18\n",
       "[42] +(A::Symmetric{var\"#s806\", var\"#s805\"} where {var\"#s806\"<:Real, var\"#s805\"<:(SparseArrays.AbstractSparseMatrix{Tv, Ti} where {Tv, Ti})}, B::Hermitian{var\"#s804\", var\"#s803\"} where {var\"#s804\", var\"#s803\"<:(SparseArrays.AbstractSparseMatrix{Tv, Ti} where {Tv, Ti})}) in SparseArrays at /usr/share/julia/stdlib/v1.6/SparseArrays/src/linalg.jl:25\n",
       "[43] +(A::Symmetric{var\"#s813\", S} where {var\"#s813\"<:Real, S<:(AbstractMatrix{var\"#s814\"} where var\"#s814\"<:var\"#s813\")}, B::Hermitian) in LinearAlgebra at /usr/share/julia/stdlib/v1.6/LinearAlgebra/src/symmetric.jl:484\n",
       "[44] +(A::Symmetric{var\"#s814\", var\"#s813\"} where {var\"#s814\", var\"#s813\"<:(SparseArrays.AbstractSparseMatrix{Tv, Ti} where {Tv, Ti})}, B::Hermitian{var\"#s812\", var\"#s811\"} where {var\"#s812\", var\"#s811\"<:(SparseArrays.AbstractSparseMatrix{Tv, Ti} where {Tv, Ti})}) in SparseArrays at /usr/share/julia/stdlib/v1.6/SparseArrays/src/linalg.jl:23\n",
       "[45] +(A::Array, Bs::Array...) in Base at arraymath.jl:43\n",
       "[46] +(X::StridedArray{var\"#s814\", N} where {var\"#s814\"<:Union{Dates.CompoundPeriod, Dates.Period}, N}, Y::StridedArray{var\"#s813\", N} where {var\"#s813\"<:Union{Dates.CompoundPeriod, Dates.Period}, N}) in Dates at /usr/share/julia/stdlib/v1.6/Dates/src/deprecated.jl:62\n",
       "[47] +(A::Array, B::SparseArrays.AbstractSparseMatrixCSC) in SparseArrays at /usr/share/julia/stdlib/v1.6/SparseArrays/src/sparsematrix.jl:1745\n",
       "[48] +(x::StridedArray{var\"#s814\", N} where {var\"#s814\"<:Union{Dates.CompoundPeriod, Dates.Period}, N}) in Dates at /usr/share/julia/stdlib/v1.6/Dates/src/deprecated.jl:55\n",
       "[49] +(x::StridedArray{var\"#s814\", N} where {var\"#s814\"<:Union{Dates.CompoundPeriod, Dates.Period}, N}, y::Dates.TimeType) in Dates at /usr/share/julia/stdlib/v1.6/Dates/src/deprecated.jl:10\n",
       "[50] +(y::AbstractFloat, x::Bool) in Base at bool.jl:102\n",
       "[51] +(A::Tridiagonal, B::Tridiagonal) in LinearAlgebra at /usr/share/julia/stdlib/v1.6/LinearAlgebra/src/tridiag.jl:733\n",
       "[52] +(A::Tridiagonal, B::SymTridiagonal) in LinearAlgebra at /usr/share/julia/stdlib/v1.6/LinearAlgebra/src/special.jl:157\n",
       "[53] +(A::Tridiagonal, B::Diagonal) in LinearAlgebra at /usr/share/julia/stdlib/v1.6/LinearAlgebra/src/special.jl:173\n",
       "[54] +(A::Tridiagonal, B::Bidiagonal) in LinearAlgebra at /usr/share/julia/stdlib/v1.6/LinearAlgebra/src/special.jl:193\n",
       "[55] +(A::Tridiagonal{var\"#s814\", V} where {var\"#s814\"<:Number, V<:AbstractVector{var\"#s814\"}}, B::UniformScaling) in LinearAlgebra at /usr/share/julia/stdlib/v1.6/LinearAlgebra/src/special.jl:226\n",
       "[56] +(A::LowerTriangular, B::LowerTriangular) in LinearAlgebra at /usr/share/julia/stdlib/v1.6/LinearAlgebra/src/triangular.jl:649\n",
       "[57] +(A::LowerTriangular, B::UnitLowerTriangular) in LinearAlgebra at /usr/share/julia/stdlib/v1.6/LinearAlgebra/src/triangular.jl:651\n",
       "[58] +(A::LowerTriangular, B::Bidiagonal) in LinearAlgebra at /usr/share/julia/stdlib/v1.6/LinearAlgebra/src/special.jl:86\n",
       "[59] +(A::BitArray, B::BitArray) in Base at bitarray.jl:1127\n",
       "[60] +(x::Ptr, y::Integer) in Base at pointer.jl:159\n",
       "[61] +(x::Base.TwicePrecision, y::Number) in Base at twiceprecision.jl:267\n",
       "[62] +(x::Base.TwicePrecision{T}, y::Base.TwicePrecision{T}) where T in Base at twiceprecision.jl:273\n",
       "[63] +(x::Base.TwicePrecision, y::Base.TwicePrecision) in Base at twiceprecision.jl:278\n",
       "[64] +(z::Complex, w::Complex) in Base at complex.jl:275\n",
       "[65] +(A::SparseArrays.AbstractSparseMatrixCSC, B::SparseArrays.AbstractSparseMatrixCSC) in SparseArrays at /usr/share/julia/stdlib/v1.6/SparseArrays/src/sparsematrix.jl:1741\n",
       "[66] +(x::SparseArrays.AbstractSparseVector{Tv, Ti} where {Tv, Ti}, y::SparseArrays.AbstractSparseVector{Tv, Ti} where {Tv, Ti}) in SparseArrays at /usr/share/julia/stdlib/v1.6/SparseArrays/src/sparsevector.jl:1345\n",
       "[67] +(A::SparseArrays.AbstractSparseMatrixCSC, B::Array) in SparseArrays at /usr/share/julia/stdlib/v1.6/SparseArrays/src/sparsematrix.jl:1744\n",
       "[68] +(A::SparseArrays.AbstractSparseMatrixCSC, J::UniformScaling) in SparseArrays at /usr/share/julia/stdlib/v1.6/SparseArrays/src/sparsematrix.jl:3797\n",
       "[69] +(x::P, y::P) where P<:Dates.Period in Dates at /usr/share/julia/stdlib/v1.6/Dates/src/periods.jl:79\n",
       "[70] +(x::Dates.Period, y::Dates.Period) in Dates at /usr/share/julia/stdlib/v1.6/Dates/src/periods.jl:351\n",
       "[71] +(y::Dates.Period, x::Dates.CompoundPeriod) in Dates at /usr/share/julia/stdlib/v1.6/Dates/src/periods.jl:353\n",
       "[72] +(y::Dates.Period, x::Dates.TimeType) in Dates at /usr/share/julia/stdlib/v1.6/Dates/src/arithmetic.jl:85\n",
       "[73] +(x::Dates.Period, r::AbstractRange{var\"#s814\"} where var\"#s814\"<:Dates.TimeType) in Dates at /usr/share/julia/stdlib/v1.6/Dates/src/ranges.jl:62\n",
       "[74] +(y::Union{Dates.CompoundPeriod, Dates.Period}, x::AbstractArray{var\"#s814\", N} where {var\"#s814\"<:Dates.TimeType, N}) in Dates at /usr/share/julia/stdlib/v1.6/Dates/src/deprecated.jl:14\n",
       "[75] +(r1::StepRangeLen{T, R, S} where S, r2::StepRangeLen{T, R, S} where S) where {R<:Base.TwicePrecision, T} in Base at twiceprecision.jl:574\n",
       "[76] +(r1::StepRangeLen{T, S, S1} where S1, r2::StepRangeLen{T, S, S1} where S1) where {T, S} in Base at range.jl:1126\n",
       "[77] +(r1::Union{LinRange, OrdinalRange, StepRangeLen}, r2::Union{LinRange, OrdinalRange, StepRangeLen}) in Base at range.jl:1119\n",
       "[78] +(J::UniformScaling) in LinearAlgebra at /usr/share/julia/stdlib/v1.6/LinearAlgebra/src/uniformscaling.jl:150\n",
       "[79] +(J::UniformScaling, x::Number) in LinearAlgebra at /usr/share/julia/stdlib/v1.6/LinearAlgebra/src/uniformscaling.jl:145\n",
       "[80] +(J1::UniformScaling, J2::UniformScaling) in LinearAlgebra at /usr/share/julia/stdlib/v1.6/LinearAlgebra/src/uniformscaling.jl:151\n",
       "[81] +(J::UniformScaling, B::BitMatrix) in LinearAlgebra at /usr/share/julia/stdlib/v1.6/LinearAlgebra/src/uniformscaling.jl:153\n",
       "[82] +(J::UniformScaling, F::Hessenberg) in LinearAlgebra at /usr/share/julia/stdlib/v1.6/LinearAlgebra/src/hessenberg.jl:560\n",
       "[83] +(A::UniformScaling, B::Tridiagonal{var\"#s814\", V} where {var\"#s814\"<:Number, V<:AbstractVector{var\"#s814\"}}) in LinearAlgebra at /usr/share/julia/stdlib/v1.6/LinearAlgebra/src/special.jl:245\n",
       "[84] +(A::UniformScaling, B::SymTridiagonal{var\"#s814\", V} where {var\"#s814\"<:Number, V<:AbstractVector{var\"#s814\"}}) in LinearAlgebra at /usr/share/julia/stdlib/v1.6/LinearAlgebra/src/special.jl:250\n",
       "[85] +(A::UniformScaling, B::Bidiagonal{var\"#s814\", V} where {var\"#s814\"<:Number, V<:AbstractVector{var\"#s814\"}}) in LinearAlgebra at /usr/share/julia/stdlib/v1.6/LinearAlgebra/src/special.jl:255\n",
       "[86] +(A::UniformScaling, B::Diagonal{var\"#s814\", V} where {var\"#s814\"<:Number, V<:AbstractVector{var\"#s814\"}}) in LinearAlgebra at /usr/share/julia/stdlib/v1.6/LinearAlgebra/src/special.jl:260\n",
       "[87] +(J::UniformScaling, A::AbstractMatrix{T} where T) in LinearAlgebra at /usr/share/julia/stdlib/v1.6/LinearAlgebra/src/uniformscaling.jl:154\n",
       "[88] +(index1::CartesianIndex{N}, index2::CartesianIndex{N}) where N in Base.IteratorsMD at multidimensional.jl:114\n",
       "[89] +(r::AbstractRange{var\"#s814\"} where var\"#s814\"<:Dates.TimeType, x::Dates.Period) in Dates at /usr/share/julia/stdlib/v1.6/Dates/src/ranges.jl:63\n",
       "[90] +(A::Hermitian, B::Hermitian) in LinearAlgebra at /usr/share/julia/stdlib/v1.6/LinearAlgebra/src/symmetric.jl:469\n",
       "[91] +(H::Hermitian, D::Diagonal{var\"#s814\", V} where {var\"#s814\"<:Real, V<:AbstractVector{var\"#s814\"}}) in LinearAlgebra at /usr/share/julia/stdlib/v1.6/LinearAlgebra/src/diagonal.jl:169\n",
       "[92] +(A::Hermitian, J::UniformScaling{var\"#s814\"} where var\"#s814\"<:Complex) in LinearAlgebra at /usr/share/julia/stdlib/v1.6/LinearAlgebra/src/uniformscaling.jl:196\n",
       "[93] +(A::Hermitian{var\"#s812\", var\"#s811\"} where {var\"#s812\", var\"#s811\"<:(SparseArrays.AbstractSparseMatrix{Tv, Ti} where {Tv, Ti})}, B::SparseArrays.AbstractSparseMatrix{Tv, Ti} where {Tv, Ti}) in SparseArrays at /usr/share/julia/stdlib/v1.6/SparseArrays/src/linalg.jl:15\n",
       "[94] +(A::Hermitian, B::SparseArrays.AbstractSparseMatrix{Tv, Ti} where {Tv, Ti}) in SparseArrays at /usr/share/julia/stdlib/v1.6/SparseArrays/src/linalg.jl:18\n",
       "[95] +(A::Hermitian{var\"#s802\", var\"#s801\"} where {var\"#s802\", var\"#s801\"<:(SparseArrays.AbstractSparseMatrix{Tv, Ti} where {Tv, Ti})}, B::Symmetric{var\"#s800\", var\"#s799\"} where {var\"#s800\"<:Real, var\"#s799\"<:(SparseArrays.AbstractSparseMatrix{Tv, Ti} where {Tv, Ti})}) in SparseArrays at /usr/share/julia/stdlib/v1.6/SparseArrays/src/linalg.jl:26\n",
       "[96] +(A::Hermitian, B::Symmetric{var\"#s814\", S} where {var\"#s814\"<:Real, S<:(AbstractMatrix{var\"#s814\"} where var\"#s814\"<:var\"#s814\")}) in LinearAlgebra at /usr/share/julia/stdlib/v1.6/LinearAlgebra/src/symmetric.jl:483\n",
       "[97] +(A::Hermitian{var\"#s810\", var\"#s809\"} where {var\"#s810\", var\"#s809\"<:(SparseArrays.AbstractSparseMatrix{Tv, Ti} where {Tv, Ti})}, B::Symmetric{var\"#s808\", var\"#s807\"} where {var\"#s808\", var\"#s807\"<:(SparseArrays.AbstractSparseMatrix{Tv, Ti} where {Tv, Ti})}) in SparseArrays at /usr/share/julia/stdlib/v1.6/SparseArrays/src/linalg.jl:24\n",
       "[98] +(x::T, y::Integer) where T<:AbstractChar in Base at char.jl:223\n",
       "[99] +(F::Hessenberg, J::UniformScaling) in LinearAlgebra at /usr/share/julia/stdlib/v1.6/LinearAlgebra/src/hessenberg.jl:559\n",
       "[100] +(x::AbstractArray{var\"#s814\", N} where {var\"#s814\"<:Dates.TimeType, N}, y::Union{Dates.CompoundPeriod, Dates.Period}) in Dates at /usr/share/julia/stdlib/v1.6/Dates/src/deprecated.jl:6\n",
       "[101] +(A::Bidiagonal, B::Bidiagonal) in LinearAlgebra at /usr/share/julia/stdlib/v1.6/LinearAlgebra/src/bidiag.jl:354\n",
       "[102] +(A::Bidiagonal, B::UpperTriangular) in LinearAlgebra at /usr/share/julia/stdlib/v1.6/LinearAlgebra/src/special.jl:94\n",
       "[103] +(A::Bidiagonal, B::UnitUpperTriangular) in LinearAlgebra at /usr/share/julia/stdlib/v1.6/LinearAlgebra/src/special.jl:94\n",
       "[104] +(A::Bidiagonal, B::LowerTriangular) in LinearAlgebra at /usr/share/julia/stdlib/v1.6/LinearAlgebra/src/special.jl:94\n",
       "[105] +(A::Bidiagonal, B::UnitLowerTriangular) in LinearAlgebra at /usr/share/julia/stdlib/v1.6/LinearAlgebra/src/special.jl:94\n",
       "[106] +(A::Bidiagonal, B::Diagonal) in LinearAlgebra at /usr/share/julia/stdlib/v1.6/LinearAlgebra/src/special.jl:115\n",
       "[107] +(A::Bidiagonal, B::Tridiagonal) in LinearAlgebra at /usr/share/julia/stdlib/v1.6/LinearAlgebra/src/special.jl:183\n",
       "[108] +(A::Bidiagonal, B::SymTridiagonal) in LinearAlgebra at /usr/share/julia/stdlib/v1.6/LinearAlgebra/src/special.jl:203\n",
       "[109] +(A::Bidiagonal{var\"#s814\", V} where {var\"#s814\"<:Number, V<:AbstractVector{var\"#s814\"}}, B::UniformScaling) in LinearAlgebra at /usr/share/julia/stdlib/v1.6/LinearAlgebra/src/special.jl:236\n",
       "[110] +(A::UnitLowerTriangular, B::LowerTriangular) in LinearAlgebra at /usr/share/julia/stdlib/v1.6/LinearAlgebra/src/triangular.jl:653\n",
       "[111] +(A::UnitLowerTriangular, B::UnitLowerTriangular) in LinearAlgebra at /usr/share/julia/stdlib/v1.6/LinearAlgebra/src/triangular.jl:655\n",
       "[112] +(A::LinearAlgebra.AbstractTriangular, B::LinearAlgebra.AbstractTriangular) in LinearAlgebra at /usr/share/julia/stdlib/v1.6/LinearAlgebra/src/triangular.jl:656\n",
       "[113] +(UL::UnitLowerTriangular, J::UniformScaling) in LinearAlgebra at /usr/share/julia/stdlib/v1.6/LinearAlgebra/src/uniformscaling.jl:182\n",
       "[114] +(A::UnitLowerTriangular, B::Bidiagonal) in LinearAlgebra at /usr/share/julia/stdlib/v1.6/LinearAlgebra/src/special.jl:86\n",
       "[115] +(A::AbstractArray, B::AbstractArray) in Base at arraymath.jl:37\n",
       "[116] +(y::Dates.TimeType, x::StridedArray{var\"#s814\", N} where {var\"#s814\"<:Union{Dates.CompoundPeriod, Dates.Period}, N}) in Dates at /usr/share/julia/stdlib/v1.6/Dates/src/deprecated.jl:18\n",
       "[117] +(a::Pkg.Resolve.VersionWeight, b::Pkg.Resolve.VersionWeight) in Pkg.Resolve at /usr/share/julia/stdlib/v1.6/Pkg/src/Resolve/versionweights.jl:22\n",
       "[118] +(p1::Point, p2::Point) in Main at In[23]:10\n",
       "[119] +(x::BigFloat, y::BigFloat) in Base.MPFR at mpfr.jl:364\n",
       "[120] +(x::BigFloat, c::Union{UInt16, UInt32, UInt64, UInt8}) in Base.MPFR at mpfr.jl:371\n",
       "[121] +(x::BigFloat, c::Union{Int16, Int32, Int64, Int8}) in Base.MPFR at mpfr.jl:379\n",
       "[122] +(x::BigFloat, c::Union{Float16, Float32, Float64}) in Base.MPFR at mpfr.jl:387\n",
       "[123] +(x::BigFloat, c::BigInt) in Base.MPFR at mpfr.jl:395\n",
       "[124] +(a::BigFloat, b::BigFloat, c::BigFloat) in Base.MPFR at mpfr.jl:536\n",
       "[125] +(a::BigFloat, b::BigFloat, c::BigFloat, d::BigFloat) in Base.MPFR at mpfr.jl:542\n",
       "[126] +(a::BigFloat, b::BigFloat, c::BigFloat, d::BigFloat, e::BigFloat) in Base.MPFR at mpfr.jl:549\n",
       "[127] +(::Missing) in Base at missing.jl:101\n",
       "[128] +(::Missing, ::Missing) in Base at missing.jl:115\n",
       "[129] +(::Missing, ::Number) in Base at missing.jl:116\n",
       "[130] +(x::Missing, y::Dates.AbstractTime) in Dates at /usr/share/julia/stdlib/v1.6/Dates/src/arithmetic.jl:89\n",
       "[131] +(t::Dates.Time, dt::Dates.Date) in Dates at /usr/share/julia/stdlib/v1.6/Dates/src/arithmetic.jl:20\n",
       "[132] +(x::Dates.Time, y::Dates.TimePeriod) in Dates at /usr/share/julia/stdlib/v1.6/Dates/src/arithmetic.jl:83\n",
       "[133] +(x::Float16, y::Float16) in Base at float.jl:324\n",
       "[134] +(z::Complex{Bool}, x::Bool) in Base at complex.jl:287\n",
       "[135] +(z::Complex, x::Bool) in Base at complex.jl:294\n",
       "[136] +(z::Complex{Bool}, x::Real) in Base at complex.jl:301\n",
       "[137] +(z::Complex) in Base at complex.jl:273\n",
       "[138] +(z::Complex, x::Real) in Base at complex.jl:313\n",
       "[139] +(dt::Dates.DateTime, y::Dates.Year) in Dates at /usr/share/julia/stdlib/v1.6/Dates/src/arithmetic.jl:23\n",
       "[140] +(dt::Dates.DateTime, z::Dates.Month) in Dates at /usr/share/julia/stdlib/v1.6/Dates/src/arithmetic.jl:47\n",
       "[141] +(x::Dates.DateTime, y::Dates.Quarter) in Dates at /usr/share/julia/stdlib/v1.6/Dates/src/arithmetic.jl:75\n",
       "[142] +(x::Dates.DateTime, y::Dates.Period) in Dates at /usr/share/julia/stdlib/v1.6/Dates/src/arithmetic.jl:81\n",
       "[143] +(a::Pkg.Resolve.FieldValue, b::Pkg.Resolve.FieldValue) in Pkg.Resolve at /usr/share/julia/stdlib/v1.6/Pkg/src/Resolve/fieldvalues.jl:43\n",
       "[144] +(x::Rational{BigInt}, y::Rational{BigInt}) in Base.GMP.MPQ at gmp.jl:889\n",
       "[145] +(x::Rational) in Base at rational.jl:268\n",
       "[146] +(x::Rational, y::Rational) in Base at rational.jl:284\n",
       "[147] +(x::BigInt, y::BigInt) in Base.GMP at gmp.jl:479\n",
       "[148] +(a::BigInt, b::BigInt, c::BigInt) in Base.GMP at gmp.jl:519\n",
       "[149] +(a::BigInt, b::BigInt, c::BigInt, d::BigInt) in Base.GMP at gmp.jl:520\n",
       "[150] +(a::BigInt, b::BigInt, c::BigInt, d::BigInt, e::BigInt) in Base.GMP at gmp.jl:521\n",
       "[151] +(x::BigInt, c::Union{UInt16, UInt32, UInt64, UInt8}) in Base.GMP at gmp.jl:527\n",
       "[152] +(x::BigInt, c::Union{Int16, Int32, Int64, Int8}) in Base.GMP at gmp.jl:533\n",
       "[153] +(c::BigInt, x::BigFloat) in Base.MPFR at mpfr.jl:400\n",
       "[154] +(dt::Dates.Date, t::Dates.Time) in Dates at /usr/share/julia/stdlib/v1.6/Dates/src/arithmetic.jl:19\n",
       "[155] +(dt::Dates.Date, y::Dates.Year) in Dates at /usr/share/julia/stdlib/v1.6/Dates/src/arithmetic.jl:27\n",
       "[156] +(dt::Dates.Date, z::Dates.Month) in Dates at /usr/share/julia/stdlib/v1.6/Dates/src/arithmetic.jl:54\n",
       "[157] +(x::Dates.Date, y::Dates.Quarter) in Dates at /usr/share/julia/stdlib/v1.6/Dates/src/arithmetic.jl:73\n",
       "[158] +(x::Dates.Date, y::Dates.Week) in Dates at /usr/share/julia/stdlib/v1.6/Dates/src/arithmetic.jl:77\n",
       "[159] +(x::Dates.Date, y::Dates.Day) in Dates at /usr/share/julia/stdlib/v1.6/Dates/src/arithmetic.jl:79\n",
       "[160] +(x::Dates.TimeType) in Dates at /usr/share/julia/stdlib/v1.6/Dates/src/arithmetic.jl:8\n",
       "[161] +(x::Dates.AbstractTime, y::Missing) in Dates at /usr/share/julia/stdlib/v1.6/Dates/src/arithmetic.jl:88\n",
       "[162] +(a::Dates.TimeType, b::Dates.Period, c::Dates.Period) in Dates at /usr/share/julia/stdlib/v1.6/Dates/src/periods.jl:373\n",
       "[163] +(a::Dates.TimeType, b::Dates.Period, c::Dates.Period, d::Dates.Period...) in Dates at /usr/share/julia/stdlib/v1.6/Dates/src/periods.jl:374\n",
       "[164] +(x::Dates.TimeType, y::Dates.CompoundPeriod) in Dates at /usr/share/julia/stdlib/v1.6/Dates/src/periods.jl:376\n",
       "[165] +(x::Float64, y::Float64) in Base at float.jl:326\n",
       "[166] +(x::Dates.CompoundPeriod, y::Dates.Period) in Dates at /usr/share/julia/stdlib/v1.6/Dates/src/periods.jl:352\n",
       "[167] +(x::Dates.CompoundPeriod, y::Dates.CompoundPeriod) in Dates at /usr/share/julia/stdlib/v1.6/Dates/src/periods.jl:354\n",
       "[168] +(x::Dates.CompoundPeriod, y::Dates.TimeType) in Dates at /usr/share/julia/stdlib/v1.6/Dates/src/periods.jl:382\n",
       "[169] +(x::Float32, y::Float32) in Base at float.jl:325\n",
       "[170] +(x::Bool) in Base at bool.jl:89\n",
       "[171] +(x::Number, y::Base.TwicePrecision) in Base at twiceprecision.jl:271\n",
       "[172] +(::Number, ::Missing) in Base at missing.jl:117\n",
       "[173] +(x::Number, J::UniformScaling) in LinearAlgebra at /usr/share/julia/stdlib/v1.6/LinearAlgebra/src/uniformscaling.jl:146\n",
       "[174] +(x::Integer, y::Ptr) in Base at pointer.jl:161\n",
       "[175] +(y::Integer, x::Rational) in Base at rational.jl:296\n",
       "[176] +(x::Integer, y::AbstractChar) in Base at char.jl:224\n",
       "[177] +(x::Bool, y::Bool) in Base at bool.jl:92\n",
       "[178] +(a::Integer, b::Integer) in Base at int.jl:919\n",
       "[179] +(x::Bool, y::T) where T<:AbstractFloat in Base at bool.jl:99\n",
       "[180] +(x::Bool, z::Complex{Bool}) in Base at complex.jl:286\n",
       "[181] +(x::Real, z::Complex{Bool}) in Base at complex.jl:300\n",
       "[182] +(x::Bool, z::Complex) in Base at complex.jl:293\n",
       "[183] +(x::Real, z::Complex) in Base at complex.jl:312\n",
       "[184] +(x::Number) in Base at operators.jl:515\n",
       "[185] +(x::T, y::T) where T<:Number in Base at promotion.jl:396\n",
       "[186] +(x::Number, y::Number) in Base at promotion.jl:321\n",
       "[187] +(B::BitMatrix, J::UniformScaling) in LinearAlgebra at /usr/share/julia/stdlib/v1.6/LinearAlgebra/src/uniformscaling.jl:152\n",
       "[188] +(A::AbstractMatrix{T} where T, J::UniformScaling) in LinearAlgebra at /usr/share/julia/stdlib/v1.6/LinearAlgebra/src/uniformscaling.jl:215\n",
       "[189] +(x::AbstractArray{var\"#s77\", N} where {var\"#s77\"<:Number, N}) in Base at abstractarraymath.jl:97\n",
       "[190] +(level::Base.CoreLogging.LogLevel, inc::Integer) in Base.CoreLogging at logging.jl:131\n",
       "[191] +(a, b, c, xs...) in Base at operators.jl:560"
      ]
     },
     "metadata": {},
     "execution_count": 25
    }
   ],
   "metadata": {}
  },
  {
   "cell_type": "code",
   "execution_count": 22,
   "source": [
    "using LinearAlgebra\n",
    "methods(factorize)"
   ],
   "outputs": [
    {
     "output_type": "execute_result",
     "data": {
      "text/html": [
       "# 11 methods for generic function <b>factorize</b>:<ul><li> factorize(A::<b>StridedMatrix{T}</b>)<i> where T</i> in LinearAlgebra at <a href=\"file:///builddir/build/BUILD/julia-1.6.5/build/usr/share/julia/stdlib/v1.6/LinearAlgebra/src/dense.jl\" target=\"_blank\">/usr/share/julia/stdlib/v1.6/LinearAlgebra/src/dense.jl:1241</a></li> <li> factorize(A::<b>Adjoint</b>) in LinearAlgebra at <a href=\"file:///builddir/build/BUILD/julia-1.6.5/build/usr/share/julia/stdlib/v1.6/LinearAlgebra/src/dense.jl\" target=\"_blank\">/usr/share/julia/stdlib/v1.6/LinearAlgebra/src/dense.jl:1315</a></li> <li> factorize(A::<b>Transpose</b>) in LinearAlgebra at <a href=\"file:///builddir/build/BUILD/julia-1.6.5/build/usr/share/julia/stdlib/v1.6/LinearAlgebra/src/dense.jl\" target=\"_blank\">/usr/share/julia/stdlib/v1.6/LinearAlgebra/src/dense.jl:1316</a></li> <li> factorize(A::<b>LinearAlgebra.AbstractTriangular</b>) in LinearAlgebra at <a href=\"file:///builddir/build/BUILD/julia-1.6.5/build/usr/share/julia/stdlib/v1.6/LinearAlgebra/src/triangular.jl\" target=\"_blank\">/usr/share/julia/stdlib/v1.6/LinearAlgebra/src/triangular.jl:2216</a></li> <li> factorize(A::<b>Tridiagonal</b>) in LinearAlgebra at <a href=\"file:///builddir/build/BUILD/julia-1.6.5/build/usr/share/julia/stdlib/v1.6/LinearAlgebra/src/lu.jl\" target=\"_blank\">/usr/share/julia/stdlib/v1.6/LinearAlgebra/src/lu.jl:555</a></li> <li> factorize(D::<b>Diagonal</b>) in LinearAlgebra at <a href=\"file:///builddir/build/BUILD/julia-1.6.5/build/usr/share/julia/stdlib/v1.6/LinearAlgebra/src/diagonal.jl\" target=\"_blank\">/usr/share/julia/stdlib/v1.6/LinearAlgebra/src/diagonal.jl:121</a></li> <li> factorize(A::<b>Bidiagonal</b>) in LinearAlgebra at <a href=\"file:///builddir/build/BUILD/julia-1.6.5/build/usr/share/julia/stdlib/v1.6/LinearAlgebra/src/bidiag.jl\" target=\"_blank\">/usr/share/julia/stdlib/v1.6/LinearAlgebra/src/bidiag.jl:882</a></li> <li> factorize(S::<b>SymTridiagonal</b>) in LinearAlgebra at <a href=\"file:///builddir/build/BUILD/julia-1.6.5/build/usr/share/julia/stdlib/v1.6/LinearAlgebra/src/ldlt.jl\" target=\"_blank\">/usr/share/julia/stdlib/v1.6/LinearAlgebra/src/ldlt.jl:167</a></li> <li> factorize(A::<b>SparseArrays.AbstractSparseMatrixCSC</b>) in SparseArrays at <a href=\"file:///builddir/build/BUILD/julia-1.6.5/build/usr/share/julia/stdlib/v1.6/SparseArrays/src/linalg.jl\" target=\"_blank\">/usr/share/julia/stdlib/v1.6/SparseArrays/src/linalg.jl:1599</a></li> <li> factorize(A::<b>Union{Hermitian{ComplexF64, var\"#s814\"}, Hermitian{Float64, var\"#s814\"}, Symmetric{Float64, var\"#s814\"}} where var\"#s814\"<:SparseArrays.AbstractSparseMatrixCSC</b>) in SparseArrays at <a href=\"file:///builddir/build/BUILD/julia-1.6.5/build/usr/share/julia/stdlib/v1.6/SparseArrays/src/linalg.jl\" target=\"_blank\">/usr/share/julia/stdlib/v1.6/SparseArrays/src/linalg.jl:1629</a></li> <li> factorize(A::<b>Union{Hermitian{T, S}, Symmetric{T, S}} where {T, S}</b>) in LinearAlgebra at <a href=\"file:///builddir/build/BUILD/julia-1.6.5/build/usr/share/julia/stdlib/v1.6/LinearAlgebra/src/symmetric.jl\" target=\"_blank\">/usr/share/julia/stdlib/v1.6/LinearAlgebra/src/symmetric.jl:637</a></li> </ul>"
      ],
      "text/plain": [
       "# 11 methods for generic function \"factorize\":\n",
       "[1] factorize(A::StridedMatrix{T}) where T in LinearAlgebra at /usr/share/julia/stdlib/v1.6/LinearAlgebra/src/dense.jl:1241\n",
       "[2] factorize(A::Adjoint) in LinearAlgebra at /usr/share/julia/stdlib/v1.6/LinearAlgebra/src/dense.jl:1315\n",
       "[3] factorize(A::Transpose) in LinearAlgebra at /usr/share/julia/stdlib/v1.6/LinearAlgebra/src/dense.jl:1316\n",
       "[4] factorize(A::LinearAlgebra.AbstractTriangular) in LinearAlgebra at /usr/share/julia/stdlib/v1.6/LinearAlgebra/src/triangular.jl:2216\n",
       "[5] factorize(A::Tridiagonal) in LinearAlgebra at /usr/share/julia/stdlib/v1.6/LinearAlgebra/src/lu.jl:555\n",
       "[6] factorize(D::Diagonal) in LinearAlgebra at /usr/share/julia/stdlib/v1.6/LinearAlgebra/src/diagonal.jl:121\n",
       "[7] factorize(A::Bidiagonal) in LinearAlgebra at /usr/share/julia/stdlib/v1.6/LinearAlgebra/src/bidiag.jl:882\n",
       "[8] factorize(S::SymTridiagonal) in LinearAlgebra at /usr/share/julia/stdlib/v1.6/LinearAlgebra/src/ldlt.jl:167\n",
       "[9] factorize(A::SparseArrays.AbstractSparseMatrixCSC) in SparseArrays at /usr/share/julia/stdlib/v1.6/SparseArrays/src/linalg.jl:1599\n",
       "[10] factorize(A::Union{Hermitian{ComplexF64, var\"#s814\"}, Hermitian{Float64, var\"#s814\"}, Symmetric{Float64, var\"#s814\"}} where var\"#s814\"<:SparseArrays.AbstractSparseMatrixCSC) in SparseArrays at /usr/share/julia/stdlib/v1.6/SparseArrays/src/linalg.jl:1629\n",
       "[11] factorize(A::Union{Hermitian{T, S}, Symmetric{T, S}} where {T, S}) in LinearAlgebra at /usr/share/julia/stdlib/v1.6/LinearAlgebra/src/symmetric.jl:637"
      ]
     },
     "metadata": {},
     "execution_count": 22
    }
   ],
   "metadata": {}
  },
  {
   "cell_type": "code",
   "execution_count": 23,
   "source": [
    "import Base.+\n",
    "\n",
    "mutable struct Point\n",
    "    x::Float64\n",
    "    y::Float64\n",
    "end\n",
    "\n",
    "p = Point(1, 2)\n",
    "\n",
    "(+)(p1::Point, p2::Point) = Point(p1.x+p2.x, p1.y+p2.y)"
   ],
   "outputs": [
    {
     "output_type": "execute_result",
     "data": {
      "text/plain": [
       "+ (generic function with 191 methods)"
      ]
     },
     "metadata": {},
     "execution_count": 23
    }
   ],
   "metadata": {}
  },
  {
   "cell_type": "code",
   "execution_count": 24,
   "source": [
    "p+p"
   ],
   "outputs": [
    {
     "output_type": "execute_result",
     "data": {
      "text/plain": [
       "Point(2.0, 4.0)"
      ]
     },
     "metadata": {},
     "execution_count": 24
    }
   ],
   "metadata": {}
  },
  {
   "cell_type": "markdown",
   "source": [
    "## Type Inference"
   ],
   "metadata": {}
  },
  {
   "cell_type": "code",
   "execution_count": 26,
   "source": [
    "[i for i in 1:5]"
   ],
   "outputs": [
    {
     "output_type": "execute_result",
     "data": {
      "text/plain": [
       "5-element Vector{Int64}:\n",
       " 1\n",
       " 2\n",
       " 3\n",
       " 4\n",
       " 5"
      ]
     },
     "metadata": {},
     "execution_count": 26
    }
   ],
   "metadata": {}
  },
  {
   "cell_type": "code",
   "execution_count": 27,
   "source": [
    "function relu(x)\n",
    "    if x > 0\n",
    "        return x\n",
    "    else\n",
    "        return 0\n",
    "    end\n",
    "end"
   ],
   "outputs": [
    {
     "output_type": "execute_result",
     "data": {
      "text/plain": [
       "relu (generic function with 1 method)"
      ]
     },
     "metadata": {},
     "execution_count": 27
    }
   ],
   "metadata": {}
  },
  {
   "cell_type": "code",
   "execution_count": 28,
   "source": [
    "typeof(relu(2.5))"
   ],
   "outputs": [
    {
     "output_type": "execute_result",
     "data": {
      "text/plain": [
       "Float64"
      ]
     },
     "metadata": {},
     "execution_count": 28
    }
   ],
   "metadata": {}
  },
  {
   "cell_type": "code",
   "execution_count": 29,
   "source": [
    "typeof(relu(-3.1))"
   ],
   "outputs": [
    {
     "output_type": "execute_result",
     "data": {
      "text/plain": [
       "Int64"
      ]
     },
     "metadata": {},
     "execution_count": 29
    }
   ],
   "metadata": {}
  },
  {
   "cell_type": "code",
   "execution_count": 30,
   "source": [
    "function relu_fixed(x)\n",
    "    if x > 0\n",
    "        return x\n",
    "    else\n",
    "        return zero(x)\n",
    "    end\n",
    "end"
   ],
   "outputs": [
    {
     "output_type": "execute_result",
     "data": {
      "text/plain": [
       "relu_fixed (generic function with 1 method)"
      ]
     },
     "metadata": {},
     "execution_count": 30
    }
   ],
   "metadata": {}
  },
  {
   "cell_type": "code",
   "execution_count": 31,
   "source": [
    "typeof(relu_fixed(-3.1))"
   ],
   "outputs": [
    {
     "output_type": "execute_result",
     "data": {
      "text/plain": [
       "Float64"
      ]
     },
     "metadata": {},
     "execution_count": 31
    }
   ],
   "metadata": {}
  },
  {
   "cell_type": "code",
   "execution_count": 32,
   "source": [
    "@code_warntype relu(2.5)"
   ],
   "outputs": [
    {
     "output_type": "stream",
     "name": "stdout",
     "text": [
      "Variables\n",
      "  #self#\u001b[36m::Core.Const(relu)\u001b[39m\n",
      "  x\u001b[36m::Float64\u001b[39m\n",
      "\n",
      "Body\u001b[91m\u001b[1m::Union{Float64, Int64}\u001b[22m\u001b[39m\n",
      "\u001b[90m1 ─\u001b[39m %1 = (x > 0)\u001b[36m::Bool\u001b[39m\n",
      "\u001b[90m└──\u001b[39m      goto #3 if not %1\n",
      "\u001b[90m2 ─\u001b[39m      return x\n",
      "\u001b[90m3 ─\u001b[39m      return 0\n"
     ]
    }
   ],
   "metadata": {}
  },
  {
   "cell_type": "code",
   "execution_count": 33,
   "source": [
    "@code_warntype relu_fixed(2.5)"
   ],
   "outputs": [
    {
     "output_type": "stream",
     "name": "stdout",
     "text": [
      "Variables\n",
      "  #self#\u001b[36m::Core.Const(relu_fixed)\u001b[39m\n",
      "  x\u001b[36m::Float64\u001b[39m\n",
      "\n",
      "Body\u001b[36m::Float64\u001b[39m\n",
      "\u001b[90m1 ─\u001b[39m %1 = (x > 0)\u001b[36m::Bool\u001b[39m\n",
      "\u001b[90m└──\u001b[39m      goto #3 if not %1\n",
      "\u001b[90m2 ─\u001b[39m      return x\n",
      "\u001b[90m3 ─\u001b[39m %4 = Main.zero(x)\u001b[36m::Core.Const(0.0)\u001b[39m\n",
      "\u001b[90m└──\u001b[39m      return %4\n"
     ]
    }
   ],
   "metadata": {}
  },
  {
   "cell_type": "markdown",
   "source": [
    "## Thanks For Your Attention!"
   ],
   "metadata": {}
  },
  {
   "cell_type": "markdown",
   "source": [
    "<img src=gif.gif>"
   ],
   "metadata": {}
  }
 ],
 "metadata": {
  "orig_nbformat": 4,
  "language_info": {
   "file_extension": ".jl",
   "name": "julia",
   "mimetype": "application/julia",
   "version": "1.6.5"
  },
  "kernelspec": {
   "name": "julia-1.6",
   "display_name": "Julia 1.6.1",
   "language": "julia"
  }
 },
 "nbformat": 4,
 "nbformat_minor": 2
}