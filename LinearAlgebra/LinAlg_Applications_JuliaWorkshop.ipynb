{
 "cells": [
  {
   "cell_type": "markdown",
   "source": [
    "# Linear Algebra: Applications"
   ],
   "metadata": {}
  },
  {
   "cell_type": "code",
   "execution_count": 1,
   "source": [
    "using LinearAlgebra, Plots"
   ],
   "outputs": [],
   "metadata": {}
  },
  {
   "cell_type": "markdown",
   "source": [
    "## Linear System of Equations"
   ],
   "metadata": {}
  },
  {
   "cell_type": "markdown",
   "source": [
    "### Example: $Ax = b$  is equivalent to  $\\alpha+\\beta=5$  and  $2\\alpha+3\\beta=12$  for:\n",
    "### <br>\n",
    "\n",
    "### $A = \\begin{bmatrix} 1 & 1 \\\\ 2 & 3 \\end{bmatrix}$, $x = \\begin{bmatrix} \\alpha \\\\ \\beta \\end{bmatrix}$ and $b = \\begin{bmatrix} 5 \\\\ 12 \\end{bmatrix}$\n"
   ],
   "metadata": {}
  },
  {
   "cell_type": "code",
   "execution_count": 5,
   "source": [
    "A = [1.0 1; 2 3]\n",
    "b = [5.0, 12]\n",
    "\n",
    "x = A\\ b    # Here comes the magical backslash\n"
   ],
   "outputs": [
    {
     "output_type": "execute_result",
     "data": {
      "text/plain": [
       "2-element Vector{Float64}:\n",
       " 3.0\n",
       " 2.0"
      ]
     },
     "metadata": {},
     "execution_count": 5
    }
   ],
   "metadata": {}
  },
  {
   "cell_type": "markdown",
   "source": [
    "### so $\\alpha = 3$ and $\\beta = 2$"
   ],
   "metadata": {}
  },
  {
   "cell_type": "markdown",
   "source": [
    "### Example: Fitting a Line to Two Data Points "
   ],
   "metadata": {}
  },
  {
   "cell_type": "markdown",
   "source": [
    "### $(x_1, y_1) = (2, 3)$ and $(x_2, y_2) = (5, 5)$\n",
    "### Our line is $y = \\alpha + \\beta x$ so $\\alpha+2\\beta=3$  and  $\\alpha+\\beta 5=5$ or:\n",
    "\n",
    "### $A = \\begin{bmatrix} 1 & 2 \\\\ 1 & 5 \\end{bmatrix}$, $x = \\begin{bmatrix} \\alpha \\\\ \\beta \\end{bmatrix}$ and $b = \\begin{bmatrix} 3 \\\\ 5 \\end{bmatrix}$"
   ],
   "metadata": {}
  },
  {
   "cell_type": "code",
   "execution_count": 6,
   "source": [
    "data_in = [2.0, 5]\n",
    "data_out = [3.0, 5.0]\n",
    "\n",
    "A = [ones(2) data_in]\n",
    "b = data_out\n",
    "\n",
    "x = A\\ b\n",
    "println(x)\n",
    "\n",
    "scatter(data_in, data_out, legend = false, xlim = [0, 9], ylim = [0, 9])\n",
    "\n",
    "f(t) = x[1] + x[2]*t\n",
    "plot!(f)"
   ],
   "outputs": [
    {
     "output_type": "stream",
     "name": "stdout",
     "text": [
      "[1.6666666666666667, 0.6666666666666666]\n"
     ]
    },
    {
     "output_type": "execute_result",
     "data": {
      "image/svg+xml": "<?xml version=\"1.0\" encoding=\"utf-8\"?>\n<svg xmlns=\"http://www.w3.org/2000/svg\" xmlns:xlink=\"http://www.w3.org/1999/xlink\" width=\"600\" height=\"400\" viewBox=\"0 0 2400 1600\">\n<defs>\n  <clipPath id=\"clip270\">\n    <rect x=\"0\" y=\"0\" width=\"2400\" height=\"1600\"/>\n  </clipPath>\n</defs>\n<path clip-path=\"url(#clip270)\" d=\"\nM0 1600 L2400 1600 L2400 0 L0 0  Z\n  \" fill=\"#ffffff\" fill-rule=\"evenodd\" fill-opacity=\"1\"/>\n<defs>\n  <clipPath id=\"clip271\">\n    <rect x=\"480\" y=\"0\" width=\"1681\" height=\"1600\"/>\n  </clipPath>\n</defs>\n<path clip-path=\"url(#clip270)\" d=\"\nM112.177 1486.45 L2352.76 1486.45 L2352.76 47.2441 L112.177 47.2441  Z\n  \" fill=\"#ffffff\" fill-rule=\"evenodd\" fill-opacity=\"1\"/>\n<defs>\n  <clipPath id=\"clip272\">\n    <rect x=\"112\" y=\"47\" width=\"2242\" height=\"1440\"/>\n  </clipPath>\n</defs>\n<polyline clip-path=\"url(#clip272)\" style=\"stroke:#000000; stroke-linecap:butt; stroke-linejoin:round; stroke-width:2; stroke-opacity:0.1; fill:none\" points=\"\n  175.59,1486.45 175.59,47.2441 \n  \"/>\n<polyline clip-path=\"url(#clip272)\" style=\"stroke:#000000; stroke-linecap:butt; stroke-linejoin:round; stroke-width:2; stroke-opacity:0.1; fill:none\" points=\"\n  645.313,1486.45 645.313,47.2441 \n  \"/>\n<polyline clip-path=\"url(#clip272)\" style=\"stroke:#000000; stroke-linecap:butt; stroke-linejoin:round; stroke-width:2; stroke-opacity:0.1; fill:none\" points=\"\n  1115.04,1486.45 1115.04,47.2441 \n  \"/>\n<polyline clip-path=\"url(#clip272)\" style=\"stroke:#000000; stroke-linecap:butt; stroke-linejoin:round; stroke-width:2; stroke-opacity:0.1; fill:none\" points=\"\n  1584.76,1486.45 1584.76,47.2441 \n  \"/>\n<polyline clip-path=\"url(#clip272)\" style=\"stroke:#000000; stroke-linecap:butt; stroke-linejoin:round; stroke-width:2; stroke-opacity:0.1; fill:none\" points=\"\n  2054.48,1486.45 2054.48,47.2441 \n  \"/>\n<polyline clip-path=\"url(#clip270)\" style=\"stroke:#000000; stroke-linecap:butt; stroke-linejoin:round; stroke-width:4; stroke-opacity:1; fill:none\" points=\"\n  112.177,1486.45 2352.76,1486.45 \n  \"/>\n<polyline clip-path=\"url(#clip270)\" style=\"stroke:#000000; stroke-linecap:butt; stroke-linejoin:round; stroke-width:4; stroke-opacity:1; fill:none\" points=\"\n  175.59,1486.45 175.59,1467.55 \n  \"/>\n<polyline clip-path=\"url(#clip270)\" style=\"stroke:#000000; stroke-linecap:butt; stroke-linejoin:round; stroke-width:4; stroke-opacity:1; fill:none\" points=\"\n  645.313,1486.45 645.313,1467.55 \n  \"/>\n<polyline clip-path=\"url(#clip270)\" style=\"stroke:#000000; stroke-linecap:butt; stroke-linejoin:round; stroke-width:4; stroke-opacity:1; fill:none\" points=\"\n  1115.04,1486.45 1115.04,1467.55 \n  \"/>\n<polyline clip-path=\"url(#clip270)\" style=\"stroke:#000000; stroke-linecap:butt; stroke-linejoin:round; stroke-width:4; stroke-opacity:1; fill:none\" points=\"\n  1584.76,1486.45 1584.76,1467.55 \n  \"/>\n<polyline clip-path=\"url(#clip270)\" style=\"stroke:#000000; stroke-linecap:butt; stroke-linejoin:round; stroke-width:4; stroke-opacity:1; fill:none\" points=\"\n  2054.48,1486.45 2054.48,1467.55 \n  \"/>\n<path clip-path=\"url(#clip270)\" d=\"M175.59 1515.64 Q171.979 1515.64 170.15 1519.2 Q168.344 1522.75 168.344 1529.87 Q168.344 1536.98 170.15 1540.55 Q171.979 1544.09 175.59 1544.09 Q179.224 1544.09 181.03 1540.55 Q182.858 1536.98 182.858 1529.87 Q182.858 1522.75 181.03 1519.2 Q179.224 1515.64 175.59 1515.64 M175.59 1511.93 Q181.4 1511.93 184.455 1516.54 Q187.534 1521.12 187.534 1529.87 Q187.534 1538.6 184.455 1543.21 Q181.4 1547.79 175.59 1547.79 Q169.78 1547.79 166.701 1543.21 Q163.645 1538.6 163.645 1529.87 Q163.645 1521.12 166.701 1516.54 Q169.78 1511.93 175.59 1511.93 Z\" fill=\"#000000\" fill-rule=\"evenodd\" fill-opacity=\"1\" /><path clip-path=\"url(#clip270)\" d=\"M639.966 1543.18 L656.285 1543.18 L656.285 1547.12 L634.341 1547.12 L634.341 1543.18 Q637.003 1540.43 641.586 1535.8 Q646.192 1531.15 647.373 1529.81 Q649.618 1527.28 650.498 1525.55 Q651.401 1523.79 651.401 1522.1 Q651.401 1519.34 649.456 1517.61 Q647.535 1515.87 644.433 1515.87 Q642.234 1515.87 639.78 1516.63 Q637.35 1517.4 634.572 1518.95 L634.572 1514.23 Q637.396 1513.09 639.85 1512.51 Q642.304 1511.93 644.341 1511.93 Q649.711 1511.93 652.905 1514.62 Q656.1 1517.31 656.1 1521.8 Q656.1 1523.93 655.29 1525.85 Q654.503 1527.74 652.396 1530.34 Q651.817 1531.01 648.716 1534.23 Q645.614 1537.42 639.966 1543.18 Z\" fill=\"#000000\" fill-rule=\"evenodd\" fill-opacity=\"1\" /><path clip-path=\"url(#clip270)\" d=\"M1118.05 1516.63 L1106.24 1535.08 L1118.05 1535.08 L1118.05 1516.63 M1116.82 1512.56 L1122.7 1512.56 L1122.7 1535.08 L1127.63 1535.08 L1127.63 1538.97 L1122.7 1538.97 L1122.7 1547.12 L1118.05 1547.12 L1118.05 1538.97 L1102.44 1538.97 L1102.44 1534.46 L1116.82 1512.56 Z\" fill=\"#000000\" fill-rule=\"evenodd\" fill-opacity=\"1\" /><path clip-path=\"url(#clip270)\" d=\"M1585.16 1527.98 Q1582.02 1527.98 1580.16 1530.13 Q1578.34 1532.28 1578.34 1536.03 Q1578.34 1539.76 1580.16 1541.93 Q1582.02 1544.09 1585.16 1544.09 Q1588.31 1544.09 1590.14 1541.93 Q1591.99 1539.76 1591.99 1536.03 Q1591.99 1532.28 1590.14 1530.13 Q1588.31 1527.98 1585.16 1527.98 M1594.45 1513.32 L1594.45 1517.58 Q1592.69 1516.75 1590.88 1516.31 Q1589.1 1515.87 1587.34 1515.87 Q1582.71 1515.87 1580.26 1519 Q1577.83 1522.12 1577.48 1528.44 Q1578.84 1526.43 1580.9 1525.36 Q1582.96 1524.27 1585.44 1524.27 Q1590.65 1524.27 1593.66 1527.44 Q1596.69 1530.59 1596.69 1536.03 Q1596.69 1541.36 1593.54 1544.57 Q1590.4 1547.79 1585.16 1547.79 Q1579.17 1547.79 1576 1543.21 Q1572.83 1538.6 1572.83 1529.87 Q1572.83 1521.68 1576.71 1516.82 Q1580.6 1511.93 1587.15 1511.93 Q1588.91 1511.93 1590.7 1512.28 Q1592.5 1512.63 1594.45 1513.32 Z\" fill=\"#000000\" fill-rule=\"evenodd\" fill-opacity=\"1\" /><path clip-path=\"url(#clip270)\" d=\"M2054.48 1530.71 Q2051.15 1530.71 2049.23 1532.49 Q2047.33 1534.27 2047.33 1537.4 Q2047.33 1540.52 2049.23 1542.31 Q2051.15 1544.09 2054.48 1544.09 Q2057.82 1544.09 2059.74 1542.31 Q2061.66 1540.5 2061.66 1537.4 Q2061.66 1534.27 2059.74 1532.49 Q2057.84 1530.71 2054.48 1530.71 M2049.81 1528.72 Q2046.8 1527.98 2045.11 1525.92 Q2043.44 1523.86 2043.44 1520.89 Q2043.44 1516.75 2046.38 1514.34 Q2049.34 1511.93 2054.48 1511.93 Q2059.64 1511.93 2062.58 1514.34 Q2065.52 1516.75 2065.52 1520.89 Q2065.52 1523.86 2063.83 1525.92 Q2062.17 1527.98 2059.18 1528.72 Q2062.56 1529.5 2064.44 1531.8 Q2066.33 1534.09 2066.33 1537.4 Q2066.33 1542.42 2063.25 1545.11 Q2060.2 1547.79 2054.48 1547.79 Q2048.76 1547.79 2045.69 1545.11 Q2042.63 1542.42 2042.63 1537.4 Q2042.63 1534.09 2044.53 1531.8 Q2046.43 1529.5 2049.81 1528.72 M2048.09 1521.33 Q2048.09 1524.02 2049.76 1525.52 Q2051.45 1527.03 2054.48 1527.03 Q2057.49 1527.03 2059.18 1525.52 Q2060.89 1524.02 2060.89 1521.33 Q2060.89 1518.65 2059.18 1517.14 Q2057.49 1515.64 2054.48 1515.64 Q2051.45 1515.64 2049.76 1517.14 Q2048.09 1518.65 2048.09 1521.33 Z\" fill=\"#000000\" fill-rule=\"evenodd\" fill-opacity=\"1\" /><polyline clip-path=\"url(#clip272)\" style=\"stroke:#000000; stroke-linecap:butt; stroke-linejoin:round; stroke-width:2; stroke-opacity:0.1; fill:none\" points=\"\n  112.177,1445.72 2352.76,1445.72 \n  \"/>\n<polyline clip-path=\"url(#clip272)\" style=\"stroke:#000000; stroke-linecap:butt; stroke-linejoin:round; stroke-width:2; stroke-opacity:0.1; fill:none\" points=\"\n  112.177,1144 2352.76,1144 \n  \"/>\n<polyline clip-path=\"url(#clip272)\" style=\"stroke:#000000; stroke-linecap:butt; stroke-linejoin:round; stroke-width:2; stroke-opacity:0.1; fill:none\" points=\"\n  112.177,842.276 2352.76,842.276 \n  \"/>\n<polyline clip-path=\"url(#clip272)\" style=\"stroke:#000000; stroke-linecap:butt; stroke-linejoin:round; stroke-width:2; stroke-opacity:0.1; fill:none\" points=\"\n  112.177,540.556 2352.76,540.556 \n  \"/>\n<polyline clip-path=\"url(#clip272)\" style=\"stroke:#000000; stroke-linecap:butt; stroke-linejoin:round; stroke-width:2; stroke-opacity:0.1; fill:none\" points=\"\n  112.177,238.836 2352.76,238.836 \n  \"/>\n<polyline clip-path=\"url(#clip270)\" style=\"stroke:#000000; stroke-linecap:butt; stroke-linejoin:round; stroke-width:4; stroke-opacity:1; fill:none\" points=\"\n  112.177,1486.45 112.177,47.2441 \n  \"/>\n<polyline clip-path=\"url(#clip270)\" style=\"stroke:#000000; stroke-linecap:butt; stroke-linejoin:round; stroke-width:4; stroke-opacity:1; fill:none\" points=\"\n  112.177,1445.72 131.075,1445.72 \n  \"/>\n<polyline clip-path=\"url(#clip270)\" style=\"stroke:#000000; stroke-linecap:butt; stroke-linejoin:round; stroke-width:4; stroke-opacity:1; fill:none\" points=\"\n  112.177,1144 131.075,1144 \n  \"/>\n<polyline clip-path=\"url(#clip270)\" style=\"stroke:#000000; stroke-linecap:butt; stroke-linejoin:round; stroke-width:4; stroke-opacity:1; fill:none\" points=\"\n  112.177,842.276 131.075,842.276 \n  \"/>\n<polyline clip-path=\"url(#clip270)\" style=\"stroke:#000000; stroke-linecap:butt; stroke-linejoin:round; stroke-width:4; stroke-opacity:1; fill:none\" points=\"\n  112.177,540.556 131.075,540.556 \n  \"/>\n<polyline clip-path=\"url(#clip270)\" style=\"stroke:#000000; stroke-linecap:butt; stroke-linejoin:round; stroke-width:4; stroke-opacity:1; fill:none\" points=\"\n  112.177,238.836 131.075,238.836 \n  \"/>\n<path clip-path=\"url(#clip270)\" d=\"M64.2328 1431.51 Q60.6217 1431.51 58.793 1435.08 Q56.9875 1438.62 56.9875 1445.75 Q56.9875 1452.86 58.793 1456.42 Q60.6217 1459.96 64.2328 1459.96 Q67.867 1459.96 69.6726 1456.42 Q71.5013 1452.86 71.5013 1445.75 Q71.5013 1438.62 69.6726 1435.08 Q67.867 1431.51 64.2328 1431.51 M64.2328 1427.81 Q70.0429 1427.81 73.0985 1432.42 Q76.1772 1437 76.1772 1445.75 Q76.1772 1454.48 73.0985 1459.08 Q70.0429 1463.67 64.2328 1463.67 Q58.4226 1463.67 55.344 1459.08 Q52.2884 1454.48 52.2884 1445.75 Q52.2884 1437 55.344 1432.42 Q58.4226 1427.81 64.2328 1427.81 Z\" fill=\"#000000\" fill-rule=\"evenodd\" fill-opacity=\"1\" /><path clip-path=\"url(#clip270)\" d=\"M59.8578 1157.34 L76.1772 1157.34 L76.1772 1161.28 L54.2328 1161.28 L54.2328 1157.34 Q56.8949 1154.59 61.4782 1149.96 Q66.0846 1145.3 67.2652 1143.96 Q69.5105 1141.44 70.3902 1139.7 Q71.2929 1137.94 71.2929 1136.25 Q71.2929 1133.5 69.3485 1131.76 Q67.4272 1130.03 64.3254 1130.03 Q62.1263 1130.03 59.6726 1130.79 Q57.2421 1131.55 54.4643 1133.1 L54.4643 1128.38 Q57.2884 1127.25 59.7421 1126.67 Q62.1958 1126.09 64.2328 1126.09 Q69.6031 1126.09 72.7976 1128.78 Q75.992 1131.46 75.992 1135.95 Q75.992 1138.08 75.1818 1140 Q74.3948 1141.9 72.2883 1144.49 Q71.7096 1145.16 68.6078 1148.38 Q65.5059 1151.58 59.8578 1157.34 Z\" fill=\"#000000\" fill-rule=\"evenodd\" fill-opacity=\"1\" /><path clip-path=\"url(#clip270)\" d=\"M66.5939 829.07 L54.7884 847.519 L66.5939 847.519 L66.5939 829.07 M65.367 824.996 L71.2466 824.996 L71.2466 847.519 L76.1772 847.519 L76.1772 851.408 L71.2466 851.408 L71.2466 859.556 L66.5939 859.556 L66.5939 851.408 L50.9921 851.408 L50.9921 846.894 L65.367 824.996 Z\" fill=\"#000000\" fill-rule=\"evenodd\" fill-opacity=\"1\" /><path clip-path=\"url(#clip270)\" d=\"M64.6495 538.693 Q61.5013 538.693 59.6495 540.845 Q57.8208 542.998 57.8208 546.748 Q57.8208 550.475 59.6495 552.651 Q61.5013 554.804 64.6495 554.804 Q67.7976 554.804 69.6263 552.651 Q71.4781 550.475 71.4781 546.748 Q71.4781 542.998 69.6263 540.845 Q67.7976 538.693 64.6495 538.693 M73.9318 524.04 L73.9318 528.299 Q72.1726 527.466 70.367 527.026 Q68.5846 526.586 66.8254 526.586 Q62.1958 526.586 59.7421 529.711 Q57.3115 532.836 56.9643 539.156 Q58.33 537.142 60.3902 536.077 Q62.4504 534.989 64.9272 534.989 Q70.1355 534.989 73.1448 538.16 Q76.1772 541.308 76.1772 546.748 Q76.1772 552.072 73.029 555.29 Q69.8809 558.507 64.6495 558.507 Q58.6541 558.507 55.4828 553.924 Q52.3116 549.318 52.3116 540.591 Q52.3116 532.396 56.2004 527.535 Q60.0893 522.651 66.6402 522.651 Q68.3994 522.651 70.1818 522.998 Q71.9874 523.346 73.9318 524.04 Z\" fill=\"#000000\" fill-rule=\"evenodd\" fill-opacity=\"1\" /><path clip-path=\"url(#clip270)\" d=\"M64.3254 239.704 Q60.9921 239.704 59.0708 241.487 Q57.1726 243.269 57.1726 246.394 Q57.1726 249.519 59.0708 251.301 Q60.9921 253.084 64.3254 253.084 Q67.6587 253.084 69.58 251.301 Q71.5013 249.496 71.5013 246.394 Q71.5013 243.269 69.58 241.487 Q67.6819 239.704 64.3254 239.704 M59.6495 237.714 Q56.6402 236.973 54.9504 234.913 Q53.2838 232.852 53.2838 229.89 Q53.2838 225.746 56.2236 223.339 Q59.1865 220.931 64.3254 220.931 Q69.4874 220.931 72.4272 223.339 Q75.367 225.746 75.367 229.89 Q75.367 232.852 73.6772 234.913 Q72.0105 236.973 69.0244 237.714 Q72.404 238.501 74.279 240.792 Q76.1772 243.084 76.1772 246.394 Q76.1772 251.417 73.0985 254.102 Q70.0429 256.788 64.3254 256.788 Q58.6078 256.788 55.5291 254.102 Q52.4736 251.417 52.4736 246.394 Q52.4736 243.084 54.3717 240.792 Q56.2699 238.501 59.6495 237.714 M57.9365 230.329 Q57.9365 233.014 59.6032 234.519 Q61.293 236.024 64.3254 236.024 Q67.3346 236.024 69.0244 234.519 Q70.7374 233.014 70.7374 230.329 Q70.7374 227.644 69.0244 226.14 Q67.3346 224.635 64.3254 224.635 Q61.293 224.635 59.6032 226.14 Q57.9365 227.644 57.9365 230.329 Z\" fill=\"#000000\" fill-rule=\"evenodd\" fill-opacity=\"1\" /><circle clip-path=\"url(#clip272)\" cx=\"645.313\" cy=\"993.136\" r=\"14\" fill=\"#009af9\" fill-rule=\"evenodd\" fill-opacity=\"1\" stroke=\"#000000\" stroke-opacity=\"1\" stroke-width=\"3.2\"/>\n<circle clip-path=\"url(#clip272)\" cx=\"1349.9\" cy=\"691.416\" r=\"14\" fill=\"#009af9\" fill-rule=\"evenodd\" fill-opacity=\"1\" stroke=\"#000000\" stroke-opacity=\"1\" stroke-width=\"3.2\"/>\n<polyline clip-path=\"url(#clip272)\" style=\"stroke:#e26f46; stroke-linecap:butt; stroke-linejoin:round; stroke-width:4; stroke-opacity:1; fill:none\" points=\"\n  175.59,1194.28 196.232,1185.44 387.102,1103.71 501.807,1054.59 598.789,1013.06 704.138,967.946 801.261,926.355 905.386,881.766 1026.03,830.105 1133.24,784.195 \n  1227.25,743.936 1329.75,700.043 1432.86,655.889 1546.86,607.071 1655.33,560.622 1768.11,512.326 1863.05,471.671 1978.96,422.036 2087.92,375.377 2262.48,300.627 \n  2289.34,289.123 \n  \"/>\n</svg>\n"
     },
     "metadata": {},
     "execution_count": 6
    }
   ],
   "metadata": {}
  },
  {
   "cell_type": "markdown",
   "source": [
    "## Linear Least Squares"
   ],
   "metadata": {}
  },
  {
   "cell_type": "markdown",
   "source": [
    "### Minimize $\\lVert e \\rVert = \\lVert Ax - b \\rVert$ \n",
    "\n",
    "### Example: $A = \\begin{bmatrix} 1 & 1 \\\\ 2 & 3 \\\\ 4 & 7 \\end{bmatrix}$ \n",
    "\n",
    "### and\n",
    "\n",
    "### $b = \\begin{bmatrix} 5 \\\\ 12 \\\\ 20 \\end{bmatrix}$\n",
    "\n",
    "### It's like adding $4\\alpha+7\\beta=20$ to our first system of equations"
   ],
   "metadata": {}
  },
  {
   "cell_type": "code",
   "execution_count": 7,
   "source": [
    "A = [1.0 1; 2 3; 4 7]\n",
    "b = [5, 12, 20]\n",
    "\n",
    "x = A\\ b\n",
    "e = A*x - b\n",
    "\n",
    "println(\"x = $x\")\n",
    "println(\"norm of e = $(norm(e))\")"
   ],
   "outputs": [
    {
     "output_type": "stream",
     "name": "stdout",
     "text": [
      "x = [6.857142857142846, -0.9999999999999944]\n",
      "norm of e = 1.6035674514745468\n"
     ]
    }
   ],
   "metadata": {}
  },
  {
   "cell_type": "markdown",
   "source": [
    "## Line Fitting"
   ],
   "metadata": {}
  },
  {
   "cell_type": "markdown",
   "source": [
    "### We can model linear regression as least squares\n",
    "### We have $f(x) = \\alpha + \\beta x$ and our goal is to minimize $J = \\Sigma_{i=1}^n (y_i - f(x_i))^2$\n",
    "### If we build $A$ and $b$ in the same way we have $J = \\lVert Ax - b \\rVert$\n",
    "\n",
    "### $A = \\begin{bmatrix} 1 & x_1 \\\\ 1 & x_2 \\\\ 1 & x_3 \\end{bmatrix}$\n",
    "### and\n",
    "### $b = \\begin{bmatrix} y_1 \\\\ y_2 \\\\ y_3  \\end{bmatrix}$"
   ],
   "metadata": {}
  },
  {
   "cell_type": "code",
   "execution_count": 8,
   "source": [
    "data_in = [2, 5, 8]\n",
    "data_out = [3, 5, 9]\n",
    "\n",
    "A = [ones(3) data_in]\n",
    "b = data_out\n",
    "\n",
    "x = A\\ b\n",
    "\n",
    "scatter(data_in, data_out, legend = false, xlim = [0, 9], ylim = [0, 9])\n",
    "\n",
    "f(t) = x[1] + x[2]*t\n",
    "plot!(f)"
   ],
   "outputs": [
    {
     "output_type": "execute_result",
     "data": {
      "image/svg+xml": "<?xml version=\"1.0\" encoding=\"utf-8\"?>\n<svg xmlns=\"http://www.w3.org/2000/svg\" xmlns:xlink=\"http://www.w3.org/1999/xlink\" width=\"600\" height=\"400\" viewBox=\"0 0 2400 1600\">\n<defs>\n  <clipPath id=\"clip310\">\n    <rect x=\"0\" y=\"0\" width=\"2400\" height=\"1600\"/>\n  </clipPath>\n</defs>\n<path clip-path=\"url(#clip310)\" d=\"\nM0 1600 L2400 1600 L2400 0 L0 0  Z\n  \" fill=\"#ffffff\" fill-rule=\"evenodd\" fill-opacity=\"1\"/>\n<defs>\n  <clipPath id=\"clip311\">\n    <rect x=\"480\" y=\"0\" width=\"1681\" height=\"1600\"/>\n  </clipPath>\n</defs>\n<path clip-path=\"url(#clip310)\" d=\"\nM112.177 1486.45 L2352.76 1486.45 L2352.76 47.2441 L112.177 47.2441  Z\n  \" fill=\"#ffffff\" fill-rule=\"evenodd\" fill-opacity=\"1\"/>\n<defs>\n  <clipPath id=\"clip312\">\n    <rect x=\"112\" y=\"47\" width=\"2242\" height=\"1440\"/>\n  </clipPath>\n</defs>\n<polyline clip-path=\"url(#clip312)\" style=\"stroke:#000000; stroke-linecap:butt; stroke-linejoin:round; stroke-width:2; stroke-opacity:0.1; fill:none\" points=\"\n  175.59,1486.45 175.59,47.2441 \n  \"/>\n<polyline clip-path=\"url(#clip312)\" style=\"stroke:#000000; stroke-linecap:butt; stroke-linejoin:round; stroke-width:2; stroke-opacity:0.1; fill:none\" points=\"\n  645.313,1486.45 645.313,47.2441 \n  \"/>\n<polyline clip-path=\"url(#clip312)\" style=\"stroke:#000000; stroke-linecap:butt; stroke-linejoin:round; stroke-width:2; stroke-opacity:0.1; fill:none\" points=\"\n  1115.04,1486.45 1115.04,47.2441 \n  \"/>\n<polyline clip-path=\"url(#clip312)\" style=\"stroke:#000000; stroke-linecap:butt; stroke-linejoin:round; stroke-width:2; stroke-opacity:0.1; fill:none\" points=\"\n  1584.76,1486.45 1584.76,47.2441 \n  \"/>\n<polyline clip-path=\"url(#clip312)\" style=\"stroke:#000000; stroke-linecap:butt; stroke-linejoin:round; stroke-width:2; stroke-opacity:0.1; fill:none\" points=\"\n  2054.48,1486.45 2054.48,47.2441 \n  \"/>\n<polyline clip-path=\"url(#clip310)\" style=\"stroke:#000000; stroke-linecap:butt; stroke-linejoin:round; stroke-width:4; stroke-opacity:1; fill:none\" points=\"\n  112.177,1486.45 2352.76,1486.45 \n  \"/>\n<polyline clip-path=\"url(#clip310)\" style=\"stroke:#000000; stroke-linecap:butt; stroke-linejoin:round; stroke-width:4; stroke-opacity:1; fill:none\" points=\"\n  175.59,1486.45 175.59,1467.55 \n  \"/>\n<polyline clip-path=\"url(#clip310)\" style=\"stroke:#000000; stroke-linecap:butt; stroke-linejoin:round; stroke-width:4; stroke-opacity:1; fill:none\" points=\"\n  645.313,1486.45 645.313,1467.55 \n  \"/>\n<polyline clip-path=\"url(#clip310)\" style=\"stroke:#000000; stroke-linecap:butt; stroke-linejoin:round; stroke-width:4; stroke-opacity:1; fill:none\" points=\"\n  1115.04,1486.45 1115.04,1467.55 \n  \"/>\n<polyline clip-path=\"url(#clip310)\" style=\"stroke:#000000; stroke-linecap:butt; stroke-linejoin:round; stroke-width:4; stroke-opacity:1; fill:none\" points=\"\n  1584.76,1486.45 1584.76,1467.55 \n  \"/>\n<polyline clip-path=\"url(#clip310)\" style=\"stroke:#000000; stroke-linecap:butt; stroke-linejoin:round; stroke-width:4; stroke-opacity:1; fill:none\" points=\"\n  2054.48,1486.45 2054.48,1467.55 \n  \"/>\n<path clip-path=\"url(#clip310)\" d=\"M175.59 1515.64 Q171.979 1515.64 170.15 1519.2 Q168.344 1522.75 168.344 1529.87 Q168.344 1536.98 170.15 1540.55 Q171.979 1544.09 175.59 1544.09 Q179.224 1544.09 181.03 1540.55 Q182.858 1536.98 182.858 1529.87 Q182.858 1522.75 181.03 1519.2 Q179.224 1515.64 175.59 1515.64 M175.59 1511.93 Q181.4 1511.93 184.455 1516.54 Q187.534 1521.12 187.534 1529.87 Q187.534 1538.6 184.455 1543.21 Q181.4 1547.79 175.59 1547.79 Q169.78 1547.79 166.701 1543.21 Q163.645 1538.6 163.645 1529.87 Q163.645 1521.12 166.701 1516.54 Q169.78 1511.93 175.59 1511.93 Z\" fill=\"#000000\" fill-rule=\"evenodd\" fill-opacity=\"1\" /><path clip-path=\"url(#clip310)\" d=\"M639.966 1543.18 L656.285 1543.18 L656.285 1547.12 L634.341 1547.12 L634.341 1543.18 Q637.003 1540.43 641.586 1535.8 Q646.192 1531.15 647.373 1529.81 Q649.618 1527.28 650.498 1525.55 Q651.401 1523.79 651.401 1522.1 Q651.401 1519.34 649.456 1517.61 Q647.535 1515.87 644.433 1515.87 Q642.234 1515.87 639.78 1516.63 Q637.35 1517.4 634.572 1518.95 L634.572 1514.23 Q637.396 1513.09 639.85 1512.51 Q642.304 1511.93 644.341 1511.93 Q649.711 1511.93 652.905 1514.62 Q656.1 1517.31 656.1 1521.8 Q656.1 1523.93 655.29 1525.85 Q654.503 1527.74 652.396 1530.34 Q651.817 1531.01 648.716 1534.23 Q645.614 1537.42 639.966 1543.18 Z\" fill=\"#000000\" fill-rule=\"evenodd\" fill-opacity=\"1\" /><path clip-path=\"url(#clip310)\" d=\"M1118.05 1516.63 L1106.24 1535.08 L1118.05 1535.08 L1118.05 1516.63 M1116.82 1512.56 L1122.7 1512.56 L1122.7 1535.08 L1127.63 1535.08 L1127.63 1538.97 L1122.7 1538.97 L1122.7 1547.12 L1118.05 1547.12 L1118.05 1538.97 L1102.44 1538.97 L1102.44 1534.46 L1116.82 1512.56 Z\" fill=\"#000000\" fill-rule=\"evenodd\" fill-opacity=\"1\" /><path clip-path=\"url(#clip310)\" d=\"M1585.16 1527.98 Q1582.02 1527.98 1580.16 1530.13 Q1578.34 1532.28 1578.34 1536.03 Q1578.34 1539.76 1580.16 1541.93 Q1582.02 1544.09 1585.16 1544.09 Q1588.31 1544.09 1590.14 1541.93 Q1591.99 1539.76 1591.99 1536.03 Q1591.99 1532.28 1590.14 1530.13 Q1588.31 1527.98 1585.16 1527.98 M1594.45 1513.32 L1594.45 1517.58 Q1592.69 1516.75 1590.88 1516.31 Q1589.1 1515.87 1587.34 1515.87 Q1582.71 1515.87 1580.26 1519 Q1577.83 1522.12 1577.48 1528.44 Q1578.84 1526.43 1580.9 1525.36 Q1582.96 1524.27 1585.44 1524.27 Q1590.65 1524.27 1593.66 1527.44 Q1596.69 1530.59 1596.69 1536.03 Q1596.69 1541.36 1593.54 1544.57 Q1590.4 1547.79 1585.16 1547.79 Q1579.17 1547.79 1576 1543.21 Q1572.83 1538.6 1572.83 1529.87 Q1572.83 1521.68 1576.71 1516.82 Q1580.6 1511.93 1587.15 1511.93 Q1588.91 1511.93 1590.7 1512.28 Q1592.5 1512.63 1594.45 1513.32 Z\" fill=\"#000000\" fill-rule=\"evenodd\" fill-opacity=\"1\" /><path clip-path=\"url(#clip310)\" d=\"M2054.48 1530.71 Q2051.15 1530.71 2049.23 1532.49 Q2047.33 1534.27 2047.33 1537.4 Q2047.33 1540.52 2049.23 1542.31 Q2051.15 1544.09 2054.48 1544.09 Q2057.82 1544.09 2059.74 1542.31 Q2061.66 1540.5 2061.66 1537.4 Q2061.66 1534.27 2059.74 1532.49 Q2057.84 1530.71 2054.48 1530.71 M2049.81 1528.72 Q2046.8 1527.98 2045.11 1525.92 Q2043.44 1523.86 2043.44 1520.89 Q2043.44 1516.75 2046.38 1514.34 Q2049.34 1511.93 2054.48 1511.93 Q2059.64 1511.93 2062.58 1514.34 Q2065.52 1516.75 2065.52 1520.89 Q2065.52 1523.86 2063.83 1525.92 Q2062.17 1527.98 2059.18 1528.72 Q2062.56 1529.5 2064.44 1531.8 Q2066.33 1534.09 2066.33 1537.4 Q2066.33 1542.42 2063.25 1545.11 Q2060.2 1547.79 2054.48 1547.79 Q2048.76 1547.79 2045.69 1545.11 Q2042.63 1542.42 2042.63 1537.4 Q2042.63 1534.09 2044.53 1531.8 Q2046.43 1529.5 2049.81 1528.72 M2048.09 1521.33 Q2048.09 1524.02 2049.76 1525.52 Q2051.45 1527.03 2054.48 1527.03 Q2057.49 1527.03 2059.18 1525.52 Q2060.89 1524.02 2060.89 1521.33 Q2060.89 1518.65 2059.18 1517.14 Q2057.49 1515.64 2054.48 1515.64 Q2051.45 1515.64 2049.76 1517.14 Q2048.09 1518.65 2048.09 1521.33 Z\" fill=\"#000000\" fill-rule=\"evenodd\" fill-opacity=\"1\" /><polyline clip-path=\"url(#clip312)\" style=\"stroke:#000000; stroke-linecap:butt; stroke-linejoin:round; stroke-width:2; stroke-opacity:0.1; fill:none\" points=\"\n  112.177,1445.72 2352.76,1445.72 \n  \"/>\n<polyline clip-path=\"url(#clip312)\" style=\"stroke:#000000; stroke-linecap:butt; stroke-linejoin:round; stroke-width:2; stroke-opacity:0.1; fill:none\" points=\"\n  112.177,1144 2352.76,1144 \n  \"/>\n<polyline clip-path=\"url(#clip312)\" style=\"stroke:#000000; stroke-linecap:butt; stroke-linejoin:round; stroke-width:2; stroke-opacity:0.1; fill:none\" points=\"\n  112.177,842.276 2352.76,842.276 \n  \"/>\n<polyline clip-path=\"url(#clip312)\" style=\"stroke:#000000; stroke-linecap:butt; stroke-linejoin:round; stroke-width:2; stroke-opacity:0.1; fill:none\" points=\"\n  112.177,540.556 2352.76,540.556 \n  \"/>\n<polyline clip-path=\"url(#clip312)\" style=\"stroke:#000000; stroke-linecap:butt; stroke-linejoin:round; stroke-width:2; stroke-opacity:0.1; fill:none\" points=\"\n  112.177,238.836 2352.76,238.836 \n  \"/>\n<polyline clip-path=\"url(#clip310)\" style=\"stroke:#000000; stroke-linecap:butt; stroke-linejoin:round; stroke-width:4; stroke-opacity:1; fill:none\" points=\"\n  112.177,1486.45 112.177,47.2441 \n  \"/>\n<polyline clip-path=\"url(#clip310)\" style=\"stroke:#000000; stroke-linecap:butt; stroke-linejoin:round; stroke-width:4; stroke-opacity:1; fill:none\" points=\"\n  112.177,1445.72 131.075,1445.72 \n  \"/>\n<polyline clip-path=\"url(#clip310)\" style=\"stroke:#000000; stroke-linecap:butt; stroke-linejoin:round; stroke-width:4; stroke-opacity:1; fill:none\" points=\"\n  112.177,1144 131.075,1144 \n  \"/>\n<polyline clip-path=\"url(#clip310)\" style=\"stroke:#000000; stroke-linecap:butt; stroke-linejoin:round; stroke-width:4; stroke-opacity:1; fill:none\" points=\"\n  112.177,842.276 131.075,842.276 \n  \"/>\n<polyline clip-path=\"url(#clip310)\" style=\"stroke:#000000; stroke-linecap:butt; stroke-linejoin:round; stroke-width:4; stroke-opacity:1; fill:none\" points=\"\n  112.177,540.556 131.075,540.556 \n  \"/>\n<polyline clip-path=\"url(#clip310)\" style=\"stroke:#000000; stroke-linecap:butt; stroke-linejoin:round; stroke-width:4; stroke-opacity:1; fill:none\" points=\"\n  112.177,238.836 131.075,238.836 \n  \"/>\n<path clip-path=\"url(#clip310)\" d=\"M64.2328 1431.51 Q60.6217 1431.51 58.793 1435.08 Q56.9875 1438.62 56.9875 1445.75 Q56.9875 1452.86 58.793 1456.42 Q60.6217 1459.96 64.2328 1459.96 Q67.867 1459.96 69.6726 1456.42 Q71.5013 1452.86 71.5013 1445.75 Q71.5013 1438.62 69.6726 1435.08 Q67.867 1431.51 64.2328 1431.51 M64.2328 1427.81 Q70.0429 1427.81 73.0985 1432.42 Q76.1772 1437 76.1772 1445.75 Q76.1772 1454.48 73.0985 1459.08 Q70.0429 1463.67 64.2328 1463.67 Q58.4226 1463.67 55.344 1459.08 Q52.2884 1454.48 52.2884 1445.75 Q52.2884 1437 55.344 1432.42 Q58.4226 1427.81 64.2328 1427.81 Z\" fill=\"#000000\" fill-rule=\"evenodd\" fill-opacity=\"1\" /><path clip-path=\"url(#clip310)\" d=\"M59.8578 1157.34 L76.1772 1157.34 L76.1772 1161.28 L54.2328 1161.28 L54.2328 1157.34 Q56.8949 1154.59 61.4782 1149.96 Q66.0846 1145.3 67.2652 1143.96 Q69.5105 1141.44 70.3902 1139.7 Q71.2929 1137.94 71.2929 1136.25 Q71.2929 1133.5 69.3485 1131.76 Q67.4272 1130.03 64.3254 1130.03 Q62.1263 1130.03 59.6726 1130.79 Q57.2421 1131.55 54.4643 1133.1 L54.4643 1128.38 Q57.2884 1127.25 59.7421 1126.67 Q62.1958 1126.09 64.2328 1126.09 Q69.6031 1126.09 72.7976 1128.78 Q75.992 1131.46 75.992 1135.95 Q75.992 1138.08 75.1818 1140 Q74.3948 1141.9 72.2883 1144.49 Q71.7096 1145.16 68.6078 1148.38 Q65.5059 1151.58 59.8578 1157.34 Z\" fill=\"#000000\" fill-rule=\"evenodd\" fill-opacity=\"1\" /><path clip-path=\"url(#clip310)\" d=\"M66.5939 829.07 L54.7884 847.519 L66.5939 847.519 L66.5939 829.07 M65.367 824.996 L71.2466 824.996 L71.2466 847.519 L76.1772 847.519 L76.1772 851.408 L71.2466 851.408 L71.2466 859.556 L66.5939 859.556 L66.5939 851.408 L50.9921 851.408 L50.9921 846.894 L65.367 824.996 Z\" fill=\"#000000\" fill-rule=\"evenodd\" fill-opacity=\"1\" /><path clip-path=\"url(#clip310)\" d=\"M64.6495 538.693 Q61.5013 538.693 59.6495 540.845 Q57.8208 542.998 57.8208 546.748 Q57.8208 550.475 59.6495 552.651 Q61.5013 554.804 64.6495 554.804 Q67.7976 554.804 69.6263 552.651 Q71.4781 550.475 71.4781 546.748 Q71.4781 542.998 69.6263 540.845 Q67.7976 538.693 64.6495 538.693 M73.9318 524.04 L73.9318 528.299 Q72.1726 527.466 70.367 527.026 Q68.5846 526.586 66.8254 526.586 Q62.1958 526.586 59.7421 529.711 Q57.3115 532.836 56.9643 539.156 Q58.33 537.142 60.3902 536.077 Q62.4504 534.989 64.9272 534.989 Q70.1355 534.989 73.1448 538.16 Q76.1772 541.308 76.1772 546.748 Q76.1772 552.072 73.029 555.29 Q69.8809 558.507 64.6495 558.507 Q58.6541 558.507 55.4828 553.924 Q52.3116 549.318 52.3116 540.591 Q52.3116 532.396 56.2004 527.535 Q60.0893 522.651 66.6402 522.651 Q68.3994 522.651 70.1818 522.998 Q71.9874 523.346 73.9318 524.04 Z\" fill=\"#000000\" fill-rule=\"evenodd\" fill-opacity=\"1\" /><path clip-path=\"url(#clip310)\" d=\"M64.3254 239.704 Q60.9921 239.704 59.0708 241.487 Q57.1726 243.269 57.1726 246.394 Q57.1726 249.519 59.0708 251.301 Q60.9921 253.084 64.3254 253.084 Q67.6587 253.084 69.58 251.301 Q71.5013 249.496 71.5013 246.394 Q71.5013 243.269 69.58 241.487 Q67.6819 239.704 64.3254 239.704 M59.6495 237.714 Q56.6402 236.973 54.9504 234.913 Q53.2838 232.852 53.2838 229.89 Q53.2838 225.746 56.2236 223.339 Q59.1865 220.931 64.3254 220.931 Q69.4874 220.931 72.4272 223.339 Q75.367 225.746 75.367 229.89 Q75.367 232.852 73.6772 234.913 Q72.0105 236.973 69.0244 237.714 Q72.404 238.501 74.279 240.792 Q76.1772 243.084 76.1772 246.394 Q76.1772 251.417 73.0985 254.102 Q70.0429 256.788 64.3254 256.788 Q58.6078 256.788 55.5291 254.102 Q52.4736 251.417 52.4736 246.394 Q52.4736 243.084 54.3717 240.792 Q56.2699 238.501 59.6495 237.714 M57.9365 230.329 Q57.9365 233.014 59.6032 234.519 Q61.293 236.024 64.3254 236.024 Q67.3346 236.024 69.0244 234.519 Q70.7374 233.014 70.7374 230.329 Q70.7374 227.644 69.0244 226.14 Q67.3346 224.635 64.3254 224.635 Q61.293 224.635 59.6032 226.14 Q57.9365 227.644 57.9365 230.329 Z\" fill=\"#000000\" fill-rule=\"evenodd\" fill-opacity=\"1\" /><circle clip-path=\"url(#clip312)\" cx=\"645.313\" cy=\"993.136\" r=\"14\" fill=\"#009af9\" fill-rule=\"evenodd\" fill-opacity=\"1\" stroke=\"#000000\" stroke-opacity=\"1\" stroke-width=\"3.2\"/>\n<circle clip-path=\"url(#clip312)\" cx=\"1349.9\" cy=\"691.416\" r=\"14\" fill=\"#009af9\" fill-rule=\"evenodd\" fill-opacity=\"1\" stroke=\"#000000\" stroke-opacity=\"1\" stroke-width=\"3.2\"/>\n<circle clip-path=\"url(#clip312)\" cx=\"2054.48\" cy=\"87.9763\" r=\"14\" fill=\"#009af9\" fill-rule=\"evenodd\" fill-opacity=\"1\" stroke=\"#000000\" stroke-opacity=\"1\" stroke-width=\"3.2\"/>\n<polyline clip-path=\"url(#clip312)\" style=\"stroke:#e26f46; stroke-linecap:butt; stroke-linejoin:round; stroke-width:4; stroke-opacity:1; fill:none\" points=\"\n  175.59,1345.14 196.232,1331.88 387.102,1209.28 501.807,1135.6 598.789,1073.31 704.138,1005.64 801.261,943.252 905.386,876.368 1026.03,798.877 1133.24,730.012 \n  1227.25,669.623 1329.75,603.783 1432.86,537.553 1546.86,464.326 1655.33,394.652 1768.11,322.208 1863.05,261.225 1978.96,186.773 2087.92,116.785 2262.48,4.65868 \n  2289.34,-12.597 \n  \"/>\n</svg>\n"
     },
     "metadata": {},
     "execution_count": 8
    }
   ],
   "metadata": {}
  },
  {
   "cell_type": "markdown",
   "source": [
    "## Curve Fitting"
   ],
   "metadata": {}
  },
  {
   "cell_type": "markdown",
   "source": [
    "### We want to fit a polynomial of degree n to data points\n",
    "### Example: Fitting a 3th dgree ploynomial to 5 data points\n",
    "### $A = \\begin{bmatrix} 1 & x_1 & x_1^2 & x_1^3 \\\\ 1 & x_2 & x_2^2 & x_2^3 \\\\ 1 & x_3 & x_3^2 & x_3^3 \\\\ 1 & x_4 & x_4^2 & x_4^3 \\\\ 1 & x_5 & x_5^2 & x_5^3 \\end{bmatrix}$\n",
    "### and\n",
    "### $b = \\begin{bmatrix} y_1 \\\\ y_2 \\\\ y_3 \\\\ y_4 \\\\ y_5 \\end{bmatrix}$"
   ],
   "metadata": {}
  },
  {
   "cell_type": "code",
   "execution_count": 9,
   "source": [
    "data_in = [1.0, 2, 6, 8, 9]\n",
    "data_out = [1.0, 4, 3, 2, 1]\n",
    "\n",
    "\n",
    "A = [ones(5) data_in data_in.^2 data_in.^3]\n",
    "b = data_out\n",
    "\n",
    "x = A\\ b\n",
    "\n",
    "scatter(data_in, data_out, legend = false, xlim = [0, 12], ylim = [0, 8])\n",
    "\n",
    "f(t) = x[1] + x[2]*t + x[3]*t^2 + x[4]*t^3\n",
    "plot!(f)"
   ],
   "outputs": [
    {
     "output_type": "execute_result",
     "data": {
      "image/svg+xml": "<?xml version=\"1.0\" encoding=\"utf-8\"?>\n<svg xmlns=\"http://www.w3.org/2000/svg\" xmlns:xlink=\"http://www.w3.org/1999/xlink\" width=\"600\" height=\"400\" viewBox=\"0 0 2400 1600\">\n<defs>\n  <clipPath id=\"clip350\">\n    <rect x=\"0\" y=\"0\" width=\"2400\" height=\"1600\"/>\n  </clipPath>\n</defs>\n<path clip-path=\"url(#clip350)\" d=\"\nM0 1600 L2400 1600 L2400 0 L0 0  Z\n  \" fill=\"#ffffff\" fill-rule=\"evenodd\" fill-opacity=\"1\"/>\n<defs>\n  <clipPath id=\"clip351\">\n    <rect x=\"480\" y=\"0\" width=\"1681\" height=\"1600\"/>\n  </clipPath>\n</defs>\n<path clip-path=\"url(#clip350)\" d=\"\nM112.177 1486.45 L2352.76 1486.45 L2352.76 47.2441 L112.177 47.2441  Z\n  \" fill=\"#ffffff\" fill-rule=\"evenodd\" fill-opacity=\"1\"/>\n<defs>\n  <clipPath id=\"clip352\">\n    <rect x=\"112\" y=\"47\" width=\"2242\" height=\"1440\"/>\n  </clipPath>\n</defs>\n<polyline clip-path=\"url(#clip352)\" style=\"stroke:#000000; stroke-linecap:butt; stroke-linejoin:round; stroke-width:2; stroke-opacity:0.1; fill:none\" points=\"\n  175.59,1486.45 175.59,47.2441 \n  \"/>\n<polyline clip-path=\"url(#clip352)\" style=\"stroke:#000000; stroke-linecap:butt; stroke-linejoin:round; stroke-width:2; stroke-opacity:0.1; fill:none\" points=\"\n  615.955,1486.45 615.955,47.2441 \n  \"/>\n<polyline clip-path=\"url(#clip352)\" style=\"stroke:#000000; stroke-linecap:butt; stroke-linejoin:round; stroke-width:2; stroke-opacity:0.1; fill:none\" points=\"\n  1056.32,1486.45 1056.32,47.2441 \n  \"/>\n<polyline clip-path=\"url(#clip352)\" style=\"stroke:#000000; stroke-linecap:butt; stroke-linejoin:round; stroke-width:2; stroke-opacity:0.1; fill:none\" points=\"\n  1496.69,1486.45 1496.69,47.2441 \n  \"/>\n<polyline clip-path=\"url(#clip352)\" style=\"stroke:#000000; stroke-linecap:butt; stroke-linejoin:round; stroke-width:2; stroke-opacity:0.1; fill:none\" points=\"\n  1937.05,1486.45 1937.05,47.2441 \n  \"/>\n<polyline clip-path=\"url(#clip350)\" style=\"stroke:#000000; stroke-linecap:butt; stroke-linejoin:round; stroke-width:4; stroke-opacity:1; fill:none\" points=\"\n  112.177,1486.45 2352.76,1486.45 \n  \"/>\n<polyline clip-path=\"url(#clip350)\" style=\"stroke:#000000; stroke-linecap:butt; stroke-linejoin:round; stroke-width:4; stroke-opacity:1; fill:none\" points=\"\n  175.59,1486.45 175.59,1467.55 \n  \"/>\n<polyline clip-path=\"url(#clip350)\" style=\"stroke:#000000; stroke-linecap:butt; stroke-linejoin:round; stroke-width:4; stroke-opacity:1; fill:none\" points=\"\n  615.955,1486.45 615.955,1467.55 \n  \"/>\n<polyline clip-path=\"url(#clip350)\" style=\"stroke:#000000; stroke-linecap:butt; stroke-linejoin:round; stroke-width:4; stroke-opacity:1; fill:none\" points=\"\n  1056.32,1486.45 1056.32,1467.55 \n  \"/>\n<polyline clip-path=\"url(#clip350)\" style=\"stroke:#000000; stroke-linecap:butt; stroke-linejoin:round; stroke-width:4; stroke-opacity:1; fill:none\" points=\"\n  1496.69,1486.45 1496.69,1467.55 \n  \"/>\n<polyline clip-path=\"url(#clip350)\" style=\"stroke:#000000; stroke-linecap:butt; stroke-linejoin:round; stroke-width:4; stroke-opacity:1; fill:none\" points=\"\n  1937.05,1486.45 1937.05,1467.55 \n  \"/>\n<path clip-path=\"url(#clip350)\" d=\"M152.974 1515.64 Q149.363 1515.64 147.534 1519.2 Q145.729 1522.75 145.729 1529.87 Q145.729 1536.98 147.534 1540.55 Q149.363 1544.09 152.974 1544.09 Q156.608 1544.09 158.414 1540.55 Q160.243 1536.98 160.243 1529.87 Q160.243 1522.75 158.414 1519.2 Q156.608 1515.64 152.974 1515.64 M152.974 1511.93 Q158.784 1511.93 161.84 1516.54 Q164.919 1521.12 164.919 1529.87 Q164.919 1538.6 161.84 1543.21 Q158.784 1547.79 152.974 1547.79 Q147.164 1547.79 144.085 1543.21 Q141.03 1538.6 141.03 1529.87 Q141.03 1521.12 144.085 1516.54 Q147.164 1511.93 152.974 1511.93 Z\" fill=\"#000000\" fill-rule=\"evenodd\" fill-opacity=\"1\" /><path clip-path=\"url(#clip350)\" d=\"M173.136 1541.24 L178.02 1541.24 L178.02 1547.12 L173.136 1547.12 L173.136 1541.24 Z\" fill=\"#000000\" fill-rule=\"evenodd\" fill-opacity=\"1\" /><path clip-path=\"url(#clip350)\" d=\"M198.205 1515.64 Q194.594 1515.64 192.766 1519.2 Q190.96 1522.75 190.96 1529.87 Q190.96 1536.98 192.766 1540.55 Q194.594 1544.09 198.205 1544.09 Q201.84 1544.09 203.645 1540.55 Q205.474 1536.98 205.474 1529.87 Q205.474 1522.75 203.645 1519.2 Q201.84 1515.64 198.205 1515.64 M198.205 1511.93 Q204.016 1511.93 207.071 1516.54 Q210.15 1521.12 210.15 1529.87 Q210.15 1538.6 207.071 1543.21 Q204.016 1547.79 198.205 1547.79 Q192.395 1547.79 189.317 1543.21 Q186.261 1538.6 186.261 1529.87 Q186.261 1521.12 189.317 1516.54 Q192.395 1511.93 198.205 1511.93 Z\" fill=\"#000000\" fill-rule=\"evenodd\" fill-opacity=\"1\" /><path clip-path=\"url(#clip350)\" d=\"M587.691 1543.18 L604.011 1543.18 L604.011 1547.12 L582.066 1547.12 L582.066 1543.18 Q584.728 1540.43 589.312 1535.8 Q593.918 1531.15 595.099 1529.81 Q597.344 1527.28 598.224 1525.55 Q599.126 1523.79 599.126 1522.1 Q599.126 1519.34 597.182 1517.61 Q595.261 1515.87 592.159 1515.87 Q589.96 1515.87 587.506 1516.63 Q585.076 1517.4 582.298 1518.95 L582.298 1514.23 Q585.122 1513.09 587.576 1512.51 Q590.029 1511.93 592.066 1511.93 Q597.437 1511.93 600.631 1514.62 Q603.826 1517.31 603.826 1521.8 Q603.826 1523.93 603.015 1525.85 Q602.228 1527.74 600.122 1530.34 Q599.543 1531.01 596.441 1534.23 Q593.339 1537.42 587.691 1543.18 Z\" fill=\"#000000\" fill-rule=\"evenodd\" fill-opacity=\"1\" /><path clip-path=\"url(#clip350)\" d=\"M613.825 1541.24 L618.71 1541.24 L618.71 1547.12 L613.825 1547.12 L613.825 1541.24 Z\" fill=\"#000000\" fill-rule=\"evenodd\" fill-opacity=\"1\" /><path clip-path=\"url(#clip350)\" d=\"M628.941 1512.56 L647.298 1512.56 L647.298 1516.5 L633.224 1516.5 L633.224 1524.97 Q634.242 1524.62 635.261 1524.46 Q636.279 1524.27 637.298 1524.27 Q643.085 1524.27 646.464 1527.44 Q649.844 1530.62 649.844 1536.03 Q649.844 1541.61 646.372 1544.71 Q642.899 1547.79 636.58 1547.79 Q634.404 1547.79 632.136 1547.42 Q629.89 1547.05 627.483 1546.31 L627.483 1541.61 Q629.566 1542.74 631.788 1543.3 Q634.011 1543.86 636.487 1543.86 Q640.492 1543.86 642.83 1541.75 Q645.168 1539.64 645.168 1536.03 Q645.168 1532.42 642.83 1530.31 Q640.492 1528.21 636.487 1528.21 Q634.612 1528.21 632.737 1528.62 Q630.886 1529.04 628.941 1529.92 L628.941 1512.56 Z\" fill=\"#000000\" fill-rule=\"evenodd\" fill-opacity=\"1\" /><path clip-path=\"url(#clip350)\" d=\"M1023.48 1512.56 L1041.84 1512.56 L1041.84 1516.5 L1027.77 1516.5 L1027.77 1524.97 Q1028.79 1524.62 1029.8 1524.46 Q1030.82 1524.27 1031.84 1524.27 Q1037.63 1524.27 1041.01 1527.44 Q1044.39 1530.62 1044.39 1536.03 Q1044.39 1541.61 1040.92 1544.71 Q1037.44 1547.79 1031.12 1547.79 Q1028.95 1547.79 1026.68 1547.42 Q1024.43 1547.05 1022.03 1546.31 L1022.03 1541.61 Q1024.11 1542.74 1026.33 1543.3 Q1028.55 1543.86 1031.03 1543.86 Q1035.04 1543.86 1037.37 1541.75 Q1039.71 1539.64 1039.71 1536.03 Q1039.71 1532.42 1037.37 1530.31 Q1035.04 1528.21 1031.03 1528.21 Q1029.16 1528.21 1027.28 1528.62 Q1025.43 1529.04 1023.48 1529.92 L1023.48 1512.56 Z\" fill=\"#000000\" fill-rule=\"evenodd\" fill-opacity=\"1\" /><path clip-path=\"url(#clip350)\" d=\"M1053.6 1541.24 L1058.48 1541.24 L1058.48 1547.12 L1053.6 1547.12 L1053.6 1541.24 Z\" fill=\"#000000\" fill-rule=\"evenodd\" fill-opacity=\"1\" /><path clip-path=\"url(#clip350)\" d=\"M1078.67 1515.64 Q1075.06 1515.64 1073.23 1519.2 Q1071.42 1522.75 1071.42 1529.87 Q1071.42 1536.98 1073.23 1540.55 Q1075.06 1544.09 1078.67 1544.09 Q1082.3 1544.09 1084.11 1540.55 Q1085.94 1536.98 1085.94 1529.87 Q1085.94 1522.75 1084.11 1519.2 Q1082.3 1515.64 1078.67 1515.64 M1078.67 1511.93 Q1084.48 1511.93 1087.54 1516.54 Q1090.61 1521.12 1090.61 1529.87 Q1090.61 1538.6 1087.54 1543.21 Q1084.48 1547.79 1078.67 1547.79 Q1072.86 1547.79 1069.78 1543.21 Q1066.73 1538.6 1066.73 1529.87 Q1066.73 1521.12 1069.78 1516.54 Q1072.86 1511.93 1078.67 1511.93 Z\" fill=\"#000000\" fill-rule=\"evenodd\" fill-opacity=\"1\" /><path clip-path=\"url(#clip350)\" d=\"M1463.01 1512.56 L1485.23 1512.56 L1485.23 1514.55 L1472.68 1547.12 L1467.8 1547.12 L1479.6 1516.5 L1463.01 1516.5 L1463.01 1512.56 Z\" fill=\"#000000\" fill-rule=\"evenodd\" fill-opacity=\"1\" /><path clip-path=\"url(#clip350)\" d=\"M1494.35 1541.24 L1499.23 1541.24 L1499.23 1547.12 L1494.35 1547.12 L1494.35 1541.24 Z\" fill=\"#000000\" fill-rule=\"evenodd\" fill-opacity=\"1\" /><path clip-path=\"url(#clip350)\" d=\"M1509.46 1512.56 L1527.82 1512.56 L1527.82 1516.5 L1513.75 1516.5 L1513.75 1524.97 Q1514.76 1524.62 1515.78 1524.46 Q1516.8 1524.27 1517.82 1524.27 Q1523.61 1524.27 1526.99 1527.44 Q1530.37 1530.62 1530.37 1536.03 Q1530.37 1541.61 1526.89 1544.71 Q1523.42 1547.79 1517.1 1547.79 Q1514.93 1547.79 1512.66 1547.42 Q1510.41 1547.05 1508.01 1546.31 L1508.01 1541.61 Q1510.09 1542.74 1512.31 1543.3 Q1514.53 1543.86 1517.01 1543.86 Q1521.01 1543.86 1523.35 1541.75 Q1525.69 1539.64 1525.69 1536.03 Q1525.69 1532.42 1523.35 1530.31 Q1521.01 1528.21 1517.01 1528.21 Q1515.13 1528.21 1513.26 1528.62 Q1511.41 1529.04 1509.46 1529.92 L1509.46 1512.56 Z\" fill=\"#000000\" fill-rule=\"evenodd\" fill-opacity=\"1\" /><path clip-path=\"url(#clip350)\" d=\"M1889.12 1543.18 L1896.76 1543.18 L1896.76 1516.82 L1888.45 1518.49 L1888.45 1514.23 L1896.72 1512.56 L1901.39 1512.56 L1901.39 1543.18 L1909.03 1543.18 L1909.03 1547.12 L1889.12 1547.12 L1889.12 1543.18 Z\" fill=\"#000000\" fill-rule=\"evenodd\" fill-opacity=\"1\" /><path clip-path=\"url(#clip350)\" d=\"M1928.47 1515.64 Q1924.86 1515.64 1923.03 1519.2 Q1921.23 1522.75 1921.23 1529.87 Q1921.23 1536.98 1923.03 1540.55 Q1924.86 1544.09 1928.47 1544.09 Q1932.11 1544.09 1933.91 1540.55 Q1935.74 1536.98 1935.74 1529.87 Q1935.74 1522.75 1933.91 1519.2 Q1932.11 1515.64 1928.47 1515.64 M1928.47 1511.93 Q1934.28 1511.93 1937.34 1516.54 Q1940.42 1521.12 1940.42 1529.87 Q1940.42 1538.6 1937.34 1543.21 Q1934.28 1547.79 1928.47 1547.79 Q1922.66 1547.79 1919.59 1543.21 Q1916.53 1538.6 1916.53 1529.87 Q1916.53 1521.12 1919.59 1516.54 Q1922.66 1511.93 1928.47 1511.93 Z\" fill=\"#000000\" fill-rule=\"evenodd\" fill-opacity=\"1\" /><path clip-path=\"url(#clip350)\" d=\"M1948.64 1541.24 L1953.52 1541.24 L1953.52 1547.12 L1948.64 1547.12 L1948.64 1541.24 Z\" fill=\"#000000\" fill-rule=\"evenodd\" fill-opacity=\"1\" /><path clip-path=\"url(#clip350)\" d=\"M1973.71 1515.64 Q1970.09 1515.64 1968.27 1519.2 Q1966.46 1522.75 1966.46 1529.87 Q1966.46 1536.98 1968.27 1540.55 Q1970.09 1544.09 1973.71 1544.09 Q1977.34 1544.09 1979.15 1540.55 Q1980.97 1536.98 1980.97 1529.87 Q1980.97 1522.75 1979.15 1519.2 Q1977.34 1515.64 1973.71 1515.64 M1973.71 1511.93 Q1979.52 1511.93 1982.57 1516.54 Q1985.65 1521.12 1985.65 1529.87 Q1985.65 1538.6 1982.57 1543.21 Q1979.52 1547.79 1973.71 1547.79 Q1967.9 1547.79 1964.82 1543.21 Q1961.76 1538.6 1961.76 1529.87 Q1961.76 1521.12 1964.82 1516.54 Q1967.9 1511.93 1973.71 1511.93 Z\" fill=\"#000000\" fill-rule=\"evenodd\" fill-opacity=\"1\" /><polyline clip-path=\"url(#clip352)\" style=\"stroke:#000000; stroke-linecap:butt; stroke-linejoin:round; stroke-width:2; stroke-opacity:0.1; fill:none\" points=\"\n  112.177,1445.72 2352.76,1445.72 \n  \"/>\n<polyline clip-path=\"url(#clip352)\" style=\"stroke:#000000; stroke-linecap:butt; stroke-linejoin:round; stroke-width:2; stroke-opacity:0.1; fill:none\" points=\"\n  112.177,1106.28 2352.76,1106.28 \n  \"/>\n<polyline clip-path=\"url(#clip352)\" style=\"stroke:#000000; stroke-linecap:butt; stroke-linejoin:round; stroke-width:2; stroke-opacity:0.1; fill:none\" points=\"\n  112.177,766.846 2352.76,766.846 \n  \"/>\n<polyline clip-path=\"url(#clip352)\" style=\"stroke:#000000; stroke-linecap:butt; stroke-linejoin:round; stroke-width:2; stroke-opacity:0.1; fill:none\" points=\"\n  112.177,427.411 2352.76,427.411 \n  \"/>\n<polyline clip-path=\"url(#clip352)\" style=\"stroke:#000000; stroke-linecap:butt; stroke-linejoin:round; stroke-width:2; stroke-opacity:0.1; fill:none\" points=\"\n  112.177,87.9763 2352.76,87.9763 \n  \"/>\n<polyline clip-path=\"url(#clip350)\" style=\"stroke:#000000; stroke-linecap:butt; stroke-linejoin:round; stroke-width:4; stroke-opacity:1; fill:none\" points=\"\n  112.177,1486.45 112.177,47.2441 \n  \"/>\n<polyline clip-path=\"url(#clip350)\" style=\"stroke:#000000; stroke-linecap:butt; stroke-linejoin:round; stroke-width:4; stroke-opacity:1; fill:none\" points=\"\n  112.177,1445.72 131.075,1445.72 \n  \"/>\n<polyline clip-path=\"url(#clip350)\" style=\"stroke:#000000; stroke-linecap:butt; stroke-linejoin:round; stroke-width:4; stroke-opacity:1; fill:none\" points=\"\n  112.177,1106.28 131.075,1106.28 \n  \"/>\n<polyline clip-path=\"url(#clip350)\" style=\"stroke:#000000; stroke-linecap:butt; stroke-linejoin:round; stroke-width:4; stroke-opacity:1; fill:none\" points=\"\n  112.177,766.846 131.075,766.846 \n  \"/>\n<polyline clip-path=\"url(#clip350)\" style=\"stroke:#000000; stroke-linecap:butt; stroke-linejoin:round; stroke-width:4; stroke-opacity:1; fill:none\" points=\"\n  112.177,427.411 131.075,427.411 \n  \"/>\n<polyline clip-path=\"url(#clip350)\" style=\"stroke:#000000; stroke-linecap:butt; stroke-linejoin:round; stroke-width:4; stroke-opacity:1; fill:none\" points=\"\n  112.177,87.9763 131.075,87.9763 \n  \"/>\n<path clip-path=\"url(#clip350)\" d=\"M64.2328 1431.51 Q60.6217 1431.51 58.793 1435.08 Q56.9875 1438.62 56.9875 1445.75 Q56.9875 1452.86 58.793 1456.42 Q60.6217 1459.96 64.2328 1459.96 Q67.867 1459.96 69.6726 1456.42 Q71.5013 1452.86 71.5013 1445.75 Q71.5013 1438.62 69.6726 1435.08 Q67.867 1431.51 64.2328 1431.51 M64.2328 1427.81 Q70.0429 1427.81 73.0985 1432.42 Q76.1772 1437 76.1772 1445.75 Q76.1772 1454.48 73.0985 1459.08 Q70.0429 1463.67 64.2328 1463.67 Q58.4226 1463.67 55.344 1459.08 Q52.2884 1454.48 52.2884 1445.75 Q52.2884 1437 55.344 1432.42 Q58.4226 1427.81 64.2328 1427.81 Z\" fill=\"#000000\" fill-rule=\"evenodd\" fill-opacity=\"1\" /><path clip-path=\"url(#clip350)\" d=\"M59.8578 1119.63 L76.1772 1119.63 L76.1772 1123.56 L54.2328 1123.56 L54.2328 1119.63 Q56.8949 1116.87 61.4782 1112.24 Q66.0846 1107.59 67.2652 1106.25 Q69.5105 1103.72 70.3902 1101.99 Q71.2929 1100.23 71.2929 1098.54 Q71.2929 1095.78 69.3485 1094.05 Q67.4272 1092.31 64.3254 1092.31 Q62.1263 1092.31 59.6726 1093.07 Q57.2421 1093.84 54.4643 1095.39 L54.4643 1090.67 Q57.2884 1089.53 59.7421 1088.95 Q62.1958 1088.38 64.2328 1088.38 Q69.6031 1088.38 72.7976 1091.06 Q75.992 1093.75 75.992 1098.24 Q75.992 1100.37 75.1818 1102.29 Q74.3948 1104.19 72.2883 1106.78 Q71.7096 1107.45 68.6078 1110.67 Q65.5059 1113.86 59.8578 1119.63 Z\" fill=\"#000000\" fill-rule=\"evenodd\" fill-opacity=\"1\" /><path clip-path=\"url(#clip350)\" d=\"M66.5939 753.64 L54.7884 772.089 L66.5939 772.089 L66.5939 753.64 M65.367 749.566 L71.2466 749.566 L71.2466 772.089 L76.1772 772.089 L76.1772 775.978 L71.2466 775.978 L71.2466 784.126 L66.5939 784.126 L66.5939 775.978 L50.9921 775.978 L50.9921 771.464 L65.367 749.566 Z\" fill=\"#000000\" fill-rule=\"evenodd\" fill-opacity=\"1\" /><path clip-path=\"url(#clip350)\" d=\"M64.6495 425.548 Q61.5013 425.548 59.6495 427.7 Q57.8208 429.853 57.8208 433.603 Q57.8208 437.33 59.6495 439.506 Q61.5013 441.659 64.6495 441.659 Q67.7976 441.659 69.6263 439.506 Q71.4781 437.33 71.4781 433.603 Q71.4781 429.853 69.6263 427.7 Q67.7976 425.548 64.6495 425.548 M73.9318 410.895 L73.9318 415.154 Q72.1726 414.321 70.367 413.881 Q68.5846 413.441 66.8254 413.441 Q62.1958 413.441 59.7421 416.566 Q57.3115 419.691 56.9643 426.011 Q58.33 423.997 60.3902 422.932 Q62.4504 421.844 64.9272 421.844 Q70.1355 421.844 73.1448 425.015 Q76.1772 428.163 76.1772 433.603 Q76.1772 438.927 73.029 442.145 Q69.8809 445.362 64.6495 445.362 Q58.6541 445.362 55.4828 440.779 Q52.3116 436.173 52.3116 427.446 Q52.3116 419.251 56.2004 414.39 Q60.0893 409.506 66.6402 409.506 Q68.3994 409.506 70.1818 409.853 Q71.9874 410.201 73.9318 410.895 Z\" fill=\"#000000\" fill-rule=\"evenodd\" fill-opacity=\"1\" /><path clip-path=\"url(#clip350)\" d=\"M64.3254 88.8443 Q60.9921 88.8443 59.0708 90.6267 Q57.1726 92.4091 57.1726 95.5341 Q57.1726 98.6591 59.0708 100.441 Q60.9921 102.224 64.3254 102.224 Q67.6587 102.224 69.58 100.441 Q71.5013 98.6359 71.5013 95.5341 Q71.5013 92.4091 69.58 90.6267 Q67.6819 88.8443 64.3254 88.8443 M59.6495 86.8536 Q56.6402 86.1129 54.9504 84.0527 Q53.2838 81.9925 53.2838 79.0296 Q53.2838 74.8861 56.2236 72.4787 Q59.1865 70.0713 64.3254 70.0713 Q69.4874 70.0713 72.4272 72.4787 Q75.367 74.8861 75.367 79.0296 Q75.367 81.9925 73.6772 84.0527 Q72.0105 86.1129 69.0244 86.8536 Q72.404 87.6406 74.279 89.9323 Q76.1772 92.2239 76.1772 95.5341 Q76.1772 100.557 73.0985 103.242 Q70.0429 105.928 64.3254 105.928 Q58.6078 105.928 55.5291 103.242 Q52.4736 100.557 52.4736 95.5341 Q52.4736 92.2239 54.3717 89.9323 Q56.2699 87.6406 59.6495 86.8536 M57.9365 79.4694 Q57.9365 82.1545 59.6032 83.6592 Q61.293 85.1638 64.3254 85.1638 Q67.3346 85.1638 69.0244 83.6592 Q70.7374 82.1545 70.7374 79.4694 Q70.7374 76.7842 69.0244 75.2796 Q67.3346 73.775 64.3254 73.775 Q61.293 73.775 59.6032 75.2796 Q57.9365 76.7842 57.9365 79.4694 Z\" fill=\"#000000\" fill-rule=\"evenodd\" fill-opacity=\"1\" /><circle clip-path=\"url(#clip352)\" cx=\"351.736\" cy=\"1276\" r=\"14\" fill=\"#009af9\" fill-rule=\"evenodd\" fill-opacity=\"1\" stroke=\"#000000\" stroke-opacity=\"1\" stroke-width=\"3.2\"/>\n<circle clip-path=\"url(#clip352)\" cx=\"527.882\" cy=\"766.846\" r=\"14\" fill=\"#009af9\" fill-rule=\"evenodd\" fill-opacity=\"1\" stroke=\"#000000\" stroke-opacity=\"1\" stroke-width=\"3.2\"/>\n<circle clip-path=\"url(#clip352)\" cx=\"1232.47\" cy=\"936.563\" r=\"14\" fill=\"#009af9\" fill-rule=\"evenodd\" fill-opacity=\"1\" stroke=\"#000000\" stroke-opacity=\"1\" stroke-width=\"3.2\"/>\n<circle clip-path=\"url(#clip352)\" cx=\"1584.76\" cy=\"1106.28\" r=\"14\" fill=\"#009af9\" fill-rule=\"evenodd\" fill-opacity=\"1\" stroke=\"#000000\" stroke-opacity=\"1\" stroke-width=\"3.2\"/>\n<circle clip-path=\"url(#clip352)\" cx=\"1760.9\" cy=\"1276\" r=\"14\" fill=\"#009af9\" fill-rule=\"evenodd\" fill-opacity=\"1\" stroke=\"#000000\" stroke-opacity=\"1\" stroke-width=\"3.2\"/>\n<polyline clip-path=\"url(#clip352)\" style=\"stroke:#e26f46; stroke-linecap:butt; stroke-linejoin:round; stroke-width:4; stroke-opacity:1; fill:none\" points=\"\n  175.59,1981.21 180.75,1955.04 185.911,1929.17 191.072,1903.59 196.232,1878.32 243.95,1658.45 291.667,1462.77 315.526,1373.64 339.385,1290.14 363.244,1212.12 \n  387.102,1139.43 415.779,1058.94 444.455,985.72 473.131,919.516 501.807,860.087 550.298,774.321 598.789,706.041 651.463,650.302 704.138,612.278 752.699,591.606 \n  801.261,583.508 853.323,587.438 905.386,602.985 965.706,633.592 1026.03,675.542 1133.24,771.006 1227.25,868.162 1329.75,977.801 1432.86,1080.99 1489.86,1130.82 \n  1546.86,1173.08 1601.1,1204.49 1655.33,1225.64 1711.72,1234.97 1768.11,1229.54 1815.58,1212.17 1863.05,1181.91 1921.01,1125.87 1978.96,1046.94 2033.44,950.071 \n  2087.92,829.5 2131.56,714.692 2175.2,582.735 2218.84,432.767 2262.48,263.921 2269.2,236.205 2275.91,208.019 2282.63,179.359 2289.34,150.222 \n  \"/>\n</svg>\n"
     },
     "metadata": {},
     "execution_count": 9
    }
   ],
   "metadata": {}
  },
  {
   "cell_type": "markdown",
   "source": [
    "## Illumination"
   ],
   "metadata": {}
  },
  {
   "cell_type": "markdown",
   "source": [
    "<img src =img-1.png>"
   ],
   "metadata": {}
  },
  {
   "cell_type": "code",
   "execution_count": null,
   "source": [
    "n = 25*25\n",
    "m =9\n",
    "\n",
    "make_cord(t) = [t%25, (t -t%25)/25]\n",
    "make_num(cord) = Int64(cord[2]*25 + cord[1])\n",
    "\n",
    "A = zeros(n, m)\n",
    "\n",
    "lamps = make_num.([(4, 4), (13, 3), (22, 6), (6, 12), (12, 14), (20 ,13), (4, 19), (13, 18), (17, 18)])\n",
    "\n",
    "\n",
    "for j in 1:m\n",
    "    for i in 1:n\n",
    "        if lamps[j] == i\n",
    "            A[i ,j] = 1\n",
    "        else\n",
    "            A[i, j] = 0.8 / (norm(make_cord(i) - make_cord(lamps[j]))*1)\n",
    "        end\n",
    "    end\n",
    "end\n",
    "\n",
    "b = ones(n)\n",
    "x = A\\ b"
   ],
   "outputs": [],
   "metadata": {}
  },
  {
   "cell_type": "code",
   "execution_count": null,
   "source": [
    "sol = A*x\n",
    "sol_map = [sol[make_num((i, j))] for i in 1:25, j in 0:24]\n",
    "heatmap(sol_map)"
   ],
   "outputs": [],
   "metadata": {}
  },
  {
   "cell_type": "code",
   "execution_count": null,
   "source": [
    "histogram(sol, legend = false)"
   ],
   "outputs": [],
   "metadata": {}
  },
  {
   "cell_type": "code",
   "execution_count": null,
   "source": [
    "simple = A*ones(m)\n",
    "simple_map = [simple[make_num((i, j))] for i in 1:25, j in 0:24]\n",
    "heatmap(simple_map)"
   ],
   "outputs": [],
   "metadata": {}
  },
  {
   "cell_type": "code",
   "execution_count": null,
   "source": [
    "histogram(simple, legend = false)"
   ],
   "outputs": [],
   "metadata": {}
  },
  {
   "cell_type": "markdown",
   "source": [
    "## Tomography"
   ],
   "metadata": {}
  },
  {
   "cell_type": "markdown",
   "source": [
    "<img src=\"img-2.png\">"
   ],
   "metadata": {}
  },
  {
   "cell_type": "code",
   "execution_count": 10,
   "source": [
    "include(\"readclassjson.jl\")"
   ],
   "outputs": [
    {
     "output_type": "execute_result",
     "data": {
      "text/plain": [
       "readclassjson (generic function with 1 method)"
      ]
     },
     "metadata": {},
     "execution_count": 10
    }
   ],
   "metadata": {}
  },
  {
   "cell_type": "code",
   "execution_count": 11,
   "source": [
    "data = readclassjson(\"tomo_data.json\")\n",
    "L = data[\"line_pixel_lengths\"]\n",
    "N = data[\"N\"]\n",
    "npixels = data[\"npixels\"]\n",
    "y = data[\"y\"]\n",
    "n = npixels^2"
   ],
   "outputs": [
    {
     "output_type": "execute_result",
     "data": {
      "text/plain": [
       "900"
      ]
     },
     "metadata": {},
     "execution_count": 11
    }
   ],
   "metadata": {}
  },
  {
   "cell_type": "code",
   "execution_count": 12,
   "source": [
    "A = transpose(L)\n",
    "x = A\\ y"
   ],
   "outputs": [
    {
     "output_type": "execute_result",
     "data": {
      "text/plain": [
       "900-element Vector{Float64}:\n",
       " 211.78961151563868\n",
       "  22.91022711144195\n",
       " 105.91197272229292\n",
       " 254.90777228872676\n",
       " 254.9940338263175\n",
       " 255.51570584633762\n",
       " 254.09421109451768\n",
       " 254.14553899802547\n",
       " 255.05940259819766\n",
       " 255.51828014905425\n",
       " 254.76561982872\n",
       " 255.23879980473575\n",
       " 241.00930383156867\n",
       "   ⋮\n",
       " 241.32657289099203\n",
       " 254.67694750613188\n",
       " 255.03267906893856\n",
       " 255.47456954213908\n",
       " 240.97367926150147\n",
       " 104.81001897801416\n",
       "  22.509817180246554\n",
       "   7.518179514681739\n",
       "  41.58279675916163\n",
       " 139.16951019508326\n",
       " 250.60569833411628\n",
       " 255.06973919711558"
      ]
     },
     "metadata": {},
     "execution_count": 12
    }
   ],
   "metadata": {}
  },
  {
   "cell_type": "code",
   "execution_count": 13,
   "source": [
    "X = reshape(x, npixels, npixels)\n",
    "heatmap(X, yflip = true, aspect_ratio = :equal, color = :gist_gray, cbar = :none, framestyle = :none)"
   ],
   "outputs": [
    {
     "output_type": "execute_result",
     "data": {
      "image/svg+xml": "<?xml version=\"1.0\" encoding=\"utf-8\"?>\n<svg xmlns=\"http://www.w3.org/2000/svg\" xmlns:xlink=\"http://www.w3.org/1999/xlink\" width=\"600\" height=\"400\" viewBox=\"0 0 2400 1600\">\n<defs>\n  <clipPath id=\"clip390\">\n    <rect x=\"0\" y=\"0\" width=\"2400\" height=\"1600\"/>\n  </clipPath>\n</defs>\n<path clip-path=\"url(#clip390)\" d=\"\nM0 1600 L2400 1600 L2400 0 L0 0  Z\n  \" fill=\"#ffffff\" fill-rule=\"evenodd\" fill-opacity=\"1\"/>\n<defs>\n  <clipPath id=\"clip391\">\n    <rect x=\"480\" y=\"0\" width=\"1681\" height=\"1600\"/>\n  </clipPath>\n</defs>\n<path clip-path=\"url(#clip390)\" d=\"\nM140.696 1486.45 L2352.76 1486.45 L2352.76 47.2441 L140.696 47.2441  Z\n  \" fill=\"#ffffff\" fill-rule=\"evenodd\" fill-opacity=\"1\"/>\n<defs>\n  <clipPath id=\"clip392\">\n    <rect x=\"140\" y=\"47\" width=\"2213\" height=\"1440\"/>\n  </clipPath>\n</defs>\n<g clip-path=\"url(#clip392)\">\n<image width=\"1439\" height=\"1439\" xlink:href=\"data:image/png;base64,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\n\" transform=\"translate(527, 47)\"/>\n</g>\n</svg>\n"
     },
     "metadata": {},
     "execution_count": 13
    }
   ],
   "metadata": {}
  },
  {
   "cell_type": "code",
   "execution_count": 20,
   "source": [
    "A_reshape = reshape(A[500, :], npixels, npixels)\n",
    "heatmap(A_reshape, yflip = true, aspect_ratio = :equal, color = :gist_gray, cbar = :none, framestyle = :none)"
   ],
   "outputs": [
    {
     "output_type": "execute_result",
     "data": {
      "image/svg+xml": "<?xml version=\"1.0\" encoding=\"utf-8\"?>\n<svg xmlns=\"http://www.w3.org/2000/svg\" xmlns:xlink=\"http://www.w3.org/1999/xlink\" width=\"600\" height=\"400\" viewBox=\"0 0 2400 1600\">\n<defs>\n  <clipPath id=\"clip590\">\n    <rect x=\"0\" y=\"0\" width=\"2400\" height=\"1600\"/>\n  </clipPath>\n</defs>\n<path clip-path=\"url(#clip590)\" d=\"\nM0 1600 L2400 1600 L2400 0 L0 0  Z\n  \" fill=\"#ffffff\" fill-rule=\"evenodd\" fill-opacity=\"1\"/>\n<defs>\n  <clipPath id=\"clip591\">\n    <rect x=\"480\" y=\"0\" width=\"1681\" height=\"1600\"/>\n  </clipPath>\n</defs>\n<path clip-path=\"url(#clip590)\" d=\"\nM140.696 1486.45 L2352.76 1486.45 L2352.76 47.2441 L140.696 47.2441  Z\n  \" fill=\"#ffffff\" fill-rule=\"evenodd\" fill-opacity=\"1\"/>\n<defs>\n  <clipPath id=\"clip592\">\n    <rect x=\"140\" y=\"47\" width=\"2213\" height=\"1440\"/>\n  </clipPath>\n</defs>\n<g clip-path=\"url(#clip592)\">\n<image width=\"1439\" height=\"1439\" xlink:href=\"data:image/png;base64,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\nAAAAdgFryUA9iNYXzwAAAABJRU5ErkJggg==\n\" transform=\"translate(527, 47)\"/>\n</g>\n</svg>\n"
     },
     "metadata": {},
     "execution_count": 20
    }
   ],
   "metadata": {}
  },
  {
   "cell_type": "markdown",
   "source": [
    "## Factorization"
   ],
   "metadata": {}
  },
  {
   "cell_type": "code",
   "execution_count": 21,
   "source": [
    "A = rand(1:10, 4, 4)"
   ],
   "outputs": [
    {
     "output_type": "execute_result",
     "data": {
      "text/plain": [
       "4×4 Matrix{Int64}:\n",
       " 2  5  1  5\n",
       " 7  4  3  5\n",
       " 5  1  3  2\n",
       " 3  5  8  6"
      ]
     },
     "metadata": {},
     "execution_count": 21
    }
   ],
   "metadata": {}
  },
  {
   "cell_type": "markdown",
   "source": [
    "### LU Factorization"
   ],
   "metadata": {}
  },
  {
   "cell_type": "code",
   "execution_count": 23,
   "source": [
    "F = lu(A)"
   ],
   "outputs": [
    {
     "output_type": "execute_result",
     "data": {
      "text/plain": [
       "LU{Float64, Matrix{Float64}}\n",
       "L factor:\n",
       "4×4 Matrix{Float64}:\n",
       " 1.0        0.0       0.0       0.0\n",
       " 0.285714   1.0       0.0       0.0\n",
       " 0.428571   0.851852  1.0       0.0\n",
       " 0.714286  -0.481481  0.140449  1.0\n",
       "U factor:\n",
       "4×4 Matrix{Float64}:\n",
       " 7.0  4.0      3.0       5.0\n",
       " 0.0  3.85714  0.142857  3.57143\n",
       " 0.0  0.0      6.59259   0.814815\n",
       " 0.0  0.0      0.0       0.0337079"
      ]
     },
     "metadata": {},
     "execution_count": 23
    }
   ],
   "metadata": {}
  },
  {
   "cell_type": "code",
   "execution_count": 24,
   "source": [
    "F.p     #L*U = A[p, :]"
   ],
   "outputs": [
    {
     "output_type": "execute_result",
     "data": {
      "text/plain": [
       "4-element Vector{Int64}:\n",
       " 2\n",
       " 1\n",
       " 4\n",
       " 3"
      ]
     },
     "metadata": {},
     "execution_count": 24
    }
   ],
   "metadata": {}
  },
  {
   "cell_type": "code",
   "execution_count": 26,
   "source": [
    "F.P"
   ],
   "outputs": [
    {
     "output_type": "execute_result",
     "data": {
      "text/plain": [
       "4×4 Matrix{Float64}:\n",
       " 0.0  1.0  0.0  0.0\n",
       " 1.0  0.0  0.0  0.0\n",
       " 0.0  0.0  0.0  1.0\n",
       " 0.0  0.0  1.0  0.0"
      ]
     },
     "metadata": {},
     "execution_count": 26
    }
   ],
   "metadata": {}
  },
  {
   "cell_type": "code",
   "execution_count": 25,
   "source": [
    "reverse(F.P)*F.L*F.U"
   ],
   "outputs": [
    {
     "output_type": "execute_result",
     "data": {
      "text/plain": [
       "4×4 Matrix{Float64}:\n",
       " 2.0  5.0  1.0  5.0\n",
       " 7.0  4.0  3.0  5.0\n",
       " 5.0  1.0  3.0  2.0\n",
       " 3.0  5.0  8.0  6.0"
      ]
     },
     "metadata": {},
     "execution_count": 25
    }
   ],
   "metadata": {}
  },
  {
   "cell_type": "markdown",
   "source": [
    "### QR Factorization"
   ],
   "metadata": {}
  },
  {
   "cell_type": "code",
   "execution_count": 27,
   "source": [
    "F = qr(A)"
   ],
   "outputs": [
    {
     "output_type": "execute_result",
     "data": {
      "text/plain": [
       "LinearAlgebra.QRCompactWY{Float64, Matrix{Float64}}\n",
       "Q factor:\n",
       "4×4 LinearAlgebra.QRCompactWYQ{Float64, Matrix{Float64}}:\n",
       " -0.214423   0.688847   0.551692  -0.418509\n",
       " -0.750479  -0.125245   0.300858   0.574961\n",
       " -0.536056  -0.438357  -0.189149  -0.696211\n",
       " -0.321634   0.563602  -0.754548   0.0977824\n",
       "R factor:\n",
       "4×4 Matrix{Float64}:\n",
       " -9.32738  -6.21825  -6.6471   -7.82642\n",
       "  0.0       5.32291   3.50686   5.32291\n",
       "  0.0       0.0      -5.14957  -0.642839\n",
       "  0.0       0.0       0.0      -0.0234678"
      ]
     },
     "metadata": {},
     "execution_count": 27
    }
   ],
   "metadata": {}
  },
  {
   "cell_type": "code",
   "execution_count": 28,
   "source": [
    "Q, R = F\n",
    "Q'Q     # It's I"
   ],
   "outputs": [
    {
     "output_type": "execute_result",
     "data": {
      "text/plain": [
       "4×4 Matrix{Float64}:\n",
       "  1.0          -1.38778e-16  -2.77556e-17  -7.63278e-17\n",
       " -1.38778e-16   1.0           1.11022e-16  -1.59595e-16\n",
       " -2.77556e-17   1.11022e-16   1.0           1.52656e-16\n",
       " -7.63278e-17  -1.59595e-16   1.52656e-16   1.0"
      ]
     },
     "metadata": {},
     "execution_count": 28
    }
   ],
   "metadata": {}
  },
  {
   "cell_type": "code",
   "execution_count": 29,
   "source": [
    "Q*R"
   ],
   "outputs": [
    {
     "output_type": "execute_result",
     "data": {
      "text/plain": [
       "4×4 Matrix{Float64}:\n",
       " 2.0  5.0  1.0  5.0\n",
       " 7.0  4.0  3.0  5.0\n",
       " 5.0  1.0  3.0  2.0\n",
       " 3.0  5.0  8.0  6.0"
      ]
     },
     "metadata": {},
     "execution_count": 29
    }
   ],
   "metadata": {}
  },
  {
   "cell_type": "markdown",
   "source": [
    "### Eigendecomposition"
   ],
   "metadata": {}
  },
  {
   "cell_type": "code",
   "execution_count": 30,
   "source": [
    "F = eigen(A)"
   ],
   "outputs": [
    {
     "output_type": "execute_result",
     "data": {
      "text/plain": [
       "Eigen{ComplexF64, ComplexF64, Matrix{ComplexF64}, Vector{ComplexF64}}\n",
       "values:\n",
       "4-element Vector{ComplexF64}:\n",
       "  -0.753158999347953 - 1.9939465924557087im\n",
       "  -0.753158999347953 + 1.9939465924557087im\n",
       " 0.08040297296683437 + 0.0im\n",
       "   16.42591502572909 + 0.0im\n",
       "vectors:\n",
       "4×4 Matrix{ComplexF64}:\n",
       " -0.0862625+0.302116im   …   -0.111681+0.0im  0.436282+0.0im\n",
       "  -0.499135-0.0839037im      -0.670578+0.0im  0.570697+0.0im\n",
       "  -0.263283-0.240252im      -0.0785539+0.0im  0.298586+0.0im\n",
       "   0.719771-0.0im             0.729165+0.0im  0.628339+0.0im"
      ]
     },
     "metadata": {},
     "execution_count": 30
    }
   ],
   "metadata": {}
  },
  {
   "cell_type": "code",
   "execution_count": 31,
   "source": [
    "vals, vecs =F.values, F.vectors\n",
    "\n",
    "println(vals[2])\n",
    "(A*vecs[:, 2]) ./ vecs[:, 2] "
   ],
   "outputs": [
    {
     "output_type": "stream",
     "name": "stdout",
     "text": [
      "-0.753158999347953 + 1.9939465924557087im\n"
     ]
    },
    {
     "output_type": "execute_result",
     "data": {
      "text/plain": [
       "4-element Vector{ComplexF64}:\n",
       "  -0.753158999347954 + 1.993946592455714im\n",
       " -0.7531589993479533 + 1.9939465924557063im\n",
       " -0.7531589993479542 + 1.9939465924557063im\n",
       " -0.7531589993479471 + 1.9939465924557085im"
      ]
     },
     "metadata": {},
     "execution_count": 31
    }
   ],
   "metadata": {}
  },
  {
   "cell_type": "code",
   "execution_count": 32,
   "source": [
    "Λ = Diagonal(vals)\n",
    "P = vecs\n",
    "\n",
    "P*Λ*inv(P)"
   ],
   "outputs": [
    {
     "output_type": "execute_result",
     "data": {
      "text/plain": [
       "4×4 Matrix{ComplexF64}:\n",
       " 2.0+4.14242e-16im  5.0-6.2546e-17im   1.0-9.67164e-17im  5.0-4.13886e-18im\n",
       " 7.0+3.24084e-16im  4.0-1.01593e-16im  3.0-6.80545e-17im  5.0+3.16663e-17im\n",
       " 5.0+6.23893e-17im  1.0-2.72864e-17im  3.0-1.67231e-17im  2.0-2.16408e-17im\n",
       " 3.0+8.63263e-17im  5.0-1.64691e-16im  8.0+7.56509e-17im  6.0+2.86763e-18im"
      ]
     },
     "metadata": {},
     "execution_count": 32
    }
   ],
   "metadata": {}
  },
  {
   "cell_type": "markdown",
   "source": [
    "### factorize()"
   ],
   "metadata": {}
  },
  {
   "cell_type": "code",
   "execution_count": 33,
   "source": [
    "F = factorize(A)"
   ],
   "outputs": [
    {
     "output_type": "execute_result",
     "data": {
      "text/plain": [
       "LU{Float64, Matrix{Float64}}\n",
       "L factor:\n",
       "4×4 Matrix{Float64}:\n",
       " 1.0        0.0       0.0       0.0\n",
       " 0.285714   1.0       0.0       0.0\n",
       " 0.428571   0.851852  1.0       0.0\n",
       " 0.714286  -0.481481  0.140449  1.0\n",
       "U factor:\n",
       "4×4 Matrix{Float64}:\n",
       " 7.0  4.0      3.0       5.0\n",
       " 0.0  3.85714  0.142857  3.57143\n",
       " 0.0  0.0      6.59259   0.814815\n",
       " 0.0  0.0      0.0       0.0337079"
      ]
     },
     "metadata": {},
     "execution_count": 33
    }
   ],
   "metadata": {}
  },
  {
   "cell_type": "code",
   "execution_count": 34,
   "source": [
    "F \\ones(4)"
   ],
   "outputs": [
    {
     "output_type": "execute_result",
     "data": {
      "text/plain": [
       "4-element Vector{Float64}:\n",
       "  -2.5000000000000284\n",
       " -17.166666666666853\n",
       "  -2.3333333333333584\n",
       "  18.833333333333535"
      ]
     },
     "metadata": {},
     "execution_count": 34
    }
   ],
   "metadata": {}
  }
 ],
 "metadata": {
  "orig_nbformat": 4,
  "language_info": {
   "file_extension": ".jl",
   "name": "julia",
   "mimetype": "application/julia",
   "version": "1.6.5"
  },
  "kernelspec": {
   "name": "julia-1.6",
   "display_name": "Julia 1.6.1",
   "language": "julia"
  }
 },
 "nbformat": 4,
 "nbformat_minor": 2
}