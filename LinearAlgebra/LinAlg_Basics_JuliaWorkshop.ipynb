{
 "cells": [
  {
   "cell_type": "markdown",
   "source": [
    "# Linear Algebra: Basics"
   ],
   "metadata": {}
  },
  {
   "cell_type": "code",
   "execution_count": 2,
   "source": [
    "using LinearAlgebra\n",
    "using Plots"
   ],
   "outputs": [],
   "metadata": {}
  },
  {
   "cell_type": "markdown",
   "source": [
    "## Vectors"
   ],
   "metadata": {}
  },
  {
   "cell_type": "code",
   "execution_count": 3,
   "source": [
    "v1 = [1.0, 0, -2]"
   ],
   "outputs": [
    {
     "output_type": "execute_result",
     "data": {
      "text/plain": [
       "3-element Vector{Float64}:\n",
       "  1.0\n",
       "  0.0\n",
       " -2.0"
      ]
     },
     "metadata": {},
     "execution_count": 3
    }
   ],
   "metadata": {}
  },
  {
   "cell_type": "markdown",
   "source": [
    "## Matrices"
   ],
   "metadata": {}
  },
  {
   "cell_type": "code",
   "execution_count": 5,
   "source": [
    "A = [1.0 2; 3 4]"
   ],
   "outputs": [
    {
     "output_type": "execute_result",
     "data": {
      "text/plain": [
       "2×2 Matrix{Float64}:\n",
       " 1.0  2.0\n",
       " 3.0  4.0"
      ]
     },
     "metadata": {},
     "execution_count": 5
    }
   ],
   "metadata": {}
  },
  {
   "cell_type": "code",
   "execution_count": 4,
   "source": [
    "A = [1.0 2\n",
    "    3 4]"
   ],
   "outputs": [
    {
     "output_type": "execute_result",
     "data": {
      "text/plain": [
       "2×2 Matrix{Float64}:\n",
       " 1.0  2.0\n",
       " 3.0  4.0"
      ]
     },
     "metadata": {},
     "execution_count": 4
    }
   ],
   "metadata": {}
  },
  {
   "cell_type": "code",
   "execution_count": 6,
   "source": [
    "zeros(2, 2)"
   ],
   "outputs": [
    {
     "output_type": "execute_result",
     "data": {
      "text/plain": [
       "2×2 Matrix{Float64}:\n",
       " 0.0  0.0\n",
       " 0.0  0.0"
      ]
     },
     "metadata": {},
     "execution_count": 6
    }
   ],
   "metadata": {}
  },
  {
   "cell_type": "code",
   "execution_count": 7,
   "source": [
    "ones(Int64, 2, 4)"
   ],
   "outputs": [
    {
     "output_type": "execute_result",
     "data": {
      "text/plain": [
       "2×4 Matrix{Int64}:\n",
       " 1  1  1  1\n",
       " 1  1  1  1"
      ]
     },
     "metadata": {},
     "execution_count": 7
    }
   ],
   "metadata": {}
  },
  {
   "cell_type": "code",
   "execution_count": 8,
   "source": [
    "Diagonal([1, 2, 3, 4])"
   ],
   "outputs": [
    {
     "output_type": "execute_result",
     "data": {
      "text/plain": [
       "4×4 Diagonal{Int64, Vector{Int64}}:\n",
       " 1  ⋅  ⋅  ⋅\n",
       " ⋅  2  ⋅  ⋅\n",
       " ⋅  ⋅  3  ⋅\n",
       " ⋅  ⋅  ⋅  4"
      ]
     },
     "metadata": {},
     "execution_count": 8
    }
   ],
   "metadata": {}
  },
  {
   "cell_type": "code",
   "execution_count": 10,
   "source": [
    "Bidiagonal([1, 2, 3, 4], [7, 7, 7], :L)"
   ],
   "outputs": [
    {
     "output_type": "execute_result",
     "data": {
      "text/plain": [
       "4×4 Bidiagonal{Int64, Vector{Int64}}:\n",
       " 1  ⋅  ⋅  ⋅\n",
       " 7  2  ⋅  ⋅\n",
       " ⋅  7  3  ⋅\n",
       " ⋅  ⋅  7  4"
      ]
     },
     "metadata": {},
     "execution_count": 10
    }
   ],
   "metadata": {}
  },
  {
   "cell_type": "code",
   "execution_count": 11,
   "source": [
    "2*I   # = UniformScaling(2)"
   ],
   "outputs": [
    {
     "output_type": "execute_result",
     "data": {
      "text/plain": [
       "UniformScaling{Int64}\n",
       "2*I"
      ]
     },
     "metadata": {},
     "execution_count": 11
    }
   ],
   "metadata": {}
  },
  {
   "cell_type": "code",
   "execution_count": 12,
   "source": [
    "A + 2*I"
   ],
   "outputs": [
    {
     "output_type": "execute_result",
     "data": {
      "text/plain": [
       "2×2 Matrix{Float64}:\n",
       " 3.0  2.0\n",
       " 3.0  6.0"
      ]
     },
     "metadata": {},
     "execution_count": 12
    }
   ],
   "metadata": {}
  },
  {
   "cell_type": "code",
   "execution_count": 13,
   "source": [
    "eye(n) = Diagonal(ones(n))  # Better than Matrix(1.0*I, (n, n))\n",
    "eye(3)"
   ],
   "outputs": [
    {
     "output_type": "execute_result",
     "data": {
      "text/plain": [
       "3×3 Diagonal{Float64, Vector{Float64}}:\n",
       " 1.0   ⋅    ⋅ \n",
       "  ⋅   1.0   ⋅ \n",
       "  ⋅    ⋅   1.0"
      ]
     },
     "metadata": {},
     "execution_count": 13
    }
   ],
   "metadata": {}
  },
  {
   "cell_type": "code",
   "execution_count": 14,
   "source": [
    "A = [1.0 2; 3 4]\n",
    "block_matrix = [A zeros(2, 2); zeros(2, 2) eye(2)]"
   ],
   "outputs": [
    {
     "output_type": "execute_result",
     "data": {
      "text/plain": [
       "4×4 SparseArrays.SparseMatrixCSC{Float64, Int64} with 6 stored entries:\n",
       " 1.0  2.0   ⋅    ⋅ \n",
       " 3.0  4.0   ⋅    ⋅ \n",
       "  ⋅    ⋅   1.0   ⋅ \n",
       "  ⋅    ⋅    ⋅   1.0"
      ]
     },
     "metadata": {},
     "execution_count": 14
    }
   ],
   "metadata": {}
  },
  {
   "cell_type": "code",
   "execution_count": 16,
   "source": [
    "Symmetric(A, :U)"
   ],
   "outputs": [
    {
     "output_type": "execute_result",
     "data": {
      "text/plain": [
       "2×2 Symmetric{Float64, Matrix{Float64}}:\n",
       " 1.0  2.0\n",
       " 2.0  4.0"
      ]
     },
     "metadata": {},
     "execution_count": 16
    }
   ],
   "metadata": {}
  },
  {
   "cell_type": "code",
   "execution_count": 17,
   "source": [
    "UpperTriangular(A)"
   ],
   "outputs": [
    {
     "output_type": "execute_result",
     "data": {
      "text/plain": [
       "2×2 UpperTriangular{Float64, Matrix{Float64}}:\n",
       " 1.0  2.0\n",
       "  ⋅   4.0"
      ]
     },
     "metadata": {},
     "execution_count": 17
    }
   ],
   "metadata": {}
  },
  {
   "cell_type": "markdown",
   "source": [
    "<img src=img-3.png>"
   ],
   "metadata": {}
  },
  {
   "cell_type": "code",
   "execution_count": 18,
   "source": [
    "n = 5\n",
    "function Dirichlet(n)\n",
    "    D = Bidiagonal(-ones(n-1), ones(n-2), :U)\n",
    "    D = [D [zeros(n - 2)..., 1.0]]\n",
    "    return D\n",
    "end\n",
    "Dirichlet(5)"
   ],
   "outputs": [
    {
     "output_type": "execute_result",
     "data": {
      "text/plain": [
       "4×5 SparseArrays.SparseMatrixCSC{Float64, Int64} with 8 stored entries:\n",
       " -1.0   1.0    ⋅     ⋅    ⋅ \n",
       "   ⋅   -1.0   1.0    ⋅    ⋅ \n",
       "   ⋅     ⋅   -1.0   1.0   ⋅ \n",
       "   ⋅     ⋅     ⋅   -1.0  1.0"
      ]
     },
     "metadata": {},
     "execution_count": 18
    }
   ],
   "metadata": {}
  },
  {
   "cell_type": "markdown",
   "source": [
    "## Basic Functions and Operations"
   ],
   "metadata": {}
  },
  {
   "cell_type": "code",
   "execution_count": 19,
   "source": [
    "v1 = [1.0, 0, -2]\n",
    "v2 = [3.0, 2, 1]"
   ],
   "outputs": [
    {
     "output_type": "execute_result",
     "data": {
      "text/plain": [
       "3-element Vector{Float64}:\n",
       " 3.0\n",
       " 2.0\n",
       " 1.0"
      ]
     },
     "metadata": {},
     "execution_count": 19
    }
   ],
   "metadata": {}
  },
  {
   "cell_type": "code",
   "execution_count": 20,
   "source": [
    "v1 * v2     # Wrong"
   ],
   "outputs": [
    {
     "output_type": "error",
     "ename": "LoadError",
     "evalue": "MethodError: no method matching *(::Vector{Float64}, ::Vector{Float64})\n\u001b[0mClosest candidates are:\n\u001b[0m  *(::Any, ::Any, \u001b[91m::Any\u001b[39m, \u001b[91m::Any...\u001b[39m) at operators.jl:560\n\u001b[0m  *(\u001b[91m::StridedMatrix{T}\u001b[39m, ::StridedVector{S}) where {T<:Union{Float32, Float64, ComplexF32, ComplexF64}, S<:Real} at /builddir/build/BUILD/julia-1.6.5/build/usr/share/julia/stdlib/v1.6/LinearAlgebra/src/matmul.jl:44\n\u001b[0m  *(::StridedVecOrMat{T} where T, \u001b[91m::Adjoint{var\"#s814\", var\"#s813\"} where {var\"#s814\", var\"#s813\"<:LinearAlgebra.LQPackedQ}\u001b[39m) at /builddir/build/BUILD/julia-1.6.5/build/usr/share/julia/stdlib/v1.6/LinearAlgebra/src/lq.jl:254\n\u001b[0m  ...",
     "traceback": [
      "MethodError: no method matching *(::Vector{Float64}, ::Vector{Float64})\n\u001b[0mClosest candidates are:\n\u001b[0m  *(::Any, ::Any, \u001b[91m::Any\u001b[39m, \u001b[91m::Any...\u001b[39m) at operators.jl:560\n\u001b[0m  *(\u001b[91m::StridedMatrix{T}\u001b[39m, ::StridedVector{S}) where {T<:Union{Float32, Float64, ComplexF32, ComplexF64}, S<:Real} at /builddir/build/BUILD/julia-1.6.5/build/usr/share/julia/stdlib/v1.6/LinearAlgebra/src/matmul.jl:44\n\u001b[0m  *(::StridedVecOrMat{T} where T, \u001b[91m::Adjoint{var\"#s814\", var\"#s813\"} where {var\"#s814\", var\"#s813\"<:LinearAlgebra.LQPackedQ}\u001b[39m) at /builddir/build/BUILD/julia-1.6.5/build/usr/share/julia/stdlib/v1.6/LinearAlgebra/src/lq.jl:254\n\u001b[0m  ...",
      "",
      "Stacktrace:",
      " [1] top-level scope",
      "   @ In[20]:1",
      " [2] eval",
      "   @ ./boot.jl:360 [inlined]",
      " [3] include_string(mapexpr::typeof(REPL.softscope), mod::Module, code::String, filename::String)",
      "   @ Base ./loading.jl:1116"
     ]
    }
   ],
   "metadata": {}
  },
  {
   "cell_type": "code",
   "execution_count": 21,
   "source": [
    "v1 .* v2    # Element-wise product"
   ],
   "outputs": [
    {
     "output_type": "execute_result",
     "data": {
      "text/plain": [
       "3-element Vector{Float64}:\n",
       "  3.0\n",
       "  0.0\n",
       " -2.0"
      ]
     },
     "metadata": {},
     "execution_count": 21
    }
   ],
   "metadata": {}
  },
  {
   "cell_type": "code",
   "execution_count": 22,
   "source": [
    "dot(v1, v2)     # Inner product = v1' * v2"
   ],
   "outputs": [
    {
     "output_type": "execute_result",
     "data": {
      "text/plain": [
       "1.0"
      ]
     },
     "metadata": {},
     "execution_count": 22
    }
   ],
   "metadata": {}
  },
  {
   "cell_type": "code",
   "execution_count": 23,
   "source": [
    "c1 = [1+im 0]\n",
    "dot(c1, c1)     # = c1' * c1"
   ],
   "outputs": [
    {
     "output_type": "execute_result",
     "data": {
      "text/plain": [
       "2 + 0im"
      ]
     },
     "metadata": {},
     "execution_count": 23
    }
   ],
   "metadata": {}
  },
  {
   "cell_type": "code",
   "execution_count": 24,
   "source": [
    "println(length(v1))\n",
    "println(size(A))\n",
    "\n",
    "println(sum(v1))\n",
    "# println(sum(A))\n",
    "\n",
    "println(norm(v1))\n",
    "# println(norm(A))      # Frobenius norm = sqrt(sum(A.^2))\n",
    "\n",
    "println(diag(A))\n",
    "println(sum(diag(A)))    # Trace of A"
   ],
   "outputs": [
    {
     "output_type": "stream",
     "name": "stdout",
     "text": [
      "3\n",
      "(2, 2)\n",
      "-1.0\n",
      "2.23606797749979\n",
      "[1.0, 4.0]\n",
      "5.0\n"
     ]
    }
   ],
   "metadata": {}
  },
  {
   "cell_type": "markdown",
   "source": [
    "## \"Try Not To Use\" Functions"
   ],
   "metadata": {}
  },
  {
   "cell_type": "code",
   "execution_count": 25,
   "source": [
    "det(A)  # Who needs it anyway"
   ],
   "outputs": [
    {
     "output_type": "execute_result",
     "data": {
      "text/plain": [
       "-2.0"
      ]
     },
     "metadata": {},
     "execution_count": 25
    }
   ],
   "metadata": {}
  },
  {
   "cell_type": "code",
   "execution_count": 26,
   "source": [
    "inv(A)  # You need it for sure but you are not going to need it anymore"
   ],
   "outputs": [
    {
     "output_type": "execute_result",
     "data": {
      "text/plain": [
       "2×2 Matrix{Float64}:\n",
       " -2.0   1.0\n",
       "  1.5  -0.5"
      ]
     },
     "metadata": {},
     "execution_count": 26
    }
   ],
   "metadata": {}
  },
  {
   "cell_type": "code",
   "execution_count": 27,
   "source": [
    "pinv(A)     # Pseudoinverse (or Moore-Penrose inverse) and it's even worse"
   ],
   "outputs": [
    {
     "output_type": "execute_result",
     "data": {
      "text/plain": [
       "2×2 Matrix{Float64}:\n",
       " -2.0   1.0\n",
       "  1.5  -0.5"
      ]
     },
     "metadata": {},
     "execution_count": 27
    }
   ],
   "metadata": {}
  }
 ],
 "metadata": {
  "orig_nbformat": 4,
  "language_info": {
   "file_extension": ".jl",
   "name": "julia",
   "mimetype": "application/julia",
   "version": "1.6.5"
  },
  "kernelspec": {
   "name": "julia-1.6",
   "display_name": "Julia 1.6.1",
   "language": "julia"
  }
 },
 "nbformat": 4,
 "nbformat_minor": 2
}